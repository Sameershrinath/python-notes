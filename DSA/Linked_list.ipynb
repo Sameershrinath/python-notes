{
 "cells": [
  {
   "cell_type": "markdown",
   "metadata": {},
   "source": [
    "# **What is the Linked List?**"
   ]
  },
  {
   "cell_type": "markdown",
   "metadata": {},
   "source": [
    "## A link list is the linear data structure in which elements called nodes are linked using pointers."
   ]
  },
  {
   "cell_type": "code",
   "execution_count": 1,
   "metadata": {},
   "outputs": [],
   "source": [
    "class node:\n",
    "    def __init__(self,data,next=None):\n",
    "        self.data=data\n",
    "        self.next=next"
   ]
  },
  {
   "cell_type": "markdown",
   "metadata": {},
   "source": [
    "Making the nodes"
   ]
  },
  {
   "cell_type": "code",
   "execution_count": 2,
   "metadata": {},
   "outputs": [],
   "source": [
    "node1=node(10)\n",
    "node2=node(11)\n",
    "node3=node(12)\n",
    "node4=node(13)\n",
    "node5=node(14)\n"
   ]
  },
  {
   "cell_type": "markdown",
   "metadata": {},
   "source": [
    "Linking the nodes"
   ]
  },
  {
   "cell_type": "code",
   "execution_count": 3,
   "metadata": {},
   "outputs": [],
   "source": [
    "node1.next=node2\n",
    "node2.next=node3\n",
    "node3.next=node4\n",
    "node4.next=node5"
   ]
  },
  {
   "cell_type": "markdown",
   "metadata": {},
   "source": [
    "## **Transversing in the linked list**"
   ]
  },
  {
   "cell_type": "code",
   "execution_count": 4,
   "metadata": {},
   "outputs": [
    {
     "name": "stdout",
     "output_type": "stream",
     "text": [
      "10->11->12->13->14."
     ]
    }
   ],
   "source": [
    "def Transversing_linkedlist(head):\n",
    "    current=head\n",
    "    while current:\n",
    "        if current.next == None:\n",
    "            print(current.data,end='.')\n",
    "        else:\n",
    "            print(current.data,end='->')\n",
    "        current=current.next\n",
    "\n",
    "\n",
    "Transversing_linkedlist(node1)"
   ]
  },
  {
   "cell_type": "markdown",
   "metadata": {},
   "source": [
    "# **INSERTION**"
   ]
  },
  {
   "cell_type": "markdown",
   "metadata": {},
   "source": [
    "# **Insertion have the three case: Beginning, Middle and End**"
   ]
  },
  {
   "cell_type": "code",
   "execution_count": 5,
   "metadata": {},
   "outputs": [],
   "source": [
    "def insertion_beg(head,new_data):\n",
    "    \n",
    "    if head is None:\n",
    "        head= node(new_data)\n",
    "        return head\n",
    "    else:\n",
    "        temp=node(new_data)\n",
    "        temp.next=head\n",
    "        head=temp\n",
    "        return head"
   ]
  },
  {
   "cell_type": "code",
   "execution_count": 6,
   "metadata": {},
   "outputs": [
    {
     "name": "stdout",
     "output_type": "stream",
     "text": [
      "9->10->11->12->13->14."
     ]
    }
   ],
   "source": [
    "temp=insertion_beg(node1,9)\n",
    "head=temp\n",
    "Transversing_linkedlist(head)\n"
   ]
  },
  {
   "cell_type": "markdown",
   "metadata": {},
   "source": [
    "### **Insertion at the end**"
   ]
  },
  {
   "cell_type": "code",
   "execution_count": 7,
   "metadata": {},
   "outputs": [],
   "source": [
    "\n",
    "def insertion_at_end(head, new_data):\n",
    "    temp = node(new_data)  # Create a new node with the given data\n",
    "    \n",
    "    if head == None:  # If the list is empty, the new node becomes the head\n",
    "        return temp\n",
    "   \n",
    "    current = head\n",
    "    while current.next != None:  # Traverse to the last node\n",
    "        current = current.next\n",
    "    \n",
    "    current.next = temp  # Link the last node to the new node\n",
    "    return head  # Return the head of the list\n"
   ]
  },
  {
   "cell_type": "code",
   "execution_count": 8,
   "metadata": {},
   "outputs": [
    {
     "name": "stdout",
     "output_type": "stream",
     "text": [
      "9->10->11->12->13->14->15."
     ]
    }
   ],
   "source": [
    "newnode=insertion_at_end(head,15)\n",
    "Transversing_linkedlist(newnode)\n"
   ]
  },
  {
   "cell_type": "markdown",
   "metadata": {},
   "source": [
    "## **Insertion in the Middle**"
   ]
  },
  {
   "cell_type": "code",
   "execution_count": 9,
   "metadata": {},
   "outputs": [],
   "source": [
    "def insertion_middle(head, position, new_data):\n",
    "    temp = node(new_data)  # Create a new node with the given data\n",
    "    if position == 0:  # If the position is 0, insert at the beginning\n",
    "        temp.next = head  \n",
    "        return temp  \n",
    "    \n",
    "    current = head\n",
    "    count = 0\n",
    "    \n",
    "    # Traverse to the node just before the desired position\n",
    "    while count < position - 1 and current is not None:\n",
    "        current = current.next\n",
    "        count += 1\n",
    "\n",
    "    # If position is out of bounds, do nothing\n",
    "    if current is None:\n",
    "        print(\"Position is not available\")\n",
    "        return head\n",
    "\n",
    "    # Insert the new node\n",
    "    temp.next = current.next \n",
    "    current.next = temp  \n",
    "        \n",
    "    return head  # Return the head of the list"
   ]
  },
  {
   "cell_type": "code",
   "execution_count": 10,
   "metadata": {},
   "outputs": [
    {
     "name": "stdout",
     "output_type": "stream",
     "text": [
      "9->10->11->12->6->13->14->15."
     ]
    }
   ],
   "source": [
    "insertion_middle(head,4,6)\n",
    "Transversing_linkedlist(head)"
   ]
  },
  {
   "cell_type": "markdown",
   "metadata": {},
   "source": [
    "# **4th practical of DSA**"
   ]
  },
  {
   "cell_type": "markdown",
   "metadata": {},
   "source": [
    "### **Deletion in the beginning**"
   ]
  },
  {
   "cell_type": "code",
   "execution_count": 11,
   "metadata": {},
   "outputs": [],
   "source": [
    "def delete_from_beginning(head):\n",
    "    if head is None:\n",
    "        print(\"List is empty\")\n",
    "        return head\n",
    "    \n",
    "    # Move head to the next node\n",
    "    current=head\n",
    "    head = head.next\n",
    "    return head\n"
   ]
  },
  {
   "cell_type": "code",
   "execution_count": 12,
   "metadata": {},
   "outputs": [
    {
     "name": "stdout",
     "output_type": "stream",
     "text": [
      "10->11->12->6->13->14->15."
     ]
    }
   ],
   "source": [
    "newlinklist=delete_from_beginning(head)\n",
    "Transversing_linkedlist(newlinklist)"
   ]
  },
  {
   "cell_type": "markdown",
   "metadata": {},
   "source": [
    "## **Deletion from the end**"
   ]
  },
  {
   "cell_type": "code",
   "execution_count": 13,
   "metadata": {},
   "outputs": [],
   "source": [
    "def delete_from_end(head):\n",
    "    if head is None:\n",
    "        print(\"List is empty\")\n",
    "        return head\n",
    "    \n",
    "    if head.next is None:  # If there's only one node\n",
    "        return None\n",
    "    \n",
    "    current = head\n",
    "    while current.next.next is not None:\n",
    "        current = current.next\n",
    "    \n",
    "    # Remove the last node\n",
    "    current.next = None\n",
    "    return head\n"
   ]
  },
  {
   "cell_type": "code",
   "execution_count": 14,
   "metadata": {},
   "outputs": [
    {
     "name": "stdout",
     "output_type": "stream",
     "text": [
      "9->10->11->12->6->13->14."
     ]
    }
   ],
   "source": [
    "delete_from_end(head)\n",
    "Transversing_linkedlist(head)"
   ]
  },
  {
   "cell_type": "markdown",
   "metadata": {},
   "source": [
    "## **Deletion from the middle**"
   ]
  },
  {
   "cell_type": "code",
   "execution_count": 15,
   "metadata": {},
   "outputs": [],
   "source": [
    "\n",
    "def delete_from_middle(head, position):\n",
    "    if head is None:\n",
    "        print(\"List is empty\")\n",
    "        return head\n",
    "    \n",
    "    if position == 0:  # Special case: delete the head node\n",
    "        return delete_from_beginning(head)\n",
    "    \n",
    "    current = head\n",
    "    count = 0\n",
    "    \n",
    "    # Traverse to the node just before the desired position\n",
    "    while count < position - 1 and current is not None:\n",
    "        current = current.next\n",
    "        count += 1\n",
    "    \n",
    "    # If position is out of bounds\n",
    "    if current is None or current.next is None:\n",
    "        print(\"Position is out of bounds\")\n",
    "        return head\n",
    "    \n",
    "    # Delete the node\n",
    "    current.next = current.next.next\n",
    "    \n",
    "    return head\n"
   ]
  },
  {
   "cell_type": "code",
   "execution_count": 16,
   "metadata": {},
   "outputs": [
    {
     "name": "stdout",
     "output_type": "stream",
     "text": [
      "9->10->11->12->13->14."
     ]
    }
   ],
   "source": [
    "delete_from_middle(head,4)\n",
    "Transversing_linkedlist(head)"
   ]
  },
  {
   "cell_type": "code",
   "execution_count": 17,
   "metadata": {},
   "outputs": [
    {
     "name": "stdout",
     "output_type": "stream",
     "text": [
      "9->10->11->12->13->14."
     ]
    }
   ],
   "source": [
    "Transversing_linkedlist(head)"
   ]
  },
  {
   "cell_type": "markdown",
   "metadata": {},
   "source": [
    "# **5th Practicals of the DSA**"
   ]
  },
  {
   "cell_type": "markdown",
   "metadata": {},
   "source": [
    "# Insertion and Deletion in the Doubly Linked list\n"
   ]
  },
  {
   "cell_type": "code",
   "execution_count": 18,
   "metadata": {},
   "outputs": [],
   "source": [
    "class Node:\n",
    "    def __init__(self,prev=None,item=None,next=None):\n",
    "        self.prev=prev\n",
    "        self.item=item\n",
    "        self.next=next\n",
    "class DLL:\n",
    "    def __init__(self,start=None):\n",
    "        self.start=start\n",
    "    def is_empty(self):\n",
    "        return self.start==None\n",
    "    def insert_at_beggining(self,data):\n",
    "        new_node=Node(None,data,self.start)\n",
    "        if not self.is_empty():\n",
    "            self.start.prev=new_node\n",
    "        self.start=new_node\n",
    "    def insert_at_last(self,data):\n",
    "        new_node=Node(None,data,None)\n",
    "        if not self.is_empty():\n",
    "            current=self.start\n",
    "            while current.next is not None:\n",
    "                current=current.next\n",
    "            current.next=new_node\n",
    "            new_node.prev=current\n",
    "        else:\n",
    "            self.start=new_node\n",
    "    def search(self,data):\n",
    "            temp=self.start\n",
    "            while temp is not None:\n",
    "                if temp.item==data:\n",
    "                    return temp \n",
    "                temp=temp.next\n",
    "            return None\n",
    "    def insert_after(self,temp,data):\n",
    "        if temp is not None:\n",
    "            new_node=Node(temp,data,temp.next)\n",
    "            if temp.next is not None:\n",
    "                temp.next.prev=new_node\n",
    "            temp.next=new_node\n",
    "    def print_list(self):\n",
    "        temp=self.start\n",
    "        while temp is not None:\n",
    "            print(temp.item,end=\"->\")\n",
    "            temp=temp.next\n",
    "\n",
    "        print(None)\n",
    "    def delete_first(self):\n",
    "        if self.start is not None:\n",
    "            self.start=self.start.next\n",
    "            if self.start is not None:\n",
    "                self.start.prev=None\n",
    "    def delete_last(self):\n",
    "        if self.start is not None:\n",
    "            temp=self.start\n",
    "            while temp.next is not None:\n",
    "                temp=temp.next\n",
    "            temp.prev.next=None\n",
    "        elif self.start is None:\n",
    "            pass\n",
    "        elif self.start.next is None:\n",
    "            self.start=None\n",
    "    def delete_item(self,data):\n",
    "        if self.start is None:\n",
    "            pass\n",
    "        else:\n",
    "            temp=self.start\n",
    "            while temp.next is not None:\n",
    "                if temp.item==data:\n",
    "                    if temp.next is not None:\n",
    "                        temp.next.prev=temp.prev\n",
    "                    if temp.prev is not None:\n",
    "                        temp.prev.next=temp.next\n",
    "                    else:\n",
    "                        self.start=temp.next\n",
    "                    break\n",
    "                temp=temp.next\n",
    "            \n",
    "            \n"
   ]
  },
  {
   "cell_type": "code",
   "execution_count": 19,
   "metadata": {},
   "outputs": [],
   "source": [
    "mydll=DLL()"
   ]
  },
  {
   "cell_type": "code",
   "execution_count": 20,
   "metadata": {},
   "outputs": [
    {
     "data": {
      "text/plain": [
       "True"
      ]
     },
     "execution_count": 20,
     "metadata": {},
     "output_type": "execute_result"
    }
   ],
   "source": [
    "mydll.is_empty()"
   ]
  },
  {
   "cell_type": "code",
   "execution_count": 21,
   "metadata": {},
   "outputs": [
    {
     "name": "stdout",
     "output_type": "stream",
     "text": [
      "55->59->None\n"
     ]
    }
   ],
   "source": [
    "mydll.insert_at_beggining(55)\n",
    "mydll.insert_at_last(59)\n",
    "mydll.print_list()"
   ]
  },
  {
   "cell_type": "code",
   "execution_count": 22,
   "metadata": {},
   "outputs": [
    {
     "name": "stdout",
     "output_type": "stream",
     "text": [
      "55->56->57->58->59->None\n"
     ]
    }
   ],
   "source": [
    "mydll.insert_after(mydll.search(55),56)\n",
    "mydll.insert_after(mydll.search(56),57)\n",
    "mydll.insert_after(mydll.search(57),58)\n",
    "mydll.print_list()\n"
   ]
  },
  {
   "cell_type": "code",
   "execution_count": 23,
   "metadata": {},
   "outputs": [
    {
     "name": "stdout",
     "output_type": "stream",
     "text": [
      "56->57->58->59->None\n"
     ]
    }
   ],
   "source": [
    "mydll.delete_first()\n",
    "mydll.print_list()"
   ]
  },
  {
   "cell_type": "code",
   "execution_count": 24,
   "metadata": {},
   "outputs": [
    {
     "name": "stdout",
     "output_type": "stream",
     "text": [
      "56->57->58->None\n"
     ]
    }
   ],
   "source": [
    "mydll.delete_last()\n",
    "mydll.print_list()"
   ]
  },
  {
   "cell_type": "code",
   "execution_count": 25,
   "metadata": {},
   "outputs": [
    {
     "name": "stdout",
     "output_type": "stream",
     "text": [
      "56->58->None\n"
     ]
    }
   ],
   "source": [
    "mydll.delete_item(57)\n",
    "mydll.print_list()"
   ]
  },
  {
   "cell_type": "markdown",
   "metadata": {},
   "source": [
    "## **Circular linked list-sll**"
   ]
  },
  {
   "cell_type": "code",
   "execution_count": 166,
   "metadata": {},
   "outputs": [],
   "source": [
    "class Node:\n",
    "    def __init__(self, item=None):\n",
    "        self.item = item\n",
    "        self.next = None\n",
    "\n",
    "class CircularLinkedList:\n",
    "    def __init__(self):\n",
    "        self.head = None\n",
    "\n",
    "    def is_empty(self):\n",
    "        return self.head is None\n",
    "\n",
    "    def insert_at_beginning(self, data):\n",
    "        new_node = Node(data)\n",
    "        if self.is_empty():\n",
    "            self.head = new_node\n",
    "            new_node.next = new_node  # Point to itself\n",
    "        else:\n",
    "            current = self.head\n",
    "            while current.next != self.head:  # Traverse to the last node\n",
    "                current = current.next\n",
    "            current.next = new_node\n",
    "            new_node.next = self.head\n",
    "            self.head = new_node\n",
    "\n",
    "    def insert_at_end(self, data):\n",
    "        new_node = Node(data)\n",
    "        if self.is_empty():\n",
    "            self.head = new_node\n",
    "            new_node.next = new_node  # Point to itself\n",
    "        else:\n",
    "            current = self.head\n",
    "            while current.next != self.head:  # Traverse to the last node\n",
    "                current = current.next\n",
    "            current.next = new_node\n",
    "            new_node.next = self.head\n",
    "\n",
    "    def search(self, data):\n",
    "        if self.is_empty():\n",
    "            return None\n",
    "        current = self.head\n",
    "        while True:\n",
    "            if current.item == data:\n",
    "                return current\n",
    "            current = current.next\n",
    "            if current == self.head:  # Loop back to start\n",
    "                break\n",
    "        return None\n",
    "    \n",
    "\n",
    "    def insert_at_middle(self, position, data):\n",
    "        if self.is_empty():\n",
    "            return 'List is empty'\n",
    "\n",
    "        new_node = Node(data)\n",
    "        current = self.head\n",
    "\n",
    "        if position == 0:\n",
    "            self.insert_at_beginning(data)\n",
    "            return\n",
    "\n",
    "        index = 0\n",
    "        while index < position - 1 and current.next != self.head:\n",
    "            current = current.next\n",
    "            index += 1\n",
    "\n",
    "        new_node.next = current.next\n",
    "        current.next = new_node\n",
    "    def delete_from_beginning(self):\n",
    "        if self.is_empty():\n",
    "            return\n",
    "\n",
    "        current = self.head\n",
    "\n",
    "        if current.next == self.head:\n",
    "            self.head = None\n",
    "        else:\n",
    "            \n",
    "            last_node = self.head\n",
    "            while last_node.next != self.head:\n",
    "                last_node = last_node.next\n",
    "\n",
    "            self.head = self.head.next\n",
    "\n",
    "            last_node.next = self.head\n",
    "\n",
    "    def delete_from_end(self):\n",
    "        if self.head==None:\n",
    "            return\n",
    "        current=self.head\n",
    "        while current.next.next !=self.head:\n",
    "            current=current.next\n",
    "        current.next=self.head\n",
    "\n",
    "    def delete_at_position(self,position):\n",
    "        if self.head==None:\n",
    "            return\n",
    "        if position==1:\n",
    "            return self.delete_from_beginning()\n",
    "        index=0\n",
    "        current=self.head\n",
    "        while index<position and current!=self.head:\n",
    "            index=index+1\n",
    "            current=current.next\n",
    "        current.next=current.next.next\n",
    "\n",
    "    def print_list(self):\n",
    "        if self.is_empty():\n",
    "            print(\"List is empty.\")\n",
    "            return\n",
    "        current = self.head\n",
    "        while True:\n",
    "            print(current.item, end=\" -> \")\n",
    "            current = current.next\n",
    "            if current == self.head:  # Loop back to start\n",
    "                break\n",
    "        print(\"(head)\")\n",
    "\n"
   ]
  },
  {
   "cell_type": "code",
   "execution_count": 167,
   "metadata": {},
   "outputs": [],
   "source": [
    "cll=CircularLinkedList()"
   ]
  },
  {
   "cell_type": "code",
   "execution_count": 168,
   "metadata": {},
   "outputs": [
    {
     "name": "stdout",
     "output_type": "stream",
     "text": [
      "9 -> 10 -> 11 -> 12 -> (head)\n"
     ]
    }
   ],
   "source": [
    "cll.insert_at_beginning(12)\n",
    "cll.insert_at_beginning(11)\n",
    "cll.insert_at_beginning(10)\n",
    "cll.insert_at_beginning(9)\n",
    "cll.print_list()"
   ]
  },
  {
   "cell_type": "code",
   "execution_count": 169,
   "metadata": {},
   "outputs": [
    {
     "name": "stdout",
     "output_type": "stream",
     "text": [
      "9 -> 10 -> 11 -> 12 -> (head)\n"
     ]
    }
   ],
   "source": [
    "cll.print_list()"
   ]
  },
  {
   "cell_type": "code",
   "execution_count": 170,
   "metadata": {},
   "outputs": [
    {
     "name": "stdout",
     "output_type": "stream",
     "text": [
      "9 -> 10 -> 11 -> 11.5 -> 12 -> 12.5 -> (head)\n"
     ]
    }
   ],
   "source": [
    "cll.insert_at_middle(3,11.5)\n",
    "cll.insert_at_middle(5,12.5)\n",
    "cll.print_list()"
   ]
  },
  {
   "cell_type": "code",
   "execution_count": 171,
   "metadata": {},
   "outputs": [
    {
     "name": "stdout",
     "output_type": "stream",
     "text": [
      "10 -> 11 -> 11.5 -> 12 -> 12.5 -> (head)\n"
     ]
    }
   ],
   "source": [
    "cll.delete_from_beginning()\n",
    "cll.print_list()"
   ]
  },
  {
   "cell_type": "code",
   "execution_count": 172,
   "metadata": {},
   "outputs": [
    {
     "name": "stdout",
     "output_type": "stream",
     "text": [
      "10 -> 11 -> 11.5 -> 12 -> (head)\n"
     ]
    }
   ],
   "source": [
    "cll.delete_from_end()\n",
    "cll.print_list()"
   ]
  },
  {
   "cell_type": "code",
   "execution_count": 175,
   "metadata": {},
   "outputs": [
    {
     "name": "stdout",
     "output_type": "stream",
     "text": [
      "11.5 -> 12 -> (head)\n"
     ]
    }
   ],
   "source": [
    "cll.delete_at_position(1)\n",
    "cll.print_list()"
   ]
  },
  {
   "cell_type": "code",
   "execution_count": null,
   "metadata": {},
   "outputs": [],
   "source": []
  },
  {
   "cell_type": "code",
   "execution_count": null,
   "metadata": {},
   "outputs": [],
   "source": []
  },
  {
   "cell_type": "code",
   "execution_count": null,
   "metadata": {},
   "outputs": [],
   "source": []
  },
  {
   "cell_type": "code",
   "execution_count": null,
   "metadata": {},
   "outputs": [],
   "source": []
  },
  {
   "cell_type": "code",
   "execution_count": null,
   "metadata": {},
   "outputs": [],
   "source": []
  },
  {
   "cell_type": "code",
   "execution_count": null,
   "metadata": {},
   "outputs": [],
   "source": []
  },
  {
   "cell_type": "code",
   "execution_count": null,
   "metadata": {},
   "outputs": [],
   "source": []
  },
  {
   "cell_type": "markdown",
   "metadata": {},
   "source": [
    "## **Circular linked list-DLL**"
   ]
  },
  {
   "cell_type": "code",
   "execution_count": 27,
   "metadata": {},
   "outputs": [
    {
     "name": "stdout",
     "output_type": "stream",
     "text": [
      "5 <-> 10 <-> 20 <-> (head)\n",
      "5 <-> 20 <-> (head)\n",
      "Found: 20\n"
     ]
    }
   ],
   "source": [
    "class Node:\n",
    "    def __init__(self, item=None):\n",
    "        self.item = item\n",
    "        self.next = None\n",
    "        self.prev = None\n",
    "\n",
    "class DoublyCircularLinkedList:\n",
    "    def __init__(self):\n",
    "        self.head = None\n",
    "\n",
    "    def is_empty(self):\n",
    "        return self.head is None\n",
    "\n",
    "    def insert_at_beginning(self, data):\n",
    "        new_node = Node(data)\n",
    "        if self.is_empty():\n",
    "            self.head = new_node\n",
    "            new_node.next = new_node\n",
    "            new_node.prev = new_node\n",
    "        else:\n",
    "            tail = self.head.prev  # Get the last node (tail)\n",
    "            new_node.next = self.head\n",
    "            new_node.prev = tail\n",
    "            tail.next = new_node\n",
    "            self.head.prev = new_node\n",
    "            self.head = new_node\n",
    "\n",
    "    def insert_at_end(self, data):\n",
    "        new_node = Node(data)\n",
    "        if self.is_empty():\n",
    "            self.head = new_node\n",
    "            new_node.next = new_node\n",
    "            new_node.prev = new_node\n",
    "        else:\n",
    "            tail = self.head.prev  # Get the last node (tail)\n",
    "            tail.next = new_node\n",
    "            new_node.prev = tail\n",
    "            new_node.next = self.head\n",
    "            self.head.prev = new_node\n",
    "\n",
    "    def search(self, data):\n",
    "        if self.is_empty():\n",
    "            return None\n",
    "        current = self.head\n",
    "        while True:\n",
    "            if current.item == data:\n",
    "                return current\n",
    "            current = current.next\n",
    "            if current == self.head:  # Loop back to start\n",
    "                break\n",
    "        return None\n",
    "\n",
    "    def delete_node(self, key):\n",
    "        if self.is_empty():\n",
    "            return\n",
    "\n",
    "        current = self.head\n",
    "\n",
    "        # If the list has only one node\n",
    "        if current.item == key and current.next == self.head:\n",
    "            self.head = None\n",
    "            return\n",
    "\n",
    "        # If the node to be deleted is the head\n",
    "        if current.item == key:\n",
    "            tail = current.prev\n",
    "            tail.next = current.next\n",
    "            current.next.prev = tail\n",
    "            self.head = current.next\n",
    "            return\n",
    "\n",
    "        # Traverse the list to find the node to delete\n",
    "        while current.next != self.head and current.item != key:\n",
    "            current = current.next\n",
    "\n",
    "        # If the node was found\n",
    "        if current.item == key:\n",
    "            current.prev.next = current.next\n",
    "            current.next.prev = current.prev\n",
    "\n",
    "    def print_list(self):\n",
    "        if self.is_empty():\n",
    "            print(\"List is empty.\")\n",
    "            return\n",
    "        current = self.head\n",
    "        while True:\n",
    "            print(current.item, end=\" <-> \")\n",
    "            current = current.next\n",
    "            if current == self.head:  # Loop back to start\n",
    "                break\n",
    "        print(\"(head)\")\n",
    "\n",
    "# Example usage\n",
    "if __name__ == \"__main__\":\n",
    "    dcll = DoublyCircularLinkedList()\n",
    "    dcll.insert_at_end(10)\n",
    "    dcll.insert_at_end(20)\n",
    "    dcll.insert_at_beginning(5)\n",
    "    dcll.print_list()  # Output: 5 <-> 10 <-> 20 <-> (head)\n",
    "\n",
    "    dcll.delete_node(10)\n",
    "    dcll.print_list()  # Output: 5 <-> 20 <-> (head)\n",
    "\n",
    "    node = dcll.search(20)\n",
    "    print(\"Found:\", node.item if node else \"Not found\")  # Output: Found: 20\n"
   ]
  },
  {
   "cell_type": "markdown",
   "metadata": {},
   "source": []
  },
  {
   "cell_type": "markdown",
   "metadata": {},
   "source": [
    "## **Unrolled Linked List**"
   ]
  },
  {
   "cell_type": "code",
   "execution_count": null,
   "metadata": {},
   "outputs": [],
   "source": [
    "# It have many data elements in the same Node which can be used to save the reference storage."
   ]
  },
  {
   "cell_type": "markdown",
   "metadata": {},
   "source": [
    "## **SKip List**"
   ]
  },
  {
   "cell_type": "code",
   "execution_count": 28,
   "metadata": {},
   "outputs": [],
   "source": [
    "#Only possible when the linked list is sorted\n",
    "\n",
    "# Upper layer\n",
    "# 10---------->40------------->60------------>70\n",
    "        #   |\n",
    "        #   w\n",
    "    #   Express line \n",
    "# 10->12->16->40->45->50->55->58->60->62->65->70"
   ]
  }
 ],
 "metadata": {
  "kernelspec": {
   "display_name": "base",
   "language": "python",
   "name": "python3"
  },
  "language_info": {
   "codemirror_mode": {
    "name": "ipython",
    "version": 3
   },
   "file_extension": ".py",
   "mimetype": "text/x-python",
   "name": "python",
   "nbconvert_exporter": "python",
   "pygments_lexer": "ipython3",
   "version": "3.11.5"
  }
 },
 "nbformat": 4,
 "nbformat_minor": 2
}
