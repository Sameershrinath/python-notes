{
 "cells": [
  {
   "cell_type": "markdown",
   "metadata": {},
   "source": [
    "# **What is the Linked List?**"
   ]
  },
  {
   "cell_type": "markdown",
   "metadata": {},
   "source": [
    "## A link list is the linear data structure in which elements called nodes are linked using pointers."
   ]
  },
  {
   "cell_type": "code",
   "execution_count": 2,
   "metadata": {},
   "outputs": [],
   "source": [
    "class node:\n",
    "    def __init__(self,data,next=None):\n",
    "        self.data=data\n",
    "        self.next=next"
   ]
  },
  {
   "cell_type": "markdown",
   "metadata": {},
   "source": [
    "Making the nodes"
   ]
  },
  {
   "cell_type": "code",
   "execution_count": 3,
   "metadata": {},
   "outputs": [],
   "source": [
    "node1=node(10)\n",
    "node2=node(11)\n",
    "node3=node(12)\n",
    "node4=node(13)\n",
    "node5=node(14)\n"
   ]
  },
  {
   "cell_type": "markdown",
   "metadata": {},
   "source": [
    "Linking the nodes"
   ]
  },
  {
   "cell_type": "code",
   "execution_count": 4,
   "metadata": {},
   "outputs": [],
   "source": [
    "node1.next=node2\n",
    "node2.next=node3\n",
    "node3.next=node4\n",
    "node4.next=node5"
   ]
  },
  {
   "cell_type": "markdown",
   "metadata": {},
   "source": [
    "## **Transversing in the linked list**"
   ]
  },
  {
   "cell_type": "code",
   "execution_count": 5,
   "metadata": {},
   "outputs": [
    {
     "name": "stdout",
     "output_type": "stream",
     "text": [
      "10->11->12->13->14."
     ]
    }
   ],
   "source": [
    "def Transversing_linkedlist(head):\n",
    "    current=head\n",
    "    while current:\n",
    "        if current.next == None:\n",
    "            print(current.data,end='.')\n",
    "        else:\n",
    "            print(current.data,end='->')\n",
    "        current=current.next\n",
    "\n",
    "\n",
    "Transversing_linkedlist(node1)"
   ]
  },
  {
   "cell_type": "markdown",
   "metadata": {},
   "source": [
    "# **INSERTION**"
   ]
  },
  {
   "cell_type": "markdown",
   "metadata": {},
   "source": [
    "# **Insertion have the three case: Beginning, Middle and End**"
   ]
  },
  {
   "cell_type": "code",
   "execution_count": 6,
   "metadata": {},
   "outputs": [],
   "source": [
    "def insertion_beg(head,new_data):\n",
    "    \n",
    "    if head is None:\n",
    "        head= node(new_data)\n",
    "        return head\n",
    "    else:\n",
    "        temp=node(new_data)\n",
    "        temp.next=head\n",
    "        head=temp\n",
    "        return head"
   ]
  },
  {
   "cell_type": "code",
   "execution_count": 7,
   "metadata": {},
   "outputs": [
    {
     "name": "stdout",
     "output_type": "stream",
     "text": [
      "9->10->11->12->13->14."
     ]
    }
   ],
   "source": [
    "temp=insertion_beg(node1,9)\n",
    "head=temp\n",
    "Transversing_linkedlist(head)\n"
   ]
  },
  {
   "cell_type": "markdown",
   "metadata": {},
   "source": [
    "### **Insertion at the end**"
   ]
  },
  {
   "cell_type": "code",
   "execution_count": 14,
   "metadata": {},
   "outputs": [],
   "source": [
    "\n",
    "def insertion_at_end(head, new_data):\n",
    "    temp = node(new_data)  # Create a new node with the given data\n",
    "    \n",
    "    if head == None:  # If the list is empty, the new node becomes the head\n",
    "        return temp\n",
    "   \n",
    "    current = head\n",
    "    while current.next != None:  # Traverse to the last node\n",
    "        current = current.next\n",
    "    \n",
    "    current.next = temp  # Link the last node to the new node\n",
    "    return head  # Return the head of the list\n"
   ]
  },
  {
   "cell_type": "code",
   "execution_count": 15,
   "metadata": {},
   "outputs": [
    {
     "name": "stdout",
     "output_type": "stream",
     "text": [
      "9->10->11->12->13->14->15."
     ]
    }
   ],
   "source": [
    "newnode=insertion_at_end(head,15)\n",
    "Transversing_linkedlist(newnode)\n"
   ]
  },
  {
   "cell_type": "markdown",
   "metadata": {},
   "source": [
    "## **Insertion in the Middle**"
   ]
  },
  {
   "cell_type": "code",
   "execution_count": 16,
   "metadata": {},
   "outputs": [],
   "source": [
    "def insertion_middle(head, position, new_data):\n",
    "    temp = node(new_data)  # Create a new node with the given data\n",
    "    if position == 0:  # If the position is 0, insert at the beginning\n",
    "        temp.next = head  \n",
    "        return temp  \n",
    "    \n",
    "    current = head\n",
    "    count = 0\n",
    "    \n",
    "    # Traverse to the node just before the desired position\n",
    "    while count < position - 1 and current is not None:\n",
    "        current = current.next\n",
    "        count += 1\n",
    "\n",
    "    # If position is out of bounds, do nothing\n",
    "    if current is None:\n",
    "        print(\"Position is not available\")\n",
    "        return head\n",
    "\n",
    "    # Insert the new node\n",
    "    temp.next = current.next \n",
    "    current.next = temp  \n",
    "        \n",
    "    return head  # Return the head of the list"
   ]
  },
  {
   "cell_type": "code",
   "execution_count": 17,
   "metadata": {},
   "outputs": [
    {
     "name": "stdout",
     "output_type": "stream",
     "text": [
      "9->10->11->12->6->13->14->15."
     ]
    }
   ],
   "source": [
    "insertion_middle(head,4,6)\n",
    "Transversing_linkedlist(head)"
   ]
  },
  {
   "cell_type": "markdown",
   "metadata": {},
   "source": [
    "# **4th practical of DSA**"
   ]
  },
  {
   "cell_type": "markdown",
   "metadata": {},
   "source": [
    "### **Deletion in the beginning**"
   ]
  },
  {
   "cell_type": "code",
   "execution_count": 18,
   "metadata": {},
   "outputs": [],
   "source": [
    "def delete_from_beginning(head):\n",
    "    if head is None:\n",
    "        print(\"List is empty\")\n",
    "        return head\n",
    "    \n",
    "    # Move head to the next node\n",
    "    current=head\n",
    "    head = head.next\n",
    "    return head\n"
   ]
  },
  {
   "cell_type": "code",
   "execution_count": 19,
   "metadata": {},
   "outputs": [
    {
     "name": "stdout",
     "output_type": "stream",
     "text": [
      "10->11->12->6->13->14->15."
     ]
    }
   ],
   "source": [
    "newlinklist=delete_from_beginning(head)\n",
    "Transversing_linkedlist(newlinklist)"
   ]
  },
  {
   "cell_type": "markdown",
   "metadata": {},
   "source": [
    "## **Deletion from the end**"
   ]
  },
  {
   "cell_type": "code",
   "execution_count": 20,
   "metadata": {},
   "outputs": [],
   "source": [
    "def delete_from_end(head):\n",
    "    if head is None:\n",
    "        print(\"List is empty\")\n",
    "        return head\n",
    "    \n",
    "    if head.next is None:  # If there's only one node\n",
    "        return None\n",
    "    \n",
    "    current = head\n",
    "    while current.next.next is not None:\n",
    "        current = current.next\n",
    "    \n",
    "    # Remove the last node\n",
    "    current.next = None\n",
    "    return head\n"
   ]
  },
  {
   "cell_type": "code",
   "execution_count": 21,
   "metadata": {},
   "outputs": [
    {
     "name": "stdout",
     "output_type": "stream",
     "text": [
      "9->10->11->12->6->13->14."
     ]
    }
   ],
   "source": [
    "delete_from_end(head)\n",
    "Transversing_linkedlist(head)"
   ]
  },
  {
   "cell_type": "markdown",
   "metadata": {},
   "source": [
    "## **Deletion from the middle**"
   ]
  },
  {
   "cell_type": "code",
   "execution_count": 22,
   "metadata": {},
   "outputs": [],
   "source": [
    "\n",
    "def delete_from_middle(head, position):\n",
    "    if head is None:\n",
    "        print(\"List is empty\")\n",
    "        return head\n",
    "    \n",
    "    if position == 0:  # Special case: delete the head node\n",
    "        return delete_from_beginning(head)\n",
    "    \n",
    "    current = head\n",
    "    count = 0\n",
    "    \n",
    "    # Traverse to the node just before the desired position\n",
    "    while count < position - 1 and current is not None:\n",
    "        current = current.next\n",
    "        count += 1\n",
    "    \n",
    "    # If position is out of bounds\n",
    "    if current is None or current.next is None:\n",
    "        print(\"Position is out of bounds\")\n",
    "        return head\n",
    "    \n",
    "    # Delete the node\n",
    "    current.next = current.next.next\n",
    "    \n",
    "    return head\n"
   ]
  },
  {
   "cell_type": "code",
   "execution_count": 23,
   "metadata": {},
   "outputs": [
    {
     "name": "stdout",
     "output_type": "stream",
     "text": [
      "9->10->11->12->13->14."
     ]
    }
   ],
   "source": [
    "delete_from_middle(head,4)\n",
    "Transversing_linkedlist(head)"
   ]
  },
  {
   "cell_type": "code",
   "execution_count": 24,
   "metadata": {},
   "outputs": [
    {
     "name": "stdout",
     "output_type": "stream",
     "text": [
      "9->10->11->12->13->14."
     ]
    }
   ],
   "source": [
    "Transversing_linkedlist(head)"
   ]
  },
  {
   "cell_type": "markdown",
   "metadata": {},
   "source": [
    "# **Doubly Linked list**"
   ]
  },
  {
   "cell_type": "code",
   "execution_count": 26,
   "metadata": {},
   "outputs": [],
   "source": [
    "class dll:\n",
    "    def __init__(self,data,prev=None,next=None):\n",
    "        self.prev = prev\n",
    "        self.data=data\n",
    "        self.next=next"
   ]
  },
  {
   "cell_type": "code",
   "execution_count": 36,
   "metadata": {},
   "outputs": [],
   "source": [
    "dllnode1=dll(45)\n",
    "dllnode2=dll(46)\n",
    "dllnode3=dll(47)\n",
    "dllnode4=dll(48)"
   ]
  },
  {
   "cell_type": "code",
   "execution_count": 40,
   "metadata": {},
   "outputs": [],
   "source": [
    "dllnode1.next=dllnode2\n",
    "dllnode2.prev=dllnode1\n",
    "dllnode2.next=dllnode3\n",
    "dllnode3.prev=dllnode2\n",
    "dllnode3.next=dllnode4\n",
    "dllnode4.prev=dllnode3\n"
   ]
  },
  {
   "cell_type": "code",
   "execution_count": 46,
   "metadata": {},
   "outputs": [],
   "source": [
    "def transversing_dll(head):\n",
    "    current=head\n",
    "    while current:\n",
    "        print(current.data,end='=>')\n",
    "        current=current.next\n",
    "    print(None)\n"
   ]
  },
  {
   "cell_type": "code",
   "execution_count": 47,
   "metadata": {},
   "outputs": [
    {
     "name": "stdout",
     "output_type": "stream",
     "text": [
      "45=>46=>47=>48=>None\n"
     ]
    }
   ],
   "source": [
    "transversing_dll(dllnode1)"
   ]
  },
  {
   "cell_type": "code",
   "execution_count": 48,
   "metadata": {},
   "outputs": [],
   "source": [
    "def add_beg_dll(head,new_data):\n",
    "    temp=dll(new_data,None,head)\n",
    "    return temp"
   ]
  },
  {
   "cell_type": "code",
   "execution_count": 49,
   "metadata": {},
   "outputs": [],
   "source": [
    "added_list=add_beg_dll(dllnode1,44)"
   ]
  },
  {
   "cell_type": "code",
   "execution_count": 50,
   "metadata": {},
   "outputs": [
    {
     "name": "stdout",
     "output_type": "stream",
     "text": [
      "44=>45=>46=>47=>48=>None\n"
     ]
    }
   ],
   "source": [
    "transversing_dll(added_list)"
   ]
  },
  {
   "cell_type": "code",
   "execution_count": null,
   "metadata": {},
   "outputs": [],
   "source": [
    "\n",
    "    "
   ]
  }
 ],
 "metadata": {
  "kernelspec": {
   "display_name": "base",
   "language": "python",
   "name": "python3"
  },
  "language_info": {
   "codemirror_mode": {
    "name": "ipython",
    "version": 3
   },
   "file_extension": ".py",
   "mimetype": "text/x-python",
   "name": "python",
   "nbconvert_exporter": "python",
   "pygments_lexer": "ipython3",
   "version": "3.11.5"
  }
 },
 "nbformat": 4,
 "nbformat_minor": 2
}
