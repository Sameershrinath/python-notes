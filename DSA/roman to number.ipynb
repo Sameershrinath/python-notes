{
 "cells": [
  {
   "cell_type": "code",
   "execution_count": 1,
   "id": "c037387b-5358-4091-a303-4bd6a08f790f",
   "metadata": {},
   "outputs": [],
   "source": [
    "class Solution:\n",
    "    def intToRoman(self, num: int) -> str:\n",
    "        # List of Roman numerals and their corresponding integer values\n",
    "        val_to_roman = [\n",
    "            (1000, 'M'), (900, 'CM'), (500, 'D'), (400, 'CD'),\n",
    "            (100, 'C'), (90, 'XC'), (50, 'L'), (40, 'XL'),\n",
    "            (10, 'X'), (9, 'IX'), (5, 'V'), (4, 'IV'), (1, 'I')\n",
    "        ]\n",
    "        \n",
    "        # Initialize the result string\n",
    "        result = \"\"\n",
    "        \n",
    "        # Convert the integer to Roman numeral\n",
    "        for value, roman in val_to_roman:\n",
    "            # Determine how many times the Roman numeral should appear\n",
    "            count = num // value\n",
    "            if count > 0:\n",
    "                result += roman * count\n",
    "                num -= value * count\n",
    "        \n",
    "        return result\n"
   ]
  },
  {
   "cell_type": "code",
   "execution_count": 21,
   "id": "21513cd5-60f6-41bb-8b49-7f4f2c2e6c76",
   "metadata": {},
   "outputs": [],
   "source": [
    " val = [\n",
    "            (1000, 'M','a'), (900, 'CM','b'), (500, 'D','c')\n",
    "        ]"
   ]
  },
  {
   "cell_type": "code",
   "execution_count": 22,
   "id": "a91b688c-fc53-4c16-8cee-31f6955e46ac",
   "metadata": {},
   "outputs": [
    {
     "name": "stdout",
     "output_type": "stream",
     "text": [
      "1000 M\n",
      "900 CM\n",
      "500 D\n"
     ]
    }
   ],
   "source": [
    "for i,j,k in val:\n",
    "    print(i,j)"
   ]
  },
  {
   "cell_type": "code",
   "execution_count": 15,
   "id": "6f067a65-b0ac-4bcf-a555-bf7140094167",
   "metadata": {},
   "outputs": [
    {
     "data": {
      "text/plain": [
       "tuple"
      ]
     },
     "execution_count": 15,
     "metadata": {},
     "output_type": "execute_result"
    }
   ],
   "source": [
    "type(val[0])"
   ]
  },
  {
   "cell_type": "code",
   "execution_count": 16,
   "id": "6c5950be-32dd-43d5-8f96-27eb31df3194",
   "metadata": {},
   "outputs": [],
   "source": [
    "sam=[[\"sai\",1,5,4],58,909,\n",
    "     77,74,52,36]"
   ]
  },
  {
   "cell_type": "code",
   "execution_count": 17,
   "id": "78f20a17-f6b2-4d8e-9c4f-df6c2f9c0658",
   "metadata": {},
   "outputs": [
    {
     "data": {
      "text/plain": [
       "['sai', 1, 5, 4]"
      ]
     },
     "execution_count": 17,
     "metadata": {},
     "output_type": "execute_result"
    }
   ],
   "source": [
    "sam[0]"
   ]
  },
  {
   "cell_type": "code",
   "execution_count": 12,
   "id": "bc68f8cf-8168-4b01-a8c3-6d352fab7beb",
   "metadata": {},
   "outputs": [
    {
     "data": {
      "text/plain": [
       "'sai'"
      ]
     },
     "execution_count": 12,
     "metadata": {},
     "output_type": "execute_result"
    }
   ],
   "source": [
    "sam[0][0]"
   ]
  },
  {
   "cell_type": "code",
   "execution_count": null,
   "id": "e1b3abe6-0d9e-4ffe-b1b8-0878dec93e24",
   "metadata": {},
   "outputs": [],
   "source": []
  },
  {
   "cell_type": "code",
   "execution_count": null,
   "id": "5ebe92a8-3f52-477c-a77d-be4c54689391",
   "metadata": {},
   "outputs": [],
   "source": []
  },
  {
   "cell_type": "code",
   "execution_count": null,
   "id": "dd03a794-4e30-4f29-96fd-d22a346b36f3",
   "metadata": {},
   "outputs": [],
   "source": []
  },
  {
   "cell_type": "code",
   "execution_count": 4,
   "id": "793446fe-aa85-43f2-857d-723c258c6804",
   "metadata": {},
   "outputs": [],
   "source": [
    "a=6"
   ]
  },
  {
   "cell_type": "code",
   "execution_count": 5,
   "id": "faea1b26-3f9b-4503-80fa-c5b8632abe51",
   "metadata": {},
   "outputs": [],
   "source": [
    "b=2"
   ]
  },
  {
   "cell_type": "code",
   "execution_count": 7,
   "id": "4595b6d5-acfe-4b4b-8cce-352065365a35",
   "metadata": {},
   "outputs": [],
   "source": [
    "c=b+1"
   ]
  },
  {
   "cell_type": "code",
   "execution_count": 8,
   "id": "7c902a04-97f6-4031-b211-823ddf1b2a7a",
   "metadata": {},
   "outputs": [
    {
     "data": {
      "text/plain": [
       "9.0"
      ]
     },
     "execution_count": 8,
     "metadata": {},
     "output_type": "execute_result"
    }
   ],
   "source": [
    "a/b*c"
   ]
  },
  {
   "cell_type": "code",
   "execution_count": null,
   "id": "b9a16e07-7f97-4f57-8355-768f2c1393d1",
   "metadata": {},
   "outputs": [],
   "source": []
  },
  {
   "cell_type": "markdown",
   "id": "0ab33caa",
   "metadata": {},
   "source": []
  },
  {
   "cell_type": "code",
   "execution_count": null,
   "id": "0d1aded0",
   "metadata": {},
   "outputs": [],
   "source": []
  },
  {
   "cell_type": "markdown",
   "id": "aea25c40",
   "metadata": {},
   "source": []
  }
 ],
 "metadata": {
  "kernelspec": {
   "display_name": "Python 3 (ipykernel)",
   "language": "python",
   "name": "python3"
  },
  "language_info": {
   "codemirror_mode": {
    "name": "ipython",
    "version": 3
   },
   "file_extension": ".py",
   "mimetype": "text/x-python",
   "name": "python",
   "nbconvert_exporter": "python",
   "pygments_lexer": "ipython3",
   "version": "3.11.5"
  }
 },
 "nbformat": 4,
 "nbformat_minor": 5
}
