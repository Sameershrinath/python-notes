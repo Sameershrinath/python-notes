{
 "cells": [
  {
   "cell_type": "code",
   "execution_count": 41,
   "metadata": {},
   "outputs": [],
   "source": [
    "class node:\n",
    "    def __init__(self,data,next=None):\n",
    "        self.data=data\n",
    "        self.next= next\n",
    "    def add_beg(head,new_data):\n",
    "        temp=node(new_data)\n",
    "        if head is None:\n",
    "            head=temp\n",
    "            return head\n",
    "        temp.next=head\n",
    "        head=temp\n",
    "        return head\n",
    "    def Transversing_linkedlist(head):\n",
    "        current=head\n",
    "        while current:\n",
    "            if current.next == None:\n",
    "                print(current.data,end='.')\n",
    "            else:\n",
    "                print(current.data,end='->')\n",
    "            current=current.next\n",
    "    \n"
   ]
  },
  {
   "cell_type": "code",
   "execution_count": 42,
   "metadata": {},
   "outputs": [],
   "source": [
    "node1=node(10)\n",
    "node2=node(11)\n",
    "node3=node(12)\n",
    "node4=node(13)"
   ]
  },
  {
   "cell_type": "code",
   "execution_count": 43,
   "metadata": {},
   "outputs": [],
   "source": [
    "node1.next=node2\n",
    "node2.next=node3\n",
    "node3.next=node4"
   ]
  },
  {
   "cell_type": "code",
   "execution_count": 44,
   "metadata": {},
   "outputs": [
    {
     "name": "stdout",
     "output_type": "stream",
     "text": [
      "10->11->12->13."
     ]
    }
   ],
   "source": [
    "Transversing_linkedlist(node1)"
   ]
  },
  {
   "cell_type": "code",
   "execution_count": 47,
   "metadata": {},
   "outputs": [],
   "source": [
    "newnode=node.add_beg(node1,9)"
   ]
  },
  {
   "cell_type": "code",
   "execution_count": 48,
   "metadata": {},
   "outputs": [
    {
     "name": "stdout",
     "output_type": "stream",
     "text": [
      "9->10->11->12->13."
     ]
    }
   ],
   "source": [
    "Transversing_linkedlist(newnode)"
   ]
  },
  {
   "cell_type": "code",
   "execution_count": 50,
   "metadata": {},
   "outputs": [],
   "source": [
    "newnode2=node.add_beg(newnode,8)"
   ]
  },
  {
   "cell_type": "code",
   "execution_count": 51,
   "metadata": {},
   "outputs": [
    {
     "name": "stdout",
     "output_type": "stream",
     "text": [
      "8->9->10->11->12->13."
     ]
    }
   ],
   "source": [
    "Transversing_linkedlist(newnode2)"
   ]
  },
  {
   "cell_type": "code",
   "execution_count": null,
   "metadata": {},
   "outputs": [],
   "source": []
  }
 ],
 "metadata": {
  "kernelspec": {
   "display_name": "base",
   "language": "python",
   "name": "python3"
  },
  "language_info": {
   "codemirror_mode": {
    "name": "ipython",
    "version": 3
   },
   "file_extension": ".py",
   "mimetype": "text/x-python",
   "name": "python",
   "nbconvert_exporter": "python",
   "pygments_lexer": "ipython3",
   "version": "3.11.5"
  }
 },
 "nbformat": 4,
 "nbformat_minor": 2
}
