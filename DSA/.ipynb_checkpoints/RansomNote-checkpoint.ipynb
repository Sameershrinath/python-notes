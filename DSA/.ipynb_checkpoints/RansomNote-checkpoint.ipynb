{
 "cells": [
  {
   "cell_type": "code",
   "execution_count": 10,
   "id": "7bd1a890-124e-4939-a1b1-15d01ee3b09b",
   "metadata": {},
   "outputs": [
    {
     "data": {
      "text/plain": [
       "Counter({'s': 2,\n",
       "         'a': 2,\n",
       "         'e': 2,\n",
       "         'r': 2,\n",
       "         'h': 2,\n",
       "         'm': 1,\n",
       "         ' ': 1,\n",
       "         'i': 1,\n",
       "         'n': 1,\n",
       "         't': 1})"
      ]
     },
     "execution_count": 10,
     "metadata": {},
     "output_type": "execute_result"
    }
   ],
   "source": [
    "from collections import Counter\n",
    "\n",
    "a='sameer shrinath'\n",
    "Counter(a)"
   ]
  },
  {
   "cell_type": "code",
   "execution_count": 33,
   "id": "57f0792d-d296-4361-b234-16049c844e9c",
   "metadata": {},
   "outputs": [
    {
     "data": {
      "text/plain": [
       "120"
      ]
     },
     "execution_count": 33,
     "metadata": {},
     "output_type": "execute_result"
    }
   ],
   "source": [
    "#factorial \n",
    "def fact(num):\n",
    "    temp=1\n",
    "    for i in range(1,num+1):\n",
    "        temp*=i\n",
    "    return temp \n",
    "\n",
    "fact(5)"
   ]
  },
  {
   "cell_type": "code",
   "execution_count": 37,
   "id": "242dc2c9-0cd9-4301-8e82-9d5ad59f4c4e",
   "metadata": {},
   "outputs": [
    {
     "data": {
      "text/plain": [
       "True"
      ]
     },
     "execution_count": 37,
     "metadata": {},
     "output_type": "execute_result"
    }
   ],
   "source": [
    "def oe(num):\n",
    "    check=num%2\n",
    "    if check==0:\n",
    "        return True\n",
    "    else:\n",
    "        return False\n",
    "\n",
    "oe(45)\n",
    "oe(20)"
   ]
  },
  {
   "cell_type": "code",
   "execution_count": 50,
   "id": "080838d0-4136-4131-a8f4-8c9d499f5126",
   "metadata": {},
   "outputs": [
    {
     "name": "stdout",
     "output_type": "stream",
     "text": [
      "Counter({'l': 2, 'h': 1, 'e': 1, 'o': 1})\n"
     ]
    }
   ],
   "source": [
    "from collections import Counter\n",
    "a=\"hello\"\n",
    "print(Counter(a))"
   ]
  },
  {
   "cell_type": "code",
   "execution_count": 51,
   "id": "4346819b-1a15-40cf-bb1e-fb675ec94d7a",
   "metadata": {},
   "outputs": [],
   "source": [
    "d=Counter(a)"
   ]
  },
  {
   "cell_type": "code",
   "execution_count": 52,
   "id": "edefe284-c1f3-41ce-981b-ba6738ef8100",
   "metadata": {},
   "outputs": [
    {
     "data": {
      "text/plain": [
       "1"
      ]
     },
     "execution_count": 52,
     "metadata": {},
     "output_type": "execute_result"
    }
   ],
   "source": [
    "d[\"h\"]"
   ]
  }
 ],
 "metadata": {
  "kernelspec": {
   "display_name": "Python 3 (ipykernel)",
   "language": "python",
   "name": "python3"
  },
  "language_info": {
   "codemirror_mode": {
    "name": "ipython",
    "version": 3
   },
   "file_extension": ".py",
   "mimetype": "text/x-python",
   "name": "python",
   "nbconvert_exporter": "python",
   "pygments_lexer": "ipython3",
   "version": "3.11.5"
  }
 },
 "nbformat": 4,
 "nbformat_minor": 5
}
