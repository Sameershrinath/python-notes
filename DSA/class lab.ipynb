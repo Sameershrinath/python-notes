{
 "cells": [
  {
   "cell_type": "markdown",
   "id": "00f83f2d",
   "metadata": {},
   "source": [
    "# **Array Operations**"
   ]
  },
  {
   "cell_type": "markdown",
   "id": "734ab7e9",
   "metadata": {},
   "source": [
    "## **Linear Search**"
   ]
  },
  {
   "cell_type": "code",
   "execution_count": 78,
   "id": "2331f335",
   "metadata": {},
   "outputs": [],
   "source": [
    "import numpy as np\n",
    "li=[20,15,12,114,19,16,13]\n",
    "myarray=np.array(li)"
   ]
  },
  {
   "cell_type": "code",
   "execution_count": 81,
   "id": "020896dc",
   "metadata": {},
   "outputs": [],
   "source": [
    "myarray=np.array(li)"
   ]
  },
  {
   "cell_type": "code",
   "execution_count": 82,
   "id": "497f36f9",
   "metadata": {},
   "outputs": [],
   "source": [
    "user_input=input(\"Enter the value to check in the array: \")\n",
    "n1=int(user_input)"
   ]
  },
  {
   "cell_type": "code",
   "execution_count": 83,
   "id": "4a31f4f9",
   "metadata": {},
   "outputs": [
    {
     "name": "stdout",
     "output_type": "stream",
     "text": [
      "Value does not existed\n"
     ]
    }
   ],
   "source": [
    "found=False\n",
    "for i in myarray:\n",
    "    if i==n1:\n",
    "        print(f'The entered value {n1} is inside your array')\n",
    "        found=True\n",
    "        break\n",
    "    else:\n",
    "        pass\n",
    "if not found:\n",
    "    print(\"Value does not existed\")"
   ]
  },
  {
   "cell_type": "markdown",
   "id": "fe7d7e74",
   "metadata": {},
   "source": [
    "## **Sorting the matrix**"
   ]
  },
  {
   "cell_type": "code",
   "execution_count": 123,
   "id": "71dedf14",
   "metadata": {},
   "outputs": [],
   "source": [
    "def mysorting(arr):\n",
    "    n=len(arr)\n",
    "    for i in range(n):\n",
    "        for j in range(0,n-i-1):\n",
    "            if arr[j]>arr[j+1]:\n",
    "                arr[j],arr[j+1]=arr[j+1],arr[j] \n",
    "    return arr"
   ]
  },
  {
   "cell_type": "code",
   "execution_count": 126,
   "id": "ee15b673",
   "metadata": {},
   "outputs": [
    {
     "data": {
      "text/plain": [
       "[2, 10, 11, 12, 14, 32]"
      ]
     },
     "execution_count": 126,
     "metadata": {},
     "output_type": "execute_result"
    }
   ],
   "source": [
    "array4=[10,2,11,32,14,12]\n",
    "mysorting(array4)"
   ]
  },
  {
   "cell_type": "markdown",
   "id": "5f8d2442",
   "metadata": {},
   "source": [
    "## **Different Operations on the array**"
   ]
  },
  {
   "cell_type": "markdown",
   "id": "8b5a537f",
   "metadata": {},
   "source": [
    "### searching in the array"
   ]
  },
  {
   "cell_type": "code",
   "execution_count": null,
   "id": "08434a75",
   "metadata": {},
   "outputs": [],
   "source": []
  },
  {
   "cell_type": "markdown",
   "id": "e49e1238",
   "metadata": {},
   "source": [
    "### Addition"
   ]
  },
  {
   "cell_type": "code",
   "execution_count": 85,
   "id": "a4821389",
   "metadata": {},
   "outputs": [],
   "source": [
    "array2=np.array([10,20,30,40,50,60,70])\n",
    "array3=np.array([1,2,3,4,5,6,7])"
   ]
  },
  {
   "cell_type": "code",
   "execution_count": 86,
   "id": "e2d025dc",
   "metadata": {},
   "outputs": [
    {
     "data": {
      "text/plain": [
       "array([11, 22, 33, 44, 55, 66, 77])"
      ]
     },
     "execution_count": 86,
     "metadata": {},
     "output_type": "execute_result"
    }
   ],
   "source": [
    "result_addition=np.add(array2,array3)\n",
    "result_addition\n"
   ]
  },
  {
   "cell_type": "markdown",
   "id": "25ff1e0b",
   "metadata": {},
   "source": [
    "### Multiplication"
   ]
  },
  {
   "cell_type": "code",
   "execution_count": 87,
   "id": "9174de09",
   "metadata": {},
   "outputs": [
    {
     "data": {
      "text/plain": [
       "array([ 10,  40,  90, 160, 250, 360, 490])"
      ]
     },
     "execution_count": 87,
     "metadata": {},
     "output_type": "execute_result"
    }
   ],
   "source": [
    "result_multiply=np.multiply(array2,array3)\n",
    "result_multiply\n"
   ]
  },
  {
   "cell_type": "markdown",
   "id": "b2e17fbe",
   "metadata": {},
   "source": [
    "### Merge the two array\n"
   ]
  },
  {
   "cell_type": "code",
   "execution_count": 89,
   "id": "31fdb095",
   "metadata": {},
   "outputs": [
    {
     "data": {
      "text/plain": [
       "array([10, 20, 30, 40, 50, 60, 70,  1,  2,  3,  4,  5,  6,  7])"
      ]
     },
     "execution_count": 89,
     "metadata": {},
     "output_type": "execute_result"
    }
   ],
   "source": [
    "result_concatinated=np.concatenate((array2,array3))\n",
    "result_concatinated"
   ]
  },
  {
   "cell_type": "markdown",
   "id": "d9c2f121",
   "metadata": {},
   "source": [
    "### Converting the array into the matrix"
   ]
  },
  {
   "cell_type": "code",
   "execution_count": 93,
   "id": "7368a532",
   "metadata": {},
   "outputs": [
    {
     "data": {
      "text/plain": [
       "array([[10, 20, 30, 40, 50, 60, 70],\n",
       "       [ 1,  2,  3,  4,  5,  6,  7]])"
      ]
     },
     "execution_count": 93,
     "metadata": {},
     "output_type": "execute_result"
    }
   ],
   "source": [
    "result_matrix=np.row_stack((array2,array3))\n",
    "result_matrix"
   ]
  },
  {
   "cell_type": "markdown",
   "id": "b5abd4f4",
   "metadata": {},
   "source": [
    "### Checking the size of the matrix\n"
   ]
  },
  {
   "cell_type": "code",
   "execution_count": 97,
   "id": "d889dee2",
   "metadata": {},
   "outputs": [
    {
     "data": {
      "text/plain": [
       "(2, 7)"
      ]
     },
     "execution_count": 97,
     "metadata": {},
     "output_type": "execute_result"
    }
   ],
   "source": [
    "sizeofmat=result_matrix.shape\n",
    "sizeofmat"
   ]
  },
  {
   "cell_type": "markdown",
   "id": "f43eef3c",
   "metadata": {},
   "source": [
    "### multiplying the 2D array(matrix)"
   ]
  },
  {
   "cell_type": "code",
   "execution_count": 102,
   "id": "3623316e",
   "metadata": {},
   "outputs": [],
   "source": [
    "matrix1=result_matrix\n",
    "matrix2=np.array([[1,1,1,1,1,1,1],[1,1,1,1,1,1,1]])\n"
   ]
  },
  {
   "cell_type": "code",
   "execution_count": 105,
   "id": "55dee31d",
   "metadata": {},
   "outputs": [
    {
     "data": {
      "text/plain": [
       "array([[10, 20, 30, 40, 50, 60, 70],\n",
       "       [ 1,  2,  3,  4,  5,  6,  7]])"
      ]
     },
     "execution_count": 105,
     "metadata": {},
     "output_type": "execute_result"
    }
   ],
   "source": [
    "multiply_of_matrix=matrix1*matrix2\n",
    "multiply_of_matrix"
   ]
  },
  {
   "cell_type": "markdown",
   "id": "6df4337c",
   "metadata": {},
   "source": []
  },
  {
   "cell_type": "code",
   "execution_count": null,
   "id": "70c22ac6",
   "metadata": {},
   "outputs": [],
   "source": []
  }
 ],
 "metadata": {
  "kernelspec": {
   "display_name": "Python 3 (ipykernel)",
   "language": "python",
   "name": "python3"
  },
  "language_info": {
   "codemirror_mode": {
    "name": "ipython",
    "version": 3
   },
   "file_extension": ".py",
   "mimetype": "text/x-python",
   "name": "python",
   "nbconvert_exporter": "python",
   "pygments_lexer": "ipython3",
   "version": "3.11.5"
  }
 },
 "nbformat": 4,
 "nbformat_minor": 5
}
