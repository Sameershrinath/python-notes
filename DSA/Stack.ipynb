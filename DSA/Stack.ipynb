{
 "cells": [
  {
   "cell_type": "markdown",
   "metadata": {},
   "source": [
    "Stack is a linear data structure working principle of stack is Last in First out."
   ]
  },
  {
   "cell_type": "markdown",
   "metadata": {},
   "source": [
    "**Operations of the Stack**\n",
    "<br>Push \n",
    "pop<br>\n",
    "is empty <br>\n",
    "peek <br>\n",
    "size<br>\n",
    " \n",
    "<br>\n",
    " Real world Examples<br>\n",
    " Travelling Bag<br>\n",
    " Compiled plates in buffet<br>\n",
    " Stack of books<br>\n",
    " Bread packet<br>"
   ]
  },
  {
   "cell_type": "markdown",
   "metadata": {},
   "source": [
    "Programmming Examples"
   ]
  },
  {
   "cell_type": "markdown",
   "metadata": {},
   "source": [
    "Function call stack \n",
    "<br>Evaluating expressions\n",
    "<br>Parenthesis matching\n",
    "<br>Iterative solution of binary tree traversal\n",
    "<br>Depth first search\n",
    "<br>undo-redo operations"
   ]
  },
  {
   "cell_type": "markdown",
   "metadata": {},
   "source": [
    "\n",
    "## Implimentaion of the stack"
   ]
  },
  {
   "cell_type": "markdown",
   "metadata": {},
   "source": [
    "Using list\n",
    "<br>by extending list class\n",
    "<br>using singly linked list class\n",
    "<br>extending singly linked list class\n",
    "<br>using linked list concept\n"
   ]
  },
  {
   "cell_type": "markdown",
   "metadata": {},
   "source": [
    "**Using list**"
   ]
  },
  {
   "cell_type": "code",
   "execution_count": 1,
   "metadata": {},
   "outputs": [
    {
     "name": "stdout",
     "output_type": "stream",
     "text": [
      "top element is 30\n",
      "top element is 20\n"
     ]
    }
   ],
   "source": [
    "class stack:\n",
    "    def __init__(self):\n",
    "        self.items=[]\n",
    "    def is_empty(self):\n",
    "        return len(self.items)==0\n",
    "    def push(self,data):\n",
    "        self.items.append(data)\n",
    "    def pop(self):\n",
    "        if not self.is_empty():\n",
    "            return self.items.pop()\n",
    "        else:\n",
    "            raise IndexError(\"Stack is empty\")\n",
    "    def peek(self):\n",
    "        if not self.is_empty():\n",
    "            return self.items[-1]\n",
    "        else:\n",
    "            raise IndexError(\"stack is empty\")\n",
    "    def size(self):\n",
    "        return  len(self.items)\n",
    "        \n",
    "\n",
    "\n",
    "s1=stack()\n",
    "s1.push(10)\n",
    "s1.push(20)\n",
    "s1.push(30)\n",
    "print(\"top element is\",s1.peek())\n",
    "s1.pop() #removing the top most element from the stack \n",
    "print(\"top element is\",s1.peek()) #Now the top most element is now changed "
   ]
  },
  {
   "cell_type": "code",
   "execution_count": 5,
   "metadata": {},
   "outputs": [
    {
     "data": {
      "text/plain": [
       "40"
      ]
     },
     "execution_count": 5,
     "metadata": {},
     "output_type": "execute_result"
    }
   ],
   "source": [
    "class stack(list):\n",
    "    def is_empty(self):\n",
    "        return len(self)==0\n",
    "    def push(self,data):\n",
    "        self.append(data)\n",
    "    def pop(self):\n",
    "        if not self.is_empty():\n",
    "            return super().pop()\n",
    "        else:\n",
    "            raise IndexError(\"Stack is empty\")\n",
    "    def peek(self):\n",
    "        if not self.is_empty():\n",
    "            return self[-1]\n",
    "        else :\n",
    "            raise IndexError(\"stack is empty\")\n",
    "    def size(self):\n",
    "        return len(self)\n",
    "    def insert(self,index,data):\n",
    "        raise AttributeError(\"No attribute insert in the stack\")\n",
    "\n",
    "s1=stack()\n",
    "s1.push(10)\n",
    "s1.push(20)\n",
    "s1.push(30)\n",
    "s1.push(40)\n",
    "s1.peek()"
   ]
  },
  {
   "cell_type": "code",
   "execution_count": null,
   "metadata": {},
   "outputs": [],
   "source": []
  },
  {
   "cell_type": "code",
   "execution_count": null,
   "metadata": {},
   "outputs": [],
   "source": []
  },
  {
   "cell_type": "code",
   "execution_count": null,
   "metadata": {},
   "outputs": [],
   "source": []
  }
 ],
 "metadata": {
  "kernelspec": {
   "display_name": "base",
   "language": "python",
   "name": "python3"
  },
  "language_info": {
   "codemirror_mode": {
    "name": "ipython",
    "version": 3
   },
   "file_extension": ".py",
   "mimetype": "text/x-python",
   "name": "python",
   "nbconvert_exporter": "python",
   "pygments_lexer": "ipython3",
   "version": "3.11.5"
  }
 },
 "nbformat": 4,
 "nbformat_minor": 2
}
