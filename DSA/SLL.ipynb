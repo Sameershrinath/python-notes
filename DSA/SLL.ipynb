{
 "cells": [
  {
   "cell_type": "code",
   "execution_count": 17,
   "id": "ff279437-cb0e-4daa-b384-9a54d5a123eb",
   "metadata": {},
   "outputs": [],
   "source": [
    "class Node:\n",
    "    def __init__(self,data,next=None):\n",
    "        self.data=data\n",
    "        self.next=next\n",
    "        \n",
    "node1=Node(10)\n",
    "node2=Node(20)\n",
    "node3=Node(30)\n",
    "node4=Node(40)\n",
    "\n",
    "node1.next=node2\n",
    "node2.next=node3\n",
    "node3.next=node4\n",
    "current=node1\n",
    "\n"
   ]
  },
  {
   "cell_type": "code",
   "execution_count": 18,
   "id": "0f915352-f6ba-4e83-b2cb-4700821fc0d6",
   "metadata": {},
   "outputs": [
    {
     "name": "stdout",
     "output_type": "stream",
     "text": [
      "10->20->30->40->"
     ]
    }
   ],
   "source": [
    "while current is not None:\n",
    "    print(current.data,end='->')\n",
    "    current=current.next"
   ]
  },
  {
   "cell_type": "raw",
   "id": "5b10a684-e4a2-4b2e-a2f0-44654a70c3aa",
   "metadata": {},
   "source": [
    "node1"
   ]
  },
  {
   "cell_type": "code",
   "execution_count": 1,
   "id": "cc0f8ccd-76e0-4f8c-bf9c-2939bd9a7fa8",
   "metadata": {},
   "outputs": [],
   "source": [
    "class Node:\n",
    "    def __init__(self,data,next=None):\n",
    "        self.data=data\n",
    "        self.next=next\n",
    "    def push(data):\n",
    "        self.data=\n",
    "\n",
    "node1=Node(10)\n",
    "node2=Node(20)\n"
   ]
  },
  {
   "cell_type": "code",
   "execution_count": 1,
   "id": "e86da6e3-f0d5-45c9-8429-f0c7c2fdfeaa",
   "metadata": {},
   "outputs": [],
   "source": [
    "class Node:\n",
    "    def __init__(self,data):\n",
    "        self.data=data\n",
    "        self.next=None"
   ]
  },
  {
   "cell_type": "code",
   "execution_count": 3,
   "id": "7c2e5220",
   "metadata": {},
   "outputs": [],
   "source": [
    "std=Node(8)\n",
    "std2=Node(9)\n",
    "std3=Node(10)\n",
    "std4=Node(11)\n",
    "std5=Node(12)"
   ]
  },
  {
   "cell_type": "code",
   "execution_count": 6,
   "id": "726678dc",
   "metadata": {},
   "outputs": [],
   "source": [
    "std.next=std2\n",
    "std2.next=std3\n",
    "std3.next=std4\n",
    "std4.next=std5"
   ]
  },
  {
   "cell_type": "code",
   "execution_count": 13,
   "id": "989e2bfb",
   "metadata": {},
   "outputs": [
    {
     "name": "stdout",
     "output_type": "stream",
     "text": [
      "8 -> 9 -> 10 -> 11 -> 12 -> None\n"
     ]
    }
   ],
   "source": [
    "start=std\n",
    "while start:\n",
    "    print(start.data,end=' -> ')\n",
    "    start=start.next\n",
    "print(\"None\")"
   ]
  },
  {
   "cell_type": "code",
   "execution_count": null,
   "id": "fb1a81dc",
   "metadata": {},
   "outputs": [],
   "source": []
  }
 ],
 "metadata": {
  "kernelspec": {
   "display_name": "Python 3 (ipykernel)",
   "language": "python",
   "name": "python3"
  },
  "language_info": {
   "codemirror_mode": {
    "name": "ipython",
    "version": 3
   },
   "file_extension": ".py",
   "mimetype": "text/x-python",
   "name": "python",
   "nbconvert_exporter": "python",
   "pygments_lexer": "ipython3",
   "version": "3.11.5"
  }
 },
 "nbformat": 4,
 "nbformat_minor": 5
}
