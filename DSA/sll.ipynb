{
 "cells": [
  {
   "cell_type": "code",
   "execution_count": 166,
   "metadata": {},
   "outputs": [],
   "source": [
    "class Node:\n",
    "    def __init__(self, data,next=None):\n",
    "        self.data = data\n",
    "        self.next= next\n",
    "class SLL:\n",
    "    def __init__(self,head=None): \n",
    "        self.head = head\n",
    "        print(\"init is running\")\n",
    "\n",
    "    def is_empty(self):\n",
    "        return self.head==None\n",
    "    \n",
    "    def insert_at_start(self,ndata):\n",
    "        temp=Node(ndata,self.head)\n",
    "        self.head=temp\n",
    "\n",
    "    def insert_at_last(self,ndata):\n",
    "        temp=Node(ndata)\n",
    "        if not self.is_empty():\n",
    "            current=self.head\n",
    "            while current.next:\n",
    "                current=current.next\n",
    "            current.next=temp\n",
    "        else:\n",
    "            self.head=temp\n",
    "    def search_index(self,data):\n",
    "        current=self.head\n",
    "        count=1\n",
    "        while current is not None:\n",
    "            if current.data==data:\n",
    "                return count\n",
    "            current=current.next\n",
    "            count+=1\n",
    "        return None\n",
    "    def search(self,data):\n",
    "        current=self.head\n",
    "        while current is not None:\n",
    "            if current.data==data:\n",
    "                return current\n",
    "            current=current.next\n",
    "        return None\n",
    "    def insert_after(self,temp,data):\n",
    "        if temp is not None:\n",
    "            n=Node(data,temp.next)\n",
    "            temp.next=n\n",
    "    def transversing(self):\n",
    "        current=self.head\n",
    "        while current:\n",
    "            print(current.data,end=\"->\")\n",
    "            current=current.next\n",
    "        print(None)\n",
    "        \n",
    "\n",
    "\n",
    "\n"
   ]
  },
  {
   "cell_type": "code",
   "execution_count": 167,
   "metadata": {},
   "outputs": [
    {
     "name": "stdout",
     "output_type": "stream",
     "text": [
      "init is running\n"
     ]
    }
   ],
   "source": [
    "samir=SLL()"
   ]
  },
  {
   "cell_type": "code",
   "execution_count": 168,
   "metadata": {},
   "outputs": [
    {
     "data": {
      "text/plain": [
       "True"
      ]
     },
     "execution_count": 168,
     "metadata": {},
     "output_type": "execute_result"
    }
   ],
   "source": [
    "samir.is_empty()"
   ]
  },
  {
   "cell_type": "code",
   "execution_count": 169,
   "metadata": {},
   "outputs": [
    {
     "name": "stdout",
     "output_type": "stream",
     "text": [
      "None\n"
     ]
    }
   ],
   "source": [
    "samir.transversing()"
   ]
  },
  {
   "cell_type": "code",
   "execution_count": 170,
   "metadata": {},
   "outputs": [],
   "source": [
    "samir.insert_at_start(40)\n",
    "samir.insert_at_start(39)\n",
    "\n"
   ]
  },
  {
   "cell_type": "code",
   "execution_count": 171,
   "metadata": {},
   "outputs": [
    {
     "name": "stdout",
     "output_type": "stream",
     "text": [
      "39->40->None\n"
     ]
    }
   ],
   "source": [
    "samir.transversing()"
   ]
  },
  {
   "cell_type": "code",
   "execution_count": 172,
   "metadata": {},
   "outputs": [
    {
     "data": {
      "text/plain": [
       "False"
      ]
     },
     "execution_count": 172,
     "metadata": {},
     "output_type": "execute_result"
    }
   ],
   "source": [
    "samir.is_empty()"
   ]
  },
  {
   "cell_type": "code",
   "execution_count": 173,
   "metadata": {},
   "outputs": [],
   "source": [
    "samir.insert_at_last(45)\n",
    "samir.insert_at_last(46)\n",
    "samir.insert_at_last(47)"
   ]
  },
  {
   "cell_type": "code",
   "execution_count": 174,
   "metadata": {},
   "outputs": [
    {
     "name": "stdout",
     "output_type": "stream",
     "text": [
      "39->40->45->46->47->None\n"
     ]
    }
   ],
   "source": [
    "samir.transversing()"
   ]
  },
  {
   "cell_type": "code",
   "execution_count": 176,
   "metadata": {},
   "outputs": [
    {
     "data": {
      "text/plain": [
       "1"
      ]
     },
     "execution_count": 176,
     "metadata": {},
     "output_type": "execute_result"
    }
   ],
   "source": [
    "samir.search_index(39)"
   ]
  },
  {
   "cell_type": "code",
   "execution_count": 178,
   "metadata": {},
   "outputs": [],
   "source": [
    "addi=samir.search(40)"
   ]
  },
  {
   "cell_type": "code",
   "execution_count": 179,
   "metadata": {},
   "outputs": [],
   "source": [
    "samir.insert_after(addi,41)"
   ]
  },
  {
   "cell_type": "code",
   "execution_count": 180,
   "metadata": {},
   "outputs": [
    {
     "name": "stdout",
     "output_type": "stream",
     "text": [
      "39->40->41->45->46->47->None\n"
     ]
    }
   ],
   "source": [
    "samir.transversing()"
   ]
  },
  {
   "cell_type": "code",
   "execution_count": null,
   "metadata": {},
   "outputs": [],
   "source": []
  }
 ],
 "metadata": {
  "kernelspec": {
   "display_name": "base",
   "language": "python",
   "name": "python3"
  },
  "language_info": {
   "codemirror_mode": {
    "name": "ipython",
    "version": 3
   },
   "file_extension": ".py",
   "mimetype": "text/x-python",
   "name": "python",
   "nbconvert_exporter": "python",
   "pygments_lexer": "ipython3",
   "version": "3.11.5"
  }
 },
 "nbformat": 4,
 "nbformat_minor": 2
}
