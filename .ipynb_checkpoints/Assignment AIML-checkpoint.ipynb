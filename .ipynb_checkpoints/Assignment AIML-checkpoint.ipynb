{
 "cells": [
  {
   "cell_type": "code",
   "execution_count": null,
   "id": "1f1158af-29cb-4c85-a8ef-2242f37e6703",
   "metadata": {},
   "outputs": [],
   "source": [
    "-----------------------------------------------------Suresh Gyan Vihar University---------------------------------------------------------------------- \n",
    "-----------------------------------------------------Jagatpura, Jaipur Rajasthan ----------------------------------------------------------------------"
   ]
  },
  {
   "cell_type": "markdown",
   "id": "e5437b88-4749-420a-a7aa-de20cd537875",
   "metadata": {},
   "source": [
    "Python Lab Assignment                                                                                                  Name Samir Srinath\n",
    "Btech CSE AIML 2nd Sem                                                                                                 SID-2347454\n",
    "                                                                                                                       Batch- A2"
   ]
  },
  {
   "cell_type": "markdown",
   "id": "9961a19e-5a1c-4cda-9ba2-122c5939c74b",
   "metadata": {},
   "source": [
    "Question No-1\n",
    "What is the list?\n",
    "Perform opeartions like Indexing and slicing on it."
   ]
  },
  {
   "cell_type": "markdown",
   "id": "92e8b8ea-9616-4c49-b5dd-0de229231e26",
   "metadata": {},
   "source": [
    "A list in programming is a data structure that allows you to store a collection of items, such as numbers, strings, or other objects. Lists are quite flexible and commonly used in many programming languages, including Python, Java, C++, and others"
   ]
  },
  {
   "cell_type": "code",
   "execution_count": null,
   "id": "298161b8-68d1-4cf9-b114-e747604f6368",
   "metadata": {},
   "outputs": [],
   "source": [
    "#Example\n",
    "L1 = [1, 2, 3, 4, 5]\n",
    "L2 = [1, \"hello\", 3.14, True]\n",
    "# Here the L1 and L2 are the list \n",
    "# where, L2 is the mixed list with data type such as int,string,float"
   ]
  },
  {
   "cell_type": "markdown",
   "id": "dbfecdd7-733c-4ea6-a100-bab7a46a6630",
   "metadata": {},
   "source": [
    "Indexing in a list refers to accessing individual elements within the list by their position or index."
   ]
  },
  {
   "cell_type": "code",
   "execution_count": null,
   "id": "50c73b36-89e6-4c25-94c2-c6eb78e16009",
   "metadata": {},
   "outputs": [],
   "source": [
    "L3 = [\"apple\", \"banana\", \"orange\", \"grape\"]\n",
    "\n",
    "# Accessing individual elements by index\n",
    "print(L3[0])  # Output: \"apple\"\n",
    "print(L3[1]) # Output: \"banana\"\n",
    "print(L3[2])  # Output: \"orange\"\n",
    "print(L3[3])  # Output: \"grape\"\n",
    "\n",
    "print(\"..........................\")\n",
    "# Negative indexing (counting from the end of the list)\n",
    "print(L3[-1]) #Output: \"grape\"\n",
    "print(L3[-2])  # Output: \"orange\"\n",
    "print(L3[-3])  # Output: \"banana\"\n",
    "print(L3[-4])  # Output: \"apple\""
   ]
  },
  {
   "cell_type": "markdown",
   "id": "f675e7a8-9de6-42ce-b2c4-766e9227ed4d",
   "metadata": {},
   "source": [
    "---------------------------------------------------------------------------------------------------------------------\n",
    "Slicing in Python refers to extracting a portion of a sequence (such as a list, tuple, or string) by specifying a range of indices. The syntax for slicing is [start:stop:step], where:\r\n",
    "\r\n",
    "start is the index where the slicing begins (inclusive\n",
    ").\r\n",
    "stop is the index where the slicing ends (exclusive).\r\n",
    "step is the step size or the interval between elements (default is 1)."
   ]
  },
  {
   "cell_type": "code",
   "execution_count": null,
   "id": "6b4639dc-857b-44fd-aba4-fd3ba630ea26",
   "metadata": {},
   "outputs": [],
   "source": [
    "# Example list\n",
    "L4 = [0, 1, 2, 3, 4, 5, 6, 7, 8, 9]\n",
    "\n",
    "# Slicing from index 2 to 5 (inclusive to exclusive)\n",
    "print(L4[2:6])  # Output: [2, 3, 4, 5]\n",
    "\n",
    "# Slicing from the beginning to index 5 (exclusive)\n",
    "print(L4[:6])   # Output: [0, 1, 2, 3, 4, 5]\n",
    "\n",
    "# Slicing from index 3 to the end\n",
    "print(L4[3:])   # Output: [3, 4, 5, 6, 7, 8, 9]\n",
    "\n",
    "# Slicing with a step size of 2\n",
    "print(L4[::2])  # Output: [0, 2, 4, 6, 8]\n",
    "\n",
    "# Slicing in reverse\n",
    "print(L4[::-1]) # Output: [9, 8, 7, 6, 5, 4, 3, 2, 1, 0]\n"
   ]
  },
  {
   "cell_type": "markdown",
   "id": "78b38511-10bb-42d0-a167-5058f52db609",
   "metadata": {},
   "source": [
    "----------------------------------------------------------------------------------------------------------------------------\n",
    "Question No-02\n",
    "what is the Tuple and perform operations like indexing and slicing on it."
   ]
  },
  {
   "cell_type": "markdown",
   "id": "8586a383-41cd-46d3-a0af-7a85994a1888",
   "metadata": {},
   "source": [
    "-----------------------------------------------------------------------------------------------------------------------------\n",
    "A tuple is an immutable sequence of elements, similar to a list, but with the key difference that tuples cannot be modified once created. Tuples are defined by enclosing comma-separated values within parentheses (). Unlike lists, which use square brackets [], tuples are typically used to store collections of heterogeneous data types (i.e., different data types).\n"
   ]
  },
  {
   "cell_type": "code",
   "execution_count": null,
   "id": "60aa69f1-c37e-4061-b5a2-abb6b6d346d3",
   "metadata": {},
   "outputs": [],
   "source": [
    "# Creating a tuple\n",
    "T1 = (1, 2, \"apple\", \"banana\", True)\n",
    "\n",
    "# Accessing elements in a tuple using index\n",
    "print(T1[0])      # Output: 1\n",
    "print(T1[2])      # Output: \"apple\"\n",
    "print(T1[-1])     # Output: True\n"
   ]
  },
  {
   "cell_type": "code",
   "execution_count": null,
   "id": "714d3b1e-db7e-4a62-a13a-a69d659780cb",
   "metadata": {},
   "outputs": [],
   "source": [
    "# Example tuple\n",
    "T2 = (1, 2, 3, 4, 5, 6, 7, 8, 9)\n",
    "\n",
    "# Slicing from index 2 to 5 (inclusive to exclusive)\n",
    "print(T2[2:6])  # Output: (3, 4, 5, 6)\n",
    "\n",
    "# Slicing from the beginning to index 5 (exclusive)\n",
    "print(T2[:6])   # Output: (1, 2, 3, 4, 5, 6)\n",
    "\n",
    "# Slicing from index 3 to the end\n",
    "print(T2[3:])   # Output: (4, 5, 6, 7, 8, 9)\n",
    "\n",
    "# Slicing with a step size of 2\n",
    "print(T2[::2])  # Output: (1, 3, 5, 7, 9)\n",
    "\n",
    "# Slicing in reverse\n",
    "print(T2[::-1]) # Output: (9, 8, 7, 6, 5, 4, 3, 2, 1)\n"
   ]
  },
  {
   "cell_type": "markdown",
   "id": "8131ff2a-34ed-42c8-9a4e-b3f1ba0f3cd0",
   "metadata": {},
   "source": [
    "---------------------------------------------------------------------------------------------------\n",
    "Question No-03\n",
    "What is the Set and perform all the operations of the set?"
   ]
  },
  {
   "cell_type": "markdown",
   "id": "f7b1357f-6215-49af-bcda-11fb6bd109ca",
   "metadata": {},
   "source": [
    " Set is an unordered collection of unique elements. Sets are defined by enclosing comma-separated values within curly braces {}. Unlike lists or tuples, sets do not allow duplicate elements. When you create a set, Python automatically removes any duplicate elements."
   ]
  },
  {
   "cell_type": "code",
   "execution_count": null,
   "id": "0fc5e3fd-65d0-428e-8230-d824ee5f6ec9",
   "metadata": {},
   "outputs": [],
   "source": [
    "#Example of the Set\n",
    "S1 = {1, 2, 3, 4, 5}\n",
    "\n",
    "# Printing the set\n",
    "print(S1)  # Output: {1, 2, 3, 4, 5}\n"
   ]
  },
  {
   "cell_type": "code",
   "execution_count": null,
   "id": "e08b05ca-2665-4d32-b2db-265a0d356f76",
   "metadata": {},
   "outputs": [],
   "source": [
    "#Performing the operations of the Set\n",
    "set1 = {1, 2, 3, 4, 5}\n",
    "set2 = {4, 5, 6, 7, 8}\n",
    "\n",
    "# Union\n",
    "print(set1 | set2)  # Output: {1, 2, 3, 4, 5, 6, 7, 8}\n",
    "\n",
    "# Intersection\n",
    "print(set1 & set2)  # Output: {4, 5}\n",
    "\n",
    "# Difference\n",
    "print(set1 - set2)  # Output: {1, 2, 3}\n",
    "\n",
    "# Symmetric Difference\n",
    "print(set1 ^ set2)  # Output: {1, 2, 3, 6, 7, 8}\n",
    "\n",
    "# Subset\n",
    "print(set1 <= set2) # Output: False\n",
    "\n",
    "# Superset\n",
    "print(set1 >= set2) # Output: False\n",
    "\n"
   ]
  },
  {
   "cell_type": "markdown",
   "id": "0a80a74b-5984-48aa-bb74-7aeddf0fd068",
   "metadata": {},
   "source": [
    "---------------------------------------------------------------------------------------------------\n",
    "Question No-04\n",
    "What is the Dictionary? Perform the operation of keys and Value."
   ]
  },
  {
   "cell_type": "markdown",
   "id": "b69ebc3e-b523-486f-a419-1faa5ce5a628",
   "metadata": {},
   "source": [
    "A dictionary is a collection of key-value pairs. It is a mutable, unordered, and indexed collection. Dictionaries are defined by enclosing comma-separated key-value pairs within curly braces {}, where each key is separated from its corresponding value by a colon :. Keys must be unique and immutable (such as strings, numbers, or tuples), while values can be of any data type and mutable."
   ]
  },
  {
   "cell_type": "code",
   "execution_count": null,
   "id": "f2f3b9f6-e795-4fa1-a7c4-64052f7fca2c",
   "metadata": {},
   "outputs": [],
   "source": [
    "# Creating a dictionary\n",
    "D1 = {\"name\": \"John\", \"age\": 30, \"city\": \"New York\"} # Output: {'name': 'John', 'age': 30, 'city': 'New York'}\n"
   ]
  },
  {
   "cell_type": "code",
   "execution_count": null,
   "id": "3654056d-4e40-463e-b01c-030f1ff7b590",
   "metadata": {},
   "outputs": [],
   "source": [
    "# Example dictionary\n",
    "D1 = {\"name\": \"John\", \"age\": 30, \"city\": \"New York\"}\n",
    "\n",
    "# Accessing keys\n",
    "print(D1.keys())\n",
    "print(D1.values())\n",
    "\n",
    "#Using F string for the Dict\n",
    "\n",
    "person={\"name\":\"Sameer shrinath\",\"age\":20,\"city\":\"America\"}\n",
    "for key,value in person.items():\n",
    "    print(f'{key}:{value}')"
   ]
  },
  {
   "cell_type": "markdown",
   "id": "4f703c4f-6d2a-45fa-8dd2-89e9cbf1cda6",
   "metadata": {},
   "source": [
    "---------------------------------------------------------------------------------------------------\n",
    "Question No-05\n",
    "what is Conditional Statement (if elif and else)?"
   ]
  },
  {
   "cell_type": "markdown",
   "id": "c9fbbcf3-778e-459b-a6cd-49275e2dbead",
   "metadata": {},
   "source": [
    "if, else, and elif are control flow statements in programming languages like Python, used for decision making and branching.\n",
    "*\n",
    "if statement: It is used to check a condition, and if the condition is true, the block of code inside the if statement will be executed. If the condition is false, the block of code will be skippeon):"
   ]
  },
  {
   "cell_type": "code",
   "execution_count": null,
   "id": "da3dac09-5056-4bc8-8fc7-4473fd7eb05f",
   "metadata": {},
   "outputs": [],
   "source": [
    "x = 10\n",
    "if x > 5:\n",
    "    print(\"x is greater than 5\")\n",
    "\n",
    "#output is x is greater than 5"
   ]
  },
  {
   "cell_type": "markdown",
   "id": "fd280ca5-981a-463b-a614-583fa8748450",
   "metadata": {},
   "source": [
    "*Else statement: It follows an if statement and is executed when the condition of the if statement is false. It doesn't have a condition of its own, it's just a catch-all for any cases not covered by the preceding if statement."
   ]
  },
  {
   "cell_type": "code",
   "execution_count": 1,
   "id": "f52fe006-2f3d-496d-8776-bc27a7441654",
   "metadata": {},
   "outputs": [
    {
     "name": "stdout",
     "output_type": "stream",
     "text": [
      "x is not greater than 5\n"
     ]
    }
   ],
   "source": [
    "x = 2\n",
    "if x > 5:\n",
    "    print(\"x is greater than 5\")\n",
    "else:\n",
    "    print(\"x is not greater than 5\")\n",
    "\n",
    "#Output is x is not greater than 5"
   ]
  },
  {
   "cell_type": "markdown",
   "id": "4ddcdac1-f383-48b1-8216-3712d7765329",
   "metadata": {},
   "source": [
    "elif statement: Short for \"else if\", it allows you to check multiple conditions. If the condition of the preceding if statement is false, it checks the condition of the elif statement. If that condition is true, the block of code associated with the elif statement is executed."
   ]
  },
  {
   "cell_type": "code",
   "execution_count": null,
   "id": "7b5eb83b-c9f3-4514-adff-46220d16c07d",
   "metadata": {},
   "outputs": [],
   "source": [
    "x = 3\n",
    "if x > 5:\n",
    "    print(\"x is greater than 5\")\n",
    "elif x == 5:\n",
    "    print(\"x is equal to 5\")\n",
    "else:\n",
    "    print(\"x is less than 5\")\n",
    "#OUtput is x is less than 5"
   ]
  },
  {
   "cell_type": "code",
   "execution_count": null,
   "id": "3bfbb53b-7f5b-4b0b-bc1d-2ee348dab84a",
   "metadata": {},
   "outputs": [],
   "source": [
    "#code to check the student is pass or not \n",
    "marks = int(input(\"Enter your marks: \"))\n",
    "\n",
    "if marks > 90:\n",
    "    print(\"Excellent\")\n",
    "elif marks >= 70:\n",
    "    print(\"Good\")\n",
    "elif marks >= 35:\n",
    "    print(\"Passed\")\n",
    "else:\n",
    "    print(\"Failed\")\n"
   ]
  },
  {
   "cell_type": "markdown",
   "id": "59cfd51b-8738-418e-a918-123855ff39e1",
   "metadata": {},
   "source": [
    "---------------------------------------------------------------------------------------------------------------------------------\n",
    "Question 6.\n",
    "What is the Date and time in the Python?\n",
    "Use Date,Time and DateTime "
   ]
  },
  {
   "cell_type": "code",
   "execution_count": 6,
   "id": "7c49d303-65cd-4f3e-8fbb-634bbadf9464",
   "metadata": {},
   "outputs": [
    {
     "data": {
      "text/plain": [
       "datetime.datetime(2024, 3, 30, 15, 12, 5, 746839)"
      ]
     },
     "execution_count": 6,
     "metadata": {},
     "output_type": "execute_result"
    }
   ],
   "source": [
    "import datetime\n",
    "current_date = datetime.date.today()\n",
    "current_datetime = datetime.datetime.now()\n",
    "current_date #Current date output\n",
    "current_datetime #Current date and time output"
   ]
  },
  {
   "cell_type": "code",
   "execution_count": 10,
   "id": "95ecb652-3491-45b4-904e-bb3270d1a69d",
   "metadata": {},
   "outputs": [
    {
     "name": "stdout",
     "output_type": "stream",
     "text": [
      "he was born on 2023-12-05\n"
     ]
    }
   ],
   "source": [
    "specific_date=datetime.date(2023,12,5)\n",
    "print(f'he was born on {specific_date}')"
   ]
  },
  {
   "cell_type": "code",
   "execution_count": 12,
   "id": "7bbc27f4-d72c-421c-a13f-e123b14e9fdf",
   "metadata": {},
   "outputs": [
    {
     "name": "stdout",
     "output_type": "stream",
     "text": [
      "Your function will start on the 2024-03-23 05:45:00\n"
     ]
    }
   ],
   "source": [
    "t2=datetime.datetime(2024,3,23,5,45)\n",
    "print(f'Your function will start on the {t2}')"
   ]
  },
  {
   "cell_type": "code",
   "execution_count": 18,
   "id": "a21bdcd7-060c-4ab0-acf3-c4dbf0697497",
   "metadata": {},
   "outputs": [
    {
     "name": "stdout",
     "output_type": "stream",
     "text": [
      "30\n",
      "03\n",
      "2024\n"
     ]
    }
   ],
   "source": [
    "#printing just date\n",
    "formet=date.strftime(\"%d\")\n",
    "print(formet)\n",
    "\n",
    "#printing just month\n",
    "formet=date.strftime(\"%m\")\n",
    "print(formet)\n",
    "\n",
    "#printing just year\n",
    "formet=date.strftime(\"%Y\")\n",
    "print(formet)"
   ]
  },
  {
   "cell_type": "code",
   "execution_count": 20,
   "id": "e0455d20-432e-4b32-a614-5b790de9c1f2",
   "metadata": {},
   "outputs": [
    {
     "name": "stdout",
     "output_type": "stream",
     "text": [
      "641 days, 0:00:00\n"
     ]
    }
   ],
   "source": [
    "future_date=datetime.date(2025,12,31)\n",
    "print(future_date-date)"
   ]
  },
  {
   "cell_type": "code",
   "execution_count": 22,
   "id": "90d62c9d-6d60-4a60-a4a9-db560ad84ee1",
   "metadata": {},
   "outputs": [
    {
     "name": "stdout",
     "output_type": "stream",
     "text": [
      "The upcoming date after seven days is 2024-04-06\n"
     ]
    }
   ],
   "source": [
    "#adding 7 days in the current date \n",
    "#at he place of days we can use week month\n",
    "next_date=date+datetime.timedelta(days=7)\n",
    "print(f'The upcoming date after seven days is {next_date}')"
   ]
  },
  {
   "cell_type": "markdown",
   "id": "4bce88d9-ca1c-4d2a-b6f3-bbe482770582",
   "metadata": {},
   "source": [
    "---------------------------------------------------------------------------------------------------------------------------------\n",
    "Question 7.\n",
    "What is the For loop  with Conditional Statement?"
   ]
  },
  {
   "cell_type": "code",
   "execution_count": 24,
   "id": "87e6a64f-5797-48b2-b617-7a3232570467",
   "metadata": {},
   "outputs": [
    {
     "name": "stdout",
     "output_type": "stream",
     "text": [
      "1\n",
      "2\n",
      "3\n",
      "4\n",
      "5\n"
     ]
    }
   ],
   "source": [
    "#count the number upto 5\n",
    "for i in range(1,6):\n",
    "    print(i)"
   ]
  },
  {
   "cell_type": "code",
   "execution_count": 25,
   "id": "d09599a8-2364-41e8-91e9-c7b19bf39fb5",
   "metadata": {},
   "outputs": [
    {
     "name": "stdout",
     "output_type": "stream",
     "text": [
      "0,0\n",
      "0,1\n",
      "0,2\n",
      "0,3\n",
      "1,0\n",
      "1,1\n",
      "1,2\n",
      "1,3\n",
      "2,0\n",
      "2,1\n",
      "2,2\n",
      "2,3\n"
     ]
    }
   ],
   "source": [
    "for i in range(0,3):\n",
    "    for j in range(0,4):\n",
    "        print(f'{i},{j}')"
   ]
  },
  {
   "cell_type": "code",
   "execution_count": 23,
   "id": "6755aa58-ca1d-4d4c-858d-69157ab11075",
   "metadata": {},
   "outputs": [
    {
     "name": "stdout",
     "output_type": "stream",
     "text": [
      "s\n",
      "h\n",
      "r\n",
      "e\n",
      "y\n",
      "a\n",
      " \n",
      "j\n",
      "o\n",
      "s\n",
      "h\n",
      "i\n"
     ]
    }
   ],
   "source": [
    "#print the letter from the string \n",
    "nam=\"shreya joshi\"\n",
    "for l in nam:\n",
    "    print(l)"
   ]
  },
  {
   "cell_type": "code",
   "execution_count": 28,
   "id": "9eca0d4f-7082-4655-843c-97c61774ded1",
   "metadata": {},
   "outputs": [
    {
     "name": "stdout",
     "output_type": "stream",
     "text": [
      "name:Sameer shrinath\n",
      "age:20\n",
      "city:america\n"
     ]
    }
   ],
   "source": [
    "#taking out the values and keys from the dict\n",
    "person={\"name\":\"Sameer shrinath\",\"age\":20,\"city\":\"america\"}\n",
    "for key,value in person.items():\n",
    "    print(f'{key}:{value}')"
   ]
  },
  {
   "cell_type": "code",
   "execution_count": 33,
   "id": "07893108-9160-44e2-b563-c3808bc3367c",
   "metadata": {},
   "outputs": [
    {
     "name": "stdout",
     "output_type": "stream",
     "text": [
      "name\n",
      "age\n",
      "city\n"
     ]
    }
   ],
   "source": [
    "#taking out all the keys\n",
    "for key in person:\n",
    "    print(key)\n"
   ]
  },
  {
   "cell_type": "code",
   "execution_count": 35,
   "id": "45d8fdf9-1434-4c5c-aea7-c800df0da801",
   "metadata": {},
   "outputs": [
    {
     "name": "stdout",
     "output_type": "stream",
     "text": [
      "Sameer shrinath\n",
      "20\n",
      "america\n"
     ]
    }
   ],
   "source": [
    "#taking out all the values\n",
    "person={\"name\":\"Sameer shrinath\",\"age\":20,\"city\":\"america\"}\n",
    "for value in person:\n",
    "    print(person[value])"
   ]
  },
  {
   "cell_type": "code",
   "execution_count": null,
   "id": "f11835a2-0402-43a0-96ed-3c2adbd3c630",
   "metadata": {},
   "outputs": [],
   "source": []
  }
 ],
 "metadata": {
  "kernelspec": {
   "display_name": "Python 3 (ipykernel)",
   "language": "python",
   "name": "python3"
  },
  "language_info": {
   "codemirror_mode": {
    "name": "ipython",
    "version": 3
   },
   "file_extension": ".py",
   "mimetype": "text/x-python",
   "name": "python",
   "nbconvert_exporter": "python",
   "pygments_lexer": "ipython3",
   "version": "3.11.5"
  }
 },
 "nbformat": 4,
 "nbformat_minor": 5
}
