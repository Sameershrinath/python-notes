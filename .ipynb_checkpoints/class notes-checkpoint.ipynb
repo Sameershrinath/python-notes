{
 "cells": [
  {
   "cell_type": "code",
   "execution_count": 1,
   "id": "a99c040f",
   "metadata": {},
   "outputs": [
    {
     "name": "stdout",
     "output_type": "stream",
     "text": [
      "sameer shrinath\n"
     ]
    }
   ],
   "source": [
    "print('sameer shrinath')"
   ]
  },
  {
   "cell_type": "code",
   "execution_count": 2,
   "id": "385daaa0",
   "metadata": {},
   "outputs": [],
   "source": [
    "a=10"
   ]
  },
  {
   "cell_type": "code",
   "execution_count": 3,
   "id": "d7ef0909",
   "metadata": {},
   "outputs": [
    {
     "data": {
      "text/plain": [
       "10"
      ]
     },
     "execution_count": 3,
     "metadata": {},
     "output_type": "execute_result"
    }
   ],
   "source": [
    "#why it is giving the value without print\n",
    "a"
   ]
  },
  {
   "cell_type": "code",
   "execution_count": 4,
   "id": "d7ae7368",
   "metadata": {},
   "outputs": [
    {
     "name": "stdout",
     "output_type": "stream",
     "text": [
      "10\n"
     ]
    }
   ],
   "source": [
    "print(a)"
   ]
  },
  {
   "cell_type": "code",
   "execution_count": 5,
   "id": "247e554d",
   "metadata": {},
   "outputs": [
    {
     "name": "stdout",
     "output_type": "stream",
     "text": [
      "<class 'str'>\n"
     ]
    }
   ],
   "source": [
    "sam='man'\n",
    "print(type(sam))"
   ]
  },
  {
   "cell_type": "code",
   "execution_count": 6,
   "id": "796c866b",
   "metadata": {},
   "outputs": [
    {
     "name": "stdout",
     "output_type": "stream",
     "text": [
      "<class 'bool'>\n"
     ]
    }
   ],
   "source": [
    "x=True\n",
    "print(type(x))"
   ]
  },
  {
   "cell_type": "code",
   "execution_count": 7,
   "id": "8bef3c1e",
   "metadata": {},
   "outputs": [
    {
     "name": "stdout",
     "output_type": "stream",
     "text": [
      "<class 'bool'>\n"
     ]
    }
   ],
   "source": [
    "x=False\n",
    "print(type(x))"
   ]
  },
  {
   "cell_type": "code",
   "execution_count": 8,
   "id": "1e6a8b2b",
   "metadata": {},
   "outputs": [
    {
     "name": "stdout",
     "output_type": "stream",
     "text": [
      "<class 'str'>\n"
     ]
    }
   ],
   "source": [
    "prachi='girl'\n",
    "print(type(prachi))"
   ]
  },
  {
   "cell_type": "code",
   "execution_count": 9,
   "id": "ebb0f8bb",
   "metadata": {},
   "outputs": [
    {
     "name": "stdout",
     "output_type": "stream",
     "text": [
      "False\n"
     ]
    }
   ],
   "source": [
    "print(x)"
   ]
  },
  {
   "cell_type": "code",
   "execution_count": 10,
   "id": "db93410c",
   "metadata": {},
   "outputs": [
    {
     "name": "stdout",
     "output_type": "stream",
     "text": [
      "sam3\n"
     ]
    }
   ],
   "source": [
    "a='sam3'\n",
    "print(a)"
   ]
  },
  {
   "cell_type": "code",
   "execution_count": 11,
   "id": "543fe021",
   "metadata": {},
   "outputs": [
    {
     "name": "stdout",
     "output_type": "stream",
     "text": [
      "45\n"
     ]
    }
   ],
   "source": [
    "a='45'\n",
    "print(a)"
   ]
  },
  {
   "cell_type": "code",
   "execution_count": 12,
   "id": "4233914c",
   "metadata": {},
   "outputs": [
    {
     "name": "stdout",
     "output_type": "stream",
     "text": [
      "<class 'str'>\n"
     ]
    }
   ],
   "source": [
    "print(type(a))"
   ]
  },
  {
   "cell_type": "code",
   "execution_count": 13,
   "id": "3b5e2390",
   "metadata": {},
   "outputs": [
    {
     "data": {
      "text/plain": [
       "int"
      ]
     },
     "execution_count": 13,
     "metadata": {},
     "output_type": "execute_result"
    }
   ],
   "source": [
    "str=45\n",
    "type(str)"
   ]
  },
  {
   "cell_type": "code",
   "execution_count": 14,
   "id": "e1333b0b",
   "metadata": {},
   "outputs": [
    {
     "name": "stdout",
     "output_type": "stream",
     "text": [
      "sam\n"
     ]
    }
   ],
   "source": [
    "\n",
    "print('sam')"
   ]
  },
  {
   "cell_type": "code",
   "execution_count": 15,
   "id": "0bf69be3",
   "metadata": {},
   "outputs": [],
   "source": [
    "#1s='sam'\n"
   ]
  },
  {
   "cell_type": "code",
   "execution_count": 16,
   "id": "e6e46c11",
   "metadata": {},
   "outputs": [],
   "source": [
    "girl=['prachi','shreya','sonal']\n",
    "\n"
   ]
  },
  {
   "cell_type": "code",
   "execution_count": 17,
   "id": "fcb862d9",
   "metadata": {},
   "outputs": [
    {
     "data": {
      "text/plain": [
       "8"
      ]
     },
     "execution_count": 17,
     "metadata": {},
     "output_type": "execute_result"
    }
   ],
   "source": [
    "2**3"
   ]
  },
  {
   "cell_type": "code",
   "execution_count": 18,
   "id": "fe0a5e89",
   "metadata": {},
   "outputs": [
    {
     "data": {
      "text/plain": [
       "8"
      ]
     },
     "execution_count": 18,
     "metadata": {},
     "output_type": "execute_result"
    }
   ],
   "source": [
    "2**3"
   ]
  },
  {
   "cell_type": "code",
   "execution_count": 19,
   "id": "328454af",
   "metadata": {},
   "outputs": [],
   "source": [
    "sam=5+7j"
   ]
  },
  {
   "cell_type": "code",
   "execution_count": 20,
   "id": "9f6ad3f2",
   "metadata": {},
   "outputs": [
    {
     "data": {
      "text/plain": [
       "complex"
      ]
     },
     "execution_count": 20,
     "metadata": {},
     "output_type": "execute_result"
    }
   ],
   "source": [
    "type(sam)"
   ]
  },
  {
   "cell_type": "code",
   "execution_count": 21,
   "id": "0348e9f8",
   "metadata": {},
   "outputs": [
    {
     "data": {
      "text/plain": [
       "5.0"
      ]
     },
     "execution_count": 21,
     "metadata": {},
     "output_type": "execute_result"
    }
   ],
   "source": [
    "sam.real"
   ]
  },
  {
   "cell_type": "code",
   "execution_count": 22,
   "id": "63440d8a",
   "metadata": {},
   "outputs": [
    {
     "data": {
      "text/plain": [
       "7.0"
      ]
     },
     "execution_count": 22,
     "metadata": {},
     "output_type": "execute_result"
    }
   ],
   "source": [
    "sam.imag"
   ]
  },
  {
   "cell_type": "code",
   "execution_count": 23,
   "id": "825c9439",
   "metadata": {},
   "outputs": [],
   "source": [
    "girl='sita'\n",
    "sam+5\n",
    "vima='lata'"
   ]
  },
  {
   "cell_type": "code",
   "execution_count": 24,
   "id": "28da1381",
   "metadata": {},
   "outputs": [
    {
     "name": "stdout",
     "output_type": "stream",
     "text": [
      "neuron\n"
     ]
    }
   ],
   "source": [
    "student='neuron'\n",
    "print(student)"
   ]
  },
  {
   "cell_type": "code",
   "execution_count": 25,
   "id": "52344bba",
   "metadata": {},
   "outputs": [
    {
     "name": "stdout",
     "output_type": "stream",
     "text": [
      "hello sameer"
     ]
    }
   ],
   "source": [
    "print('hello',end=' sameer')"
   ]
  },
  {
   "cell_type": "code",
   "execution_count": 26,
   "id": "52ef3fdf",
   "metadata": {},
   "outputs": [
    {
     "name": "stdout",
     "output_type": "stream",
     "text": [
      "Hello Simran"
     ]
    }
   ],
   "source": [
    "print('Hello', end=' Simran')"
   ]
  },
  {
   "cell_type": "code",
   "execution_count": 27,
   "id": "1df943f8",
   "metadata": {},
   "outputs": [],
   "source": [
    "#############################################\n",
    "###########################################\n",
    "##########Day 2############################\n",
    "#############################################\n",
    "###########################################"
   ]
  },
  {
   "cell_type": "code",
   "execution_count": 28,
   "id": "ae3242c0",
   "metadata": {},
   "outputs": [
    {
     "name": "stdout",
     "output_type": "stream",
     "text": [
      "Are you dumb:no\n",
      "chal jhute\n"
     ]
    }
   ],
   "source": [
    "pat='u'\n",
    "while pat.lower()=='u':\n",
    "    a=input(\"Are you dumb:\")\n",
    "    if a==\"yes\":\n",
    "        print(\"I know\")\n",
    "    elif a==\"no\":\n",
    "        print('chal jhute')\n",
    "        break"
   ]
  },
  {
   "cell_type": "code",
   "execution_count": 29,
   "id": "b0cf8816",
   "metadata": {},
   "outputs": [
    {
     "name": "stdout",
     "output_type": "stream",
     "text": [
      "m\n"
     ]
    }
   ],
   "source": [
    "sam='sameer shrinath'\n",
    "print(sam[2])"
   ]
  },
  {
   "cell_type": "code",
   "execution_count": 30,
   "id": "4e554c20",
   "metadata": {},
   "outputs": [
    {
     "name": "stdout",
     "output_type": "stream",
     "text": [
      "s\n"
     ]
    }
   ],
   "source": [
    "s2 = \"this is my value in the string\"\n",
    "print(s2[3])"
   ]
  },
  {
   "cell_type": "code",
   "execution_count": 33,
   "id": "b8b0f750",
   "metadata": {},
   "outputs": [
    {
     "name": "stdout",
     "output_type": "stream",
     "text": [
      "SAMEER SHRINATH\n"
     ]
    }
   ],
   "source": [
    "sam='sameer shrinath'\n",
    "pam=sam.upper()\n",
    "print(pam)"
   ]
  },
  {
   "cell_type": "code",
   "execution_count": 38,
   "id": "1ba15b5d",
   "metadata": {},
   "outputs": [
    {
     "data": {
      "text/plain": [
       "'l'"
      ]
     },
     "execution_count": 38,
     "metadata": {},
     "output_type": "execute_result"
    }
   ],
   "source": [
    "fruit='apple'\n",
    "fruit[3]\n",
    "fruit[3]"
   ]
  },
  {
   "cell_type": "markdown",
   "id": "6c4e0a38",
   "metadata": {},
   "source": []
  },
  {
   "cell_type": "code",
   "execution_count": 39,
   "id": "cbb7b61f",
   "metadata": {},
   "outputs": [
    {
     "name": "stdout",
     "output_type": "stream",
     "text": [
      "6\n"
     ]
    }
   ],
   "source": [
    "sam=5\n",
    "sam=6\n",
    "print(sam)"
   ]
  },
  {
   "cell_type": "code",
   "execution_count": 1,
   "id": "bf5b389d",
   "metadata": {},
   "outputs": [
    {
     "name": "stdout",
     "output_type": "stream",
     "text": [
      "12\n"
     ]
    }
   ],
   "source": [
    "s='abcdefghijkl'\n",
    "print(len(s))"
   ]
  },
  {
   "cell_type": "code",
   "execution_count": 2,
   "id": "ff57b088-e743-4de4-a23b-a9dca1578aee",
   "metadata": {},
   "outputs": [
    {
     "data": {
      "text/plain": [
       "''"
      ]
     },
     "execution_count": 2,
     "metadata": {},
     "output_type": "execute_result"
    }
   ],
   "source": [
    "s='mypython'\n",
    "s[-5:2]"
   ]
  },
  {
   "cell_type": "code",
   "execution_count": 3,
   "id": "5b5f0aa5-f26e-4fe1-a34a-8c705c8217eb",
   "metadata": {},
   "outputs": [
    {
     "data": {
      "text/plain": [
       "'mypython1'"
      ]
     },
     "execution_count": 3,
     "metadata": {},
     "output_type": "execute_result"
    }
   ],
   "source": [
    "s+\"1\""
   ]
  },
  {
   "cell_type": "code",
   "execution_count": 5,
   "id": "5c5b9bbb-e9d8-4331-a4fd-86e418950dd9",
   "metadata": {},
   "outputs": [
    {
     "data": {
      "text/plain": [
       "1"
      ]
     },
     "execution_count": 5,
     "metadata": {},
     "output_type": "execute_result"
    }
   ],
   "source": [
    "s.count('sum')\n",
    "s.count(\"py\")"
   ]
  },
  {
   "cell_type": "code",
   "execution_count": 8,
   "id": "1128efef-c185-41ec-8a6c-9aefe126f315",
   "metadata": {},
   "outputs": [
    {
     "data": {
      "text/plain": [
       "4"
      ]
     },
     "execution_count": 8,
     "metadata": {},
     "output_type": "execute_result"
    }
   ],
   "source": [
    "p='pythooponePpeefh'\n",
    "p.count(\"p\")+p.count('P')"
   ]
  },
  {
   "cell_type": "code",
   "execution_count": 9,
   "id": "9d743930-0588-4e33-b250-068c10043dc5",
   "metadata": {},
   "outputs": [
    {
     "data": {
      "text/plain": [
       "['m', 'p', 'thon']"
      ]
     },
     "execution_count": 9,
     "metadata": {},
     "output_type": "execute_result"
    }
   ],
   "source": [
    "s.split('y')"
   ]
  },
  {
   "cell_type": "code",
   "execution_count": 3,
   "id": "7dd93dc4-1446-41a2-8fd8-6cbd5a6d40be",
   "metadata": {},
   "outputs": [],
   "source": [
    "sam='''Definition of \n",
    "\"Moye Moye\" Moye Moye (pronounced \"moy-moy\") is \n",
    "a noun referring to the momentary emotional state characterized by a simultaneous experience of sadness and guilt'''"
   ]
  },
  {
   "cell_type": "code",
   "execution_count": 4,
   "id": "d1d1f2a6-6025-4641-8bcf-1e6b5b281c78",
   "metadata": {},
   "outputs": [
    {
     "name": "stdout",
     "output_type": "stream",
     "text": [
      "Definition of \n",
      "\"Moye Moye\" Moye Moye (pronounced \"moy-moy\") is \n",
      "a noun referring to the momentary emotional state characterized by a simultaneous experience of sadness and guilt\n"
     ]
    }
   ],
   "source": [
    "print(sam)"
   ]
  },
  {
   "cell_type": "code",
   "execution_count": 12,
   "id": "3934a52e-f041-46da-9c82-e96d46703ed7",
   "metadata": {},
   "outputs": [
    {
     "data": {
      "text/plain": [
       "['Definition',\n",
       " 'of',\n",
       " '\"Moye',\n",
       " 'Moye\"',\n",
       " 'Moye',\n",
       " 'Moye',\n",
       " '(pronounced',\n",
       " '\"moy-moy\")',\n",
       " 'is',\n",
       " 'a',\n",
       " 'noun',\n",
       " 'referring',\n",
       " 'to',\n",
       " 'the',\n",
       " 'momentary',\n",
       " 'emotional',\n",
       " 'state',\n",
       " 'characterized',\n",
       " 'by',\n",
       " 'a',\n",
       " 'simultaneous',\n",
       " 'experience',\n",
       " 'of',\n",
       " 'sadness',\n",
       " 'and',\n",
       " 'guilt']"
      ]
     },
     "execution_count": 12,
     "metadata": {},
     "output_type": "execute_result"
    }
   ],
   "source": [
    "sam.split(' ')"
   ]
  },
  {
   "cell_type": "code",
   "execution_count": 13,
   "id": "05d6219c-ee50-4cee-ae96-ab03c52ca19e",
   "metadata": {},
   "outputs": [
    {
     "data": {
      "text/plain": [
       "str"
      ]
     },
     "execution_count": 13,
     "metadata": {},
     "output_type": "execute_result"
    }
   ],
   "source": [
    "type(sam)"
   ]
  },
  {
   "cell_type": "code",
   "execution_count": 14,
   "id": "abc3e1a5-b016-4d7a-acd4-6e4889f6a249",
   "metadata": {},
   "outputs": [
    {
     "data": {
      "text/plain": [
       "'DEFINITION OF \"MOYE MOYE\" MOYE MOYE (PRONOUNCED \"MOY-MOY\") IS A NOUN REFERRING TO THE MOMENTARY EMOTIONAL STATE CHARACTERIZED BY A SIMULTANEOUS EXPERIENCE OF SADNESS AND GUILT'"
      ]
     },
     "execution_count": 14,
     "metadata": {},
     "output_type": "execute_result"
    }
   ],
   "source": [
    "sam.upper()"
   ]
  },
  {
   "cell_type": "code",
   "execution_count": 15,
   "id": "e3e46086-373d-42a1-a3b9-25c8788d1032",
   "metadata": {},
   "outputs": [
    {
     "data": {
      "text/plain": [
       "'Definition of \"Moye Moye\" Moye Moye (pronounced \"moy-moy\") is a noun referring to the momentary emotional state characterized by a simultaneous experience of sadness and guilt'"
      ]
     },
     "execution_count": 15,
     "metadata": {},
     "output_type": "execute_result"
    }
   ],
   "source": [
    "sam"
   ]
  },
  {
   "cell_type": "code",
   "execution_count": 16,
   "id": "0122991e-51d0-4e0b-acd9-83e986dfe45a",
   "metadata": {},
   "outputs": [
    {
     "data": {
      "text/plain": [
       "'definition of \"moye moye\" moye moye (pronounced \"moy-moy\") is a noun referring to the momentary emotional state characterized by a simultaneous experience of sadness and guilt'"
      ]
     },
     "execution_count": 16,
     "metadata": {},
     "output_type": "execute_result"
    }
   ],
   "source": [
    "sam.lower()"
   ]
  },
  {
   "cell_type": "code",
   "execution_count": 17,
   "id": "37175246-6ce0-4b85-a74c-e6d150856bbb",
   "metadata": {},
   "outputs": [
    {
     "data": {
      "text/plain": [
       "'Definition of \"moye moye\" moye moye (pronounced \"moy-moy\") is a noun referring to the momentary emotional state characterized by a simultaneous experience of sadness and guilt'"
      ]
     },
     "execution_count": 17,
     "metadata": {},
     "output_type": "execute_result"
    }
   ],
   "source": [
    "sam.capitalize()"
   ]
  },
  {
   "cell_type": "code",
   "execution_count": 18,
   "id": "1dedca5d-592d-42a6-a38e-9831d989ecfb",
   "metadata": {},
   "outputs": [
    {
     "data": {
      "text/plain": [
       "'Definition Of \"Moye Moye\" Moye Moye (Pronounced \"Moy-Moy\") Is A Noun Referring To The Momentary Emotional State Characterized By A Simultaneous Experience Of Sadness And Guilt'"
      ]
     },
     "execution_count": 18,
     "metadata": {},
     "output_type": "execute_result"
    }
   ],
   "source": [
    "sam.title()"
   ]
  },
  {
   "cell_type": "code",
   "execution_count": 24,
   "id": "8dd4889d-6473-4d4a-a78e-01c4ee087728",
   "metadata": {},
   "outputs": [],
   "source": [
    "pan='Sameer ShrINAth'\n",
    "pan.swapcase()\n",
    "pan=pan.title()"
   ]
  },
  {
   "cell_type": "code",
   "execution_count": 25,
   "id": "81c4ea8c-18f9-4871-a2e0-7964b04000dd",
   "metadata": {},
   "outputs": [
    {
     "name": "stdout",
     "output_type": "stream",
     "text": [
      "<reversed object at 0x00000204C79A36A0>\n"
     ]
    }
   ],
   "source": [
    "print(reversed(pan))"
   ]
  },
  {
   "cell_type": "code",
   "execution_count": 26,
   "id": "727d6a91-5cb0-459a-9177-ef6bce548eac",
   "metadata": {},
   "outputs": [
    {
     "data": {
      "text/plain": [
       "'Sameer Shrinath'"
      ]
     },
     "execution_count": 26,
     "metadata": {},
     "output_type": "execute_result"
    }
   ],
   "source": [
    "pan"
   ]
  },
  {
   "cell_type": "code",
   "execution_count": 27,
   "id": "e710dbce-2f92-4332-a672-76b4c3491a2b",
   "metadata": {},
   "outputs": [
    {
     "data": {
      "text/plain": [
       "'htanirhS reemaS'"
      ]
     },
     "execution_count": 27,
     "metadata": {},
     "output_type": "execute_result"
    }
   ],
   "source": [
    "pan[::-1]"
   ]
  },
  {
   "cell_type": "code",
   "execution_count": 31,
   "id": "61482651-73c0-4d91-8eda-d4d7181a4a9a",
   "metadata": {},
   "outputs": [
    {
     "data": {
      "text/plain": [
       "'sa       maer'"
      ]
     },
     "execution_count": 31,
     "metadata": {},
     "output_type": "execute_result"
    }
   ],
   "source": [
    "s='          sa       maer          '\n",
    "s.strip()"
   ]
  },
  {
   "cell_type": "code",
   "execution_count": 32,
   "id": "e6d9f753-b6da-4270-9186-ea67cce4d7fe",
   "metadata": {},
   "outputs": [
    {
     "data": {
      "text/plain": [
       "'sa       maer          '"
      ]
     },
     "execution_count": 32,
     "metadata": {},
     "output_type": "execute_result"
    }
   ],
   "source": [
    "s.lstrip()"
   ]
  },
  {
   "cell_type": "code",
   "execution_count": 33,
   "id": "9ad0f967-6551-401e-96bd-c161622b1679",
   "metadata": {},
   "outputs": [
    {
     "data": {
      "text/plain": [
       "'          sa       maer'"
      ]
     },
     "execution_count": 33,
     "metadata": {},
     "output_type": "execute_result"
    }
   ],
   "source": [
    "s.rstrip()"
   ]
  },
  {
   "cell_type": "code",
   "execution_count": 35,
   "id": "52578a82-409d-4e3e-91a3-d633e4d3b052",
   "metadata": {},
   "outputs": [
    {
     "data": {
      "text/plain": [
       "'Saaamaeaeara aSaharaianaaatah'"
      ]
     },
     "execution_count": 35,
     "metadata": {},
     "output_type": "execute_result"
    }
   ],
   "source": [
    "\"a\".join(pan)"
   ]
  },
  {
   "cell_type": "code",
   "execution_count": 40,
   "id": "5543f9f3-65de-47d5-adc6-d94ae9ff4426",
   "metadata": {},
   "outputs": [
    {
     "data": {
      "text/plain": [
       "'@@@@@@@@@@@@@@@@I am a student of cs@@@@@@@@@@@@@@@@'"
      ]
     },
     "execution_count": 40,
     "metadata": {},
     "output_type": "execute_result"
    }
   ],
   "source": [
    "pan=\"I am a student of cs555555\"\n",
    "pan.center(52,'@')"
   ]
  },
  {
   "cell_type": "code",
   "execution_count": 41,
   "id": "3f9b4964-0080-403b-9f08-b7751fd95d62",
   "metadata": {},
   "outputs": [
    {
     "data": {
      "text/plain": [
       "False"
      ]
     },
     "execution_count": 41,
     "metadata": {},
     "output_type": "execute_result"
    }
   ],
   "source": [
    "pan.isupper()"
   ]
  },
  {
   "cell_type": "code",
   "execution_count": 44,
   "id": "aee6adcc-1fcd-4419-ab37-0a2110ff0153",
   "metadata": {},
   "outputs": [
    {
     "data": {
      "text/plain": [
       "False"
      ]
     },
     "execution_count": 44,
     "metadata": {},
     "output_type": "execute_result"
    }
   ],
   "source": [
    "pan.islower()"
   ]
  },
  {
   "cell_type": "code",
   "execution_count": 45,
   "id": "55662f18-e9f7-4cfc-a0e7-c809e47606e8",
   "metadata": {},
   "outputs": [
    {
     "data": {
      "text/plain": [
       "False"
      ]
     },
     "execution_count": 45,
     "metadata": {},
     "output_type": "execute_result"
    }
   ],
   "source": [
    "pan.isspace()"
   ]
  },
  {
   "cell_type": "code",
   "execution_count": 46,
   "id": "803f1c9b-e944-4211-84f1-0bbf998dbd1b",
   "metadata": {},
   "outputs": [
    {
     "data": {
      "text/plain": [
       "False"
      ]
     },
     "execution_count": 46,
     "metadata": {},
     "output_type": "execute_result"
    }
   ],
   "source": [
    "pan.isdigit()"
   ]
  },
  {
   "cell_type": "code",
   "execution_count": 53,
   "id": "f80c971a-24d2-4dca-919a-987315fe7476",
   "metadata": {},
   "outputs": [
    {
     "data": {
      "text/plain": [
       "'I am a student of cs555555'"
      ]
     },
     "execution_count": 53,
     "metadata": {},
     "output_type": "execute_result"
    }
   ],
   "source": [
    "pan=pan+\"555\"\n",
    "pan"
   ]
  },
  {
   "cell_type": "code",
   "execution_count": 54,
   "id": "3d1ddc7d-25e0-4725-9ab7-635b00bd8944",
   "metadata": {},
   "outputs": [
    {
     "data": {
      "text/plain": [
       "False"
      ]
     },
     "execution_count": 54,
     "metadata": {},
     "output_type": "execute_result"
    }
   ],
   "source": [
    "pan.isalnum()"
   ]
  },
  {
   "cell_type": "code",
   "execution_count": 59,
   "id": "1fd3682d-90b8-4ee4-9c39-77329dc7adf5",
   "metadata": {},
   "outputs": [],
   "source": [
    "jjj=\"455sam\""
   ]
  },
  {
   "cell_type": "code",
   "execution_count": 60,
   "id": "edf7de6b-9ff5-4534-9a82-02dd232a0153",
   "metadata": {},
   "outputs": [
    {
     "data": {
      "text/plain": [
       "True"
      ]
     },
     "execution_count": 60,
     "metadata": {},
     "output_type": "execute_result"
    }
   ],
   "source": [
    "jjj.isalnum()"
   ]
  },
  {
   "cell_type": "code",
   "execution_count": 61,
   "id": "c80846fd-2848-43ef-9113-a699aaa4aa4c",
   "metadata": {},
   "outputs": [
    {
     "data": {
      "text/plain": [
       "True"
      ]
     },
     "execution_count": 61,
     "metadata": {},
     "output_type": "execute_result"
    }
   ],
   "source": [
    "pan.endswith('5')"
   ]
  },
  {
   "cell_type": "code",
   "execution_count": 62,
   "id": "a02600b1-cfe0-410f-ae1d-d3286cd5e45b",
   "metadata": {},
   "outputs": [
    {
     "data": {
      "text/plain": [
       "'I am a student of cs555555'"
      ]
     },
     "execution_count": 62,
     "metadata": {},
     "output_type": "execute_result"
    }
   ],
   "source": [
    "pan"
   ]
  },
  {
   "cell_type": "code",
   "execution_count": 63,
   "id": "bf1646a9-48a4-42a4-82a9-42767b7ad6dc",
   "metadata": {},
   "outputs": [
    {
     "data": {
      "text/plain": [
       "True"
      ]
     },
     "execution_count": 63,
     "metadata": {},
     "output_type": "execute_result"
    }
   ],
   "source": [
    "pan.isascii()"
   ]
  },
  {
   "cell_type": "code",
   "execution_count": 64,
   "id": "7850a096-5f92-405f-9c70-ce66bdbcbde7",
   "metadata": {},
   "outputs": [],
   "source": [
    "s='   6   '"
   ]
  },
  {
   "cell_type": "code",
   "execution_count": 65,
   "id": "4516cb8a-4f8c-4824-a361-92006f8c9659",
   "metadata": {},
   "outputs": [
    {
     "data": {
      "text/plain": [
       "False"
      ]
     },
     "execution_count": 65,
     "metadata": {},
     "output_type": "execute_result"
    }
   ],
   "source": [
    "s.isspace()"
   ]
  },
  {
   "cell_type": "code",
   "execution_count": 68,
   "id": "7046a1da-0b06-48b5-9c9f-6ca42e1920a5",
   "metadata": {},
   "outputs": [
    {
     "data": {
      "text/plain": [
       "False"
      ]
     },
     "execution_count": 68,
     "metadata": {},
     "output_type": "execute_result"
    }
   ],
   "source": [
    "s='This is my very first programming class'\n",
    "s.isspace()"
   ]
  },
  {
   "cell_type": "code",
   "execution_count": 69,
   "id": "63161e22-7bdf-4ab0-b3af-06642078e2d8",
   "metadata": {},
   "outputs": [
    {
     "data": {
      "text/plain": [
       "True"
      ]
     },
     "execution_count": 69,
     "metadata": {},
     "output_type": "execute_result"
    }
   ],
   "source": [
    "s='645646'\n",
    "s.isdigit()"
   ]
  },
  {
   "cell_type": "code",
   "execution_count": 71,
   "id": "fe2e51ed-a310-498b-97f0-dc813c0a068c",
   "metadata": {},
   "outputs": [
    {
     "data": {
      "text/plain": [
       "True"
      ]
     },
     "execution_count": 71,
     "metadata": {},
     "output_type": "execute_result"
    }
   ],
   "source": [
    "s1='s6565s6565s65d65f'\n",
    "s1.isalnum()"
   ]
  },
  {
   "cell_type": "code",
   "execution_count": 72,
   "id": "751eb40c-3765-4928-9d71-6a8556445084",
   "metadata": {},
   "outputs": [],
   "source": [
    "s1='5656 5656 6565'"
   ]
  },
  {
   "cell_type": "code",
   "execution_count": 73,
   "id": "9e2e6f39-48b5-479e-a33e-45e2c0b415dd",
   "metadata": {},
   "outputs": [
    {
     "data": {
      "text/plain": [
       "False"
      ]
     },
     "execution_count": 73,
     "metadata": {},
     "output_type": "execute_result"
    }
   ],
   "source": [
    "s1.isnumeric()"
   ]
  },
  {
   "cell_type": "code",
   "execution_count": 74,
   "id": "fe889399-c484-4634-9c97-a5e595daa005",
   "metadata": {},
   "outputs": [
    {
     "data": {
      "text/plain": [
       "True"
      ]
     },
     "execution_count": 74,
     "metadata": {},
     "output_type": "execute_result"
    }
   ],
   "source": [
    "s1=\"46456654\"\n",
    "s1.isdigit()"
   ]
  },
  {
   "cell_type": "code",
   "execution_count": 76,
   "id": "274c6a09-e5eb-4102-bf90-61ba05bd44ec",
   "metadata": {},
   "outputs": [
    {
     "data": {
      "text/plain": [
       "'saaamaeaeara asaharaianaaatah'"
      ]
     },
     "execution_count": 76,
     "metadata": {},
     "output_type": "execute_result"
    }
   ],
   "source": [
    "sam='sameer shrinath'\n",
    "'a'.join(sam)"
   ]
  },
  {
   "cell_type": "code",
   "execution_count": 80,
   "id": "dc2a2177-7d9c-4ff7-9277-c9d1f2756282",
   "metadata": {},
   "outputs": [
    {
     "data": {
      "text/plain": [
       "'h46456654t46456654a46456654n46456654i46456654r46456654h46456654s46456654 46456654r46456654e46456654e46456654m46456654a46456654s'"
      ]
     },
     "execution_count": 80,
     "metadata": {},
     "output_type": "execute_result"
    }
   ],
   "source": [
    "sam='sameer shrinath'\n",
    "s1.join(reversed(sam))"
   ]
  },
  {
   "cell_type": "code",
   "execution_count": 82,
   "id": "01e6a907-61a5-4edf-9950-649dfa64bad8",
   "metadata": {},
   "outputs": [
    {
     "data": {
      "text/plain": [
       "'python  kr      py'"
      ]
     },
     "execution_count": 82,
     "metadata": {},
     "output_type": "execute_result"
    }
   ],
   "source": [
    "s='python\\tkr\\tpy'\n",
    "s.expandtabs()"
   ]
  },
  {
   "cell_type": "code",
   "execution_count": 83,
   "id": "a0de99aa-d652-4320-be89-75b992a3c17f",
   "metadata": {},
   "outputs": [
    {
     "data": {
      "text/plain": [
       "'sameer\\\\pracchi\\\\sumit\\x07man'"
      ]
     },
     "execution_count": 83,
     "metadata": {},
     "output_type": "execute_result"
    }
   ],
   "source": [
    "s='sameer\\pracchi\\sumit\\aman'\n",
    "s.expandtabs()"
   ]
  },
  {
   "cell_type": "code",
   "execution_count": null,
   "id": "8291d16e-fdc1-4f62-9356-84ac4426bbd9",
   "metadata": {},
   "outputs": [],
   "source": []
  }
 ],
 "metadata": {
  "kernelspec": {
   "display_name": "Python 3 (ipykernel)",
   "language": "python",
   "name": "python3"
  },
  "language_info": {
   "codemirror_mode": {
    "name": "ipython",
    "version": 3
   },
   "file_extension": ".py",
   "mimetype": "text/x-python",
   "name": "python",
   "nbconvert_exporter": "python",
   "pygments_lexer": "ipython3",
   "version": "3.11.5"
  }
 },
 "nbformat": 4,
 "nbformat_minor": 5
}
