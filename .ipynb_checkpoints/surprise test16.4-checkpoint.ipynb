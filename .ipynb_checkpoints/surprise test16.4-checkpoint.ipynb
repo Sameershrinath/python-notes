{
 "cells": [
  {
   "cell_type": "raw",
   "id": "efa4ff33-e74a-4977-a773-b1af9d1ffee6",
   "metadata": {},
   "source": [
    "Q1. [[[[[[0#,1],[1,4#],5#,'sam']]]]] Print underlined contents "
   ]
  },
  {
   "cell_type": "code",
   "execution_count": 42,
   "id": "9e4d7278-b1d8-46f4-8828-8f9319b0fe7b",
   "metadata": {},
   "outputs": [],
   "source": [
    "test=[[[[[[0,1],[1,4],5,'sam']]]]]"
   ]
  },
  {
   "cell_type": "code",
   "execution_count": 40,
   "id": "9dec5969-dd40-4a4e-a279-4503c9bb2d2b",
   "metadata": {},
   "outputs": [
    {
     "name": "stdout",
     "output_type": "stream",
     "text": [
      "1\n"
     ]
    }
   ],
   "source": [
    "#printing 1\n",
    "print(test[0][0][0][0][0][1])"
   ]
  },
  {
   "cell_type": "code",
   "execution_count": 41,
   "id": "04c13aad-4a3b-42eb-9b07-7d6b90ef481b",
   "metadata": {},
   "outputs": [
    {
     "name": "stdout",
     "output_type": "stream",
     "text": [
      "4\n"
     ]
    }
   ],
   "source": [
    "#printing 4\n",
    "print(test[0][0][0][0][1][1])"
   ]
  },
  {
   "cell_type": "code",
   "execution_count": 39,
   "id": "d79ccb67-3e2b-48f0-8a54-6a79b42beda2",
   "metadata": {},
   "outputs": [
    {
     "name": "stdout",
     "output_type": "stream",
     "text": [
      "5\n"
     ]
    }
   ],
   "source": [
    "#printing 5\n",
    "print(test[0][0][0][0][2])\n"
   ]
  },
  {
   "cell_type": "raw",
   "id": "62fc2440-5831-46d0-bccd-bd0e5a3f9b1a",
   "metadata": {},
   "source": [
    "Q.2 Write a loop for Prime Number between (1,256)?"
   ]
  },
  {
   "cell_type": "code",
   "execution_count": 6,
   "id": "772ae8a3-028c-4fed-9810-35af4b96cc2b",
   "metadata": {},
   "outputs": [
    {
     "name": "stdout",
     "output_type": "stream",
     "text": [
      "[2, 3, 5, 7, 11, 13, 17, 19, 23, 29, 31, 37, 41, 43, 47, 53, 59, 61, 67, 71, 73, 79, 83, 89, 97, 101, 103, 107, 109, 113, 127, 131, 137, 139, 149, 151, 157, 163, 167, 173, 179, 181, 191, 193, 197, 199, 211, 223, 227, 229, 233, 239, 241, 251]\n"
     ]
    }
   ],
   "source": [
    "p1 = []\n",
    "\n",
    "for num in range(1, 257):\n",
    "    if num > 1:\n",
    "        for i in range(2, num):\n",
    "            if (num % i) == 0:\n",
    "                break\n",
    "        else:\n",
    "            p1.append(num)\n",
    "\n",
    "print(p1)\n"
   ]
  },
  {
   "cell_type": "raw",
   "id": "81fdef28-ec84-4b1d-998b-ad62f88af069",
   "metadata": {},
   "source": [
    "Q.3 Write a code to print Palindrome Number"
   ]
  },
  {
   "cell_type": "code",
   "execution_count": 16,
   "id": "d5608d1f-04c8-467c-8779-4d4a05038649",
   "metadata": {},
   "outputs": [
    {
     "name": "stdin",
     "output_type": "stream",
     "text": [
      "Enter the number to check palindrome no. 58\n"
     ]
    },
    {
     "name": "stdout",
     "output_type": "stream",
     "text": [
      "You Entered 58, which is not a Palindrome Number\n"
     ]
    }
   ],
   "source": [
    "l=input(\"Enter the number to check palindrome no.\")\n",
    "reversed=l[::-1]\n",
    "if l==reversed:\n",
    "    print(f'The entered number {l} is a palindrome Number')\n",
    "else:\n",
    "    print(f'You Entered {l}, which is not a Palindrome Number')"
   ]
  },
  {
   "cell_type": "raw",
   "id": "8add6c98-12ec-421e-a5ed-0853e4627e91",
   "metadata": {},
   "source": [
    "Q.4 Write one linear code to sum from 5 to 95 without using loops"
   ]
  },
  {
   "cell_type": "code",
   "execution_count": 24,
   "id": "33faa98d-c7d2-466c-ac54-2a197a67bb65",
   "metadata": {},
   "outputs": [
    {
     "name": "stdout",
     "output_type": "stream",
     "text": [
      "4550.0\n"
     ]
    }
   ],
   "source": [
    "sum = (95 - 5 + 1) * (5 + 95) /2\n",
    "print(sum)\n"
   ]
  },
  {
   "cell_type": "raw",
   "id": "54548e00-ad33-4c00-b699-7973338ed0ee",
   "metadata": {},
   "source": [
    "Q.5 Write what is Polymorphis,Encapsulation?"
   ]
  },
  {
   "cell_type": "code",
   "execution_count": null,
   "id": "29453a05-b5af-42d1-9ff8-dbd91110cf92",
   "metadata": {},
   "outputs": [],
   "source": []
  },
  {
   "cell_type": "raw",
   "id": "e80ff133-3cad-487a-b43a-6c89f6da4d92",
   "metadata": {},
   "source": [
    "Q.6 Write a code such that it will accept two arguments and it will give velocity."
   ]
  },
  {
   "cell_type": "code",
   "execution_count": null,
   "id": "8c9cc278-bc41-4ee4-801e-27ee36647f11",
   "metadata": {},
   "outputs": [],
   "source": [
    "a=int(input(\"Enter the value of Displacement\"))\n",
    "b=int(input(\"Enter the value of Time\"))\n",
    "def vel(a,b):\n",
    "    return a/b\n",
    "\n",
    "vel(a,b)\n",
    "    \n",
    "\n"
   ]
  },
  {
   "cell_type": "code",
   "execution_count": null,
   "id": "71a021bd-2d31-4621-ad0b-b46e8bd497ab",
   "metadata": {},
   "outputs": [],
   "source": []
  }
 ],
 "metadata": {
  "kernelspec": {
   "display_name": "Python 3 (ipykernel)",
   "language": "python",
   "name": "python3"
  },
  "language_info": {
   "codemirror_mode": {
    "name": "ipython",
    "version": 3
   },
   "file_extension": ".py",
   "mimetype": "text/x-python",
   "name": "python",
   "nbconvert_exporter": "python",
   "pygments_lexer": "ipython3",
   "version": "3.11.5"
  }
 },
 "nbformat": 4,
 "nbformat_minor": 5
}
