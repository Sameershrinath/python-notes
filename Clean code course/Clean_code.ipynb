{
 "cells": [
  {
   "cell_type": "markdown",
   "metadata": {},
   "source": [
    "## **Clean Coding in Python**"
   ]
  },
  {
   "cell_type": "markdown",
   "metadata": {},
   "source": [
    "### The NIH principle (The not invented here Principle)"
   ]
  },
  {
   "cell_type": "code",
   "execution_count": 1,
   "metadata": {},
   "outputs": [],
   "source": [
    "# Avoid reinventing existing features\n",
    "# software licences may be an issue\n",
    "# Open SOurce Software is still secure"
   ]
  },
  {
   "cell_type": "code",
   "execution_count": 2,
   "metadata": {},
   "outputs": [],
   "source": [
    "# Advantages\n",
    "\n",
    "# Less code to develope \n",
    "# Quicker development times\n",
    "# more eyes on the same bug\n",
    "# Standing on the shoulder of giants\n"
   ]
  },
  {
   "cell_type": "markdown",
   "metadata": {},
   "source": [
    "# Taking random word from a string"
   ]
  },
  {
   "cell_type": "code",
   "execution_count": 11,
   "metadata": {},
   "outputs": [
    {
     "name": "stdout",
     "output_type": "stream",
     "text": [
      "['a', 'a', 'i']\n"
     ]
    }
   ],
   "source": [
    "import random\n",
    "num=3\n",
    "password='thisisaveryweakpassword'\n",
    "choices=[]\n",
    "for x in range(num):\n",
    "    choice=random.choice(password)\n",
    "    choices.append(choice)\n",
    "\n",
    "print(choices)"
   ]
  },
  {
   "cell_type": "markdown",
   "metadata": {},
   "source": [
    "## Simple code but same task\n"
   ]
  },
  {
   "cell_type": "code",
   "execution_count": 7,
   "metadata": {},
   "outputs": [
    {
     "name": "stdout",
     "output_type": "stream",
     "text": [
      "['d', 'w', 'h']\n"
     ]
    }
   ],
   "source": [
    "letter=random.sample(password,num)\n",
    "print(letter)"
   ]
  },
  {
   "cell_type": "markdown",
   "metadata": {},
   "source": [
    "## **Guidlines**"
   ]
  },
  {
   "cell_type": "markdown",
   "metadata": {},
   "source": [
    "### **Python enhancement standards**"
   ]
  },
  {
   "cell_type": "code",
   "execution_count": 12,
   "metadata": {},
   "outputs": [],
   "source": [
    "# 1.A set of guides that help keep your code redable and every \n",
    "# developer should follow \n",
    "\n",
    "# 2.It should not change the behaviour of the code and makes it more readable,\n",
    "# to you and other developers\n",
    "\n"
   ]
  },
  {
   "cell_type": "markdown",
   "metadata": {},
   "source": [
    "## **PEP 8 Standards**"
   ]
  },
  {
   "cell_type": "code",
   "execution_count": 13,
   "metadata": {},
   "outputs": [],
   "source": [
    "# 1.Use four spaces per indentation level\n",
    "# 2.spaces are preferred over tabs\n",
    "# 3.limit lines to 79 characters\n",
    "# 4.Surround top levelfunction and class definitions with blank lines\n",
    "# 5. Imports should be on separate lines \n",
    "# 6.Avoid extra white space inside parentheses,brackets and braces\n",
    "# 7. for more standards: https://pep8.org"
   ]
  },
  {
   "cell_type": "markdown",
   "metadata": {},
   "source": [
    "## **Naming things in python**"
   ]
  },
  {
   "cell_type": "markdown",
   "metadata": {},
   "source": [
    "## One thing can mean many things"
   ]
  },
  {
   "cell_type": "code",
   "execution_count": 14,
   "metadata": {},
   "outputs": [],
   "source": [
    "# Constents and the consistency is the key \n",
    "# avoid mixing the Opposites\n",
    "# Name methods to explain what they do \n",
    "# Name classs for how they are implemented\n",
    "# Name variables for what they represent"
   ]
  },
  {
   "cell_type": "markdown",
   "metadata": {},
   "source": [
    "## **Example of the naming conventions**"
   ]
  },
  {
   "cell_type": "code",
   "execution_count": 17,
   "metadata": {},
   "outputs": [],
   "source": [
    "#Bad Example \n",
    "\n",
    "import datetime\n",
    "n=datetime.date.today().strftime(\"%y-%m-%d\")\n",
    "\n",
    "#Good  Example\n",
    "import datetime\n",
    "current_date=datetime.date.today().strftime(\"%y-%m-%d\")"
   ]
  },
  {
   "cell_type": "code",
   "execution_count": 18,
   "metadata": {},
   "outputs": [],
   "source": [
    "#Bad Examples\n",
    "\n",
    "# get_prod()\n",
    "# get_p_stocks()\n",
    "# get_record_product()\n",
    "\n",
    "\n",
    "#Good Examples\n",
    "\n",
    "#get_product()\n",
    "# get_product_stock()\n",
    "# get_product_record()"
   ]
  },
  {
   "cell_type": "code",
   "execution_count": 24,
   "metadata": {},
   "outputs": [],
   "source": [
    "#Bad example of the function name \n",
    "#here name is not defining the task of the function \n",
    "def value(a,b):\n",
    "    return a+b"
   ]
  },
  {
   "cell_type": "code",
   "execution_count": 25,
   "metadata": {},
   "outputs": [],
   "source": [
    "#here \"add\" function is returning the sum of the two numbers \n",
    "\n",
    "def add(num1,num2):\n",
    "    return num1+num2"
   ]
  },
  {
   "cell_type": "markdown",
   "metadata": {},
   "source": [
    "## **Pros and cons of the Writting the comment in the code**"
   ]
  },
  {
   "cell_type": "code",
   "execution_count": 22,
   "metadata": {},
   "outputs": [
    {
     "data": {
      "text/plain": [
       "9"
      ]
     },
     "execution_count": 22,
     "metadata": {},
     "output_type": "execute_result"
    }
   ],
   "source": [
    "Comment is written to inform the developer what is the function of the code written \n",
    "1. Better code clearification\n",
    "2. Explains the why\n",
    "3. explain the how\n",
    "4.planning and reviewing\n",
    "5. Resource inclusion\n",
    "6. Debugging\n"
   ]
  },
  {
   "cell_type": "code",
   "execution_count": null,
   "metadata": {},
   "outputs": [],
   "source": [
    "1.Comments get rotten\n",
    "2.Adds overhead (but this can be mitigated)\n",
    "3.Adds Noise\n"
   ]
  },
  {
   "cell_type": "code",
   "execution_count": 27,
   "metadata": {},
   "outputs": [],
   "source": [
    "\"\"\"\n",
    "Get the active users\n",
    "\"\"\"\n",
    "\n",
    "def get_active_users(users):\n",
    "    #some line of (This is the bad way to write comment ,it increases the noise)\n",
    "    return True\n",
    "\n",
    "\n",
    "#  Here in the above example the work of the\n",
    "#  function is clear with the name of function itself no any\n",
    "# comment is required"
   ]
  },
  {
   "cell_type": "code",
   "execution_count": null,
   "metadata": {},
   "outputs": [],
   "source": []
  },
  {
   "cell_type": "markdown",
   "metadata": {},
   "source": [
    "### **Hope You Enjoyed :)**"
   ]
  },
  {
   "cell_type": "markdown",
   "metadata": {},
   "source": []
  }
 ],
 "metadata": {
  "kernelspec": {
   "display_name": "base",
   "language": "python",
   "name": "python3"
  },
  "language_info": {
   "codemirror_mode": {
    "name": "ipython",
    "version": 3
   },
   "file_extension": ".py",
   "mimetype": "text/x-python",
   "name": "python",
   "nbconvert_exporter": "python",
   "pygments_lexer": "ipython3",
   "version": "3.11.5"
  }
 },
 "nbformat": 4,
 "nbformat_minor": 2
}
