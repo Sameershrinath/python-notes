{
 "cells": [
  {
   "cell_type": "code",
   "execution_count": null,
   "id": "a99c040f",
   "metadata": {},
   "outputs": [],
   "source": [
    "print('sameer shrinath')"
   ]
  },
  {
   "cell_type": "code",
   "execution_count": null,
   "id": "385daaa0",
   "metadata": {},
   "outputs": [],
   "source": [
    "a=10"
   ]
  },
  {
   "cell_type": "code",
   "execution_count": null,
   "id": "d7ef0909",
   "metadata": {},
   "outputs": [],
   "source": [
    "#why it is giving the value without print\n",
    "a"
   ]
  },
  {
   "cell_type": "code",
   "execution_count": null,
   "id": "d7ae7368",
   "metadata": {},
   "outputs": [],
   "source": [
    "print(a)"
   ]
  },
  {
   "cell_type": "code",
   "execution_count": null,
   "id": "247e554d",
   "metadata": {},
   "outputs": [],
   "source": [
    "sam='man'\n",
    "print(type(sam))"
   ]
  },
  {
   "cell_type": "code",
   "execution_count": null,
   "id": "796c866b",
   "metadata": {},
   "outputs": [],
   "source": [
    "x=True\n",
    "print(type(x))"
   ]
  },
  {
   "cell_type": "code",
   "execution_count": null,
   "id": "8bef3c1e",
   "metadata": {},
   "outputs": [],
   "source": [
    "x=False\n",
    "print(type(x))"
   ]
  },
  {
   "cell_type": "code",
   "execution_count": null,
   "id": "1e6a8b2b",
   "metadata": {},
   "outputs": [],
   "source": [
    "prachi='girl'\n",
    "print(type(prachi))"
   ]
  },
  {
   "cell_type": "code",
   "execution_count": null,
   "id": "ebb0f8bb",
   "metadata": {},
   "outputs": [],
   "source": [
    "print(x)"
   ]
  },
  {
   "cell_type": "code",
   "execution_count": null,
   "id": "db93410c",
   "metadata": {},
   "outputs": [],
   "source": [
    "a='sam3'\n",
    "print(a)"
   ]
  },
  {
   "cell_type": "code",
   "execution_count": null,
   "id": "543fe021",
   "metadata": {},
   "outputs": [],
   "source": [
    "a='45'\n",
    "print(a)"
   ]
  },
  {
   "cell_type": "code",
   "execution_count": null,
   "id": "4233914c",
   "metadata": {},
   "outputs": [],
   "source": [
    "print(type(a))"
   ]
  },
  {
   "cell_type": "code",
   "execution_count": null,
   "id": "3b5e2390",
   "metadata": {},
   "outputs": [],
   "source": [
    "str=45\n",
    "type(str)"
   ]
  },
  {
   "cell_type": "code",
   "execution_count": null,
   "id": "e1333b0b",
   "metadata": {},
   "outputs": [],
   "source": [
    "\n",
    "print('sam')"
   ]
  },
  {
   "cell_type": "code",
   "execution_count": null,
   "id": "0bf69be3",
   "metadata": {},
   "outputs": [],
   "source": [
    "#1s='sam'\n"
   ]
  },
  {
   "cell_type": "code",
   "execution_count": null,
   "id": "e6e46c11",
   "metadata": {},
   "outputs": [],
   "source": [
    "girl=['prachi','shreya','sonal']\n",
    "\n"
   ]
  },
  {
   "cell_type": "code",
   "execution_count": null,
   "id": "fcb862d9",
   "metadata": {},
   "outputs": [],
   "source": [
    "2**3"
   ]
  },
  {
   "cell_type": "code",
   "execution_count": null,
   "id": "fe0a5e89",
   "metadata": {},
   "outputs": [],
   "source": [
    "2**3"
   ]
  },
  {
   "cell_type": "code",
   "execution_count": null,
   "id": "328454af",
   "metadata": {},
   "outputs": [],
   "source": [
    "sam=5+7j"
   ]
  },
  {
   "cell_type": "code",
   "execution_count": null,
   "id": "9f6ad3f2",
   "metadata": {},
   "outputs": [],
   "source": [
    "type(sam)"
   ]
  },
  {
   "cell_type": "code",
   "execution_count": null,
   "id": "0348e9f8",
   "metadata": {},
   "outputs": [],
   "source": [
    "sam.real"
   ]
  },
  {
   "cell_type": "code",
   "execution_count": null,
   "id": "63440d8a",
   "metadata": {},
   "outputs": [],
   "source": [
    "sam.imag"
   ]
  },
  {
   "cell_type": "code",
   "execution_count": null,
   "id": "825c9439",
   "metadata": {},
   "outputs": [],
   "source": [
    "girl='sita'\n",
    "sam+5\n",
    "vima='lata'"
   ]
  },
  {
   "cell_type": "code",
   "execution_count": null,
   "id": "28da1381",
   "metadata": {},
   "outputs": [],
   "source": [
    "student='neuron'\n",
    "print(student)"
   ]
  },
  {
   "cell_type": "code",
   "execution_count": null,
   "id": "52344bba",
   "metadata": {},
   "outputs": [],
   "source": [
    "print('hello',end=' sameer')"
   ]
  },
  {
   "cell_type": "code",
   "execution_count": null,
   "id": "52ef3fdf",
   "metadata": {},
   "outputs": [],
   "source": [
    "print('Hello', end=' Simran')"
   ]
  },
  {
   "cell_type": "code",
   "execution_count": null,
   "id": "1df943f8",
   "metadata": {},
   "outputs": [],
   "source": [
    "#############################################\n",
    "###########################################\n",
    "##########Day 2############################\n",
    "#############################################\n",
    "###########################################"
   ]
  },
  {
   "cell_type": "code",
   "execution_count": null,
   "id": "ae3242c0",
   "metadata": {},
   "outputs": [],
   "source": [
    "pat='u'\n",
    "while pat.lower()=='u':\n",
    "    a=input(\"Are you dumb:\")\n",
    "    if a==\"yes\":\n",
    "        print(\"I know\")\n",
    "    elif a==\"no\":\n",
    "        print('chal jhute')\n",
    "        break"
   ]
  },
  {
   "cell_type": "code",
   "execution_count": null,
   "id": "b0cf8816",
   "metadata": {},
   "outputs": [],
   "source": [
    "sam='sameer shrinath'\n",
    "print(sam[2])"
   ]
  },
  {
   "cell_type": "code",
   "execution_count": null,
   "id": "4e554c20",
   "metadata": {},
   "outputs": [],
   "source": [
    "s2 = \"this is my value in the string\"\n",
    "print(s2[3])"
   ]
  },
  {
   "cell_type": "code",
   "execution_count": null,
   "id": "b8b0f750",
   "metadata": {},
   "outputs": [],
   "source": [
    "sam='sameer shrinath'\n",
    "pam=sam.upper()\n",
    "print(pam)"
   ]
  },
  {
   "cell_type": "code",
   "execution_count": null,
   "id": "1ba15b5d",
   "metadata": {},
   "outputs": [],
   "source": [
    "fruit='apple'\n",
    "fruit[3]\n",
    "fruit[3]"
   ]
  },
  {
   "cell_type": "markdown",
   "id": "6c4e0a38",
   "metadata": {},
   "source": []
  },
  {
   "cell_type": "code",
   "execution_count": null,
   "id": "cbb7b61f",
   "metadata": {},
   "outputs": [],
   "source": [
    "sam=5\n",
    "sam=6\n",
    "print(sam)"
   ]
  },
  {
   "cell_type": "code",
   "execution_count": null,
   "id": "bf5b389d",
   "metadata": {},
   "outputs": [],
   "source": [
    "s='abcdefghijkl'\n",
    "print(len(s))"
   ]
  },
  {
   "cell_type": "code",
   "execution_count": null,
   "id": "ff57b088-e743-4de4-a23b-a9dca1578aee",
   "metadata": {},
   "outputs": [],
   "source": [
    "s='mypython'\n",
    "s[-5:2]"
   ]
  },
  {
   "cell_type": "code",
   "execution_count": null,
   "id": "5b5f0aa5-f26e-4fe1-a34a-8c705c8217eb",
   "metadata": {},
   "outputs": [],
   "source": [
    "s+\"1\""
   ]
  },
  {
   "cell_type": "code",
   "execution_count": null,
   "id": "5c5b9bbb-e9d8-4331-a4fd-86e418950dd9",
   "metadata": {},
   "outputs": [],
   "source": [
    "s.count('sum')\n",
    "s.count(\"py\")"
   ]
  },
  {
   "cell_type": "code",
   "execution_count": null,
   "id": "1128efef-c185-41ec-8a6c-9aefe126f315",
   "metadata": {},
   "outputs": [],
   "source": [
    "p='pythooponePpeefh'\n",
    "p.count(\"p\")+p.count('P')"
   ]
  },
  {
   "cell_type": "code",
   "execution_count": null,
   "id": "9d743930-0588-4e33-b250-068c10043dc5",
   "metadata": {},
   "outputs": [],
   "source": [
    "s.split('y')"
   ]
  },
  {
   "cell_type": "code",
   "execution_count": null,
   "id": "7dd93dc4-1446-41a2-8fd8-6cbd5a6d40be",
   "metadata": {},
   "outputs": [],
   "source": [
    "sam='''Definition of \n",
    "\"Moye Moye\" Moye Moye (pronounced \"moy-moy\") is \n",
    "a noun referring to the momentary emotional state characterized by a simultaneous experience of sadness and guilt'''"
   ]
  },
  {
   "cell_type": "code",
   "execution_count": null,
   "id": "d1d1f2a6-6025-4641-8bcf-1e6b5b281c78",
   "metadata": {},
   "outputs": [],
   "source": [
    "print(sam)"
   ]
  },
  {
   "cell_type": "code",
   "execution_count": null,
   "id": "3934a52e-f041-46da-9c82-e96d46703ed7",
   "metadata": {},
   "outputs": [],
   "source": [
    "sam.split(' ')"
   ]
  },
  {
   "cell_type": "code",
   "execution_count": null,
   "id": "05d6219c-ee50-4cee-ae96-ab03c52ca19e",
   "metadata": {},
   "outputs": [],
   "source": [
    "type(sam)"
   ]
  },
  {
   "cell_type": "code",
   "execution_count": null,
   "id": "abc3e1a5-b016-4d7a-acd4-6e4889f6a249",
   "metadata": {},
   "outputs": [],
   "source": [
    "sam.upper()"
   ]
  },
  {
   "cell_type": "code",
   "execution_count": null,
   "id": "e3e46086-373d-42a1-a3b9-25c8788d1032",
   "metadata": {},
   "outputs": [],
   "source": [
    "sam"
   ]
  },
  {
   "cell_type": "code",
   "execution_count": null,
   "id": "0122991e-51d0-4e0b-acd9-83e986dfe45a",
   "metadata": {},
   "outputs": [],
   "source": [
    "sam.lower()"
   ]
  },
  {
   "cell_type": "code",
   "execution_count": null,
   "id": "37175246-6ce0-4b85-a74c-e6d150856bbb",
   "metadata": {},
   "outputs": [],
   "source": [
    "sam.capitalize()"
   ]
  },
  {
   "cell_type": "code",
   "execution_count": null,
   "id": "1dedca5d-592d-42a6-a38e-9831d989ecfb",
   "metadata": {},
   "outputs": [],
   "source": [
    "sam.title()"
   ]
  },
  {
   "cell_type": "code",
   "execution_count": null,
   "id": "8dd4889d-6473-4d4a-a78e-01c4ee087728",
   "metadata": {},
   "outputs": [],
   "source": [
    "pan='Sameer ShrINAth'\n",
    "pan.swapcase()\n",
    "pan=pan.title()"
   ]
  },
  {
   "cell_type": "code",
   "execution_count": null,
   "id": "81c4ea8c-18f9-4871-a2e0-7964b04000dd",
   "metadata": {},
   "outputs": [],
   "source": [
    "print(reversed(pan))"
   ]
  },
  {
   "cell_type": "code",
   "execution_count": null,
   "id": "727d6a91-5cb0-459a-9177-ef6bce548eac",
   "metadata": {},
   "outputs": [],
   "source": [
    "pan"
   ]
  },
  {
   "cell_type": "code",
   "execution_count": null,
   "id": "e710dbce-2f92-4332-a672-76b4c3491a2b",
   "metadata": {},
   "outputs": [],
   "source": [
    "pan[::-1]"
   ]
  },
  {
   "cell_type": "code",
   "execution_count": null,
   "id": "61482651-73c0-4d91-8eda-d4d7181a4a9a",
   "metadata": {},
   "outputs": [],
   "source": [
    "s='          sa       maer          '\n",
    "s.strip()"
   ]
  },
  {
   "cell_type": "code",
   "execution_count": null,
   "id": "e6d9f753-b6da-4270-9186-ea67cce4d7fe",
   "metadata": {},
   "outputs": [],
   "source": [
    "s.lstrip()"
   ]
  },
  {
   "cell_type": "code",
   "execution_count": null,
   "id": "9ad0f967-6551-401e-96bd-c161622b1679",
   "metadata": {},
   "outputs": [],
   "source": [
    "s.rstrip()"
   ]
  },
  {
   "cell_type": "code",
   "execution_count": null,
   "id": "52578a82-409d-4e3e-91a3-d633e4d3b052",
   "metadata": {},
   "outputs": [],
   "source": [
    "\"a\".join(pan)"
   ]
  },
  {
   "cell_type": "code",
   "execution_count": null,
   "id": "5543f9f3-65de-47d5-adc6-d94ae9ff4426",
   "metadata": {},
   "outputs": [],
   "source": [
    "pan=\"I am a student of cs555555\"\n",
    "pan.center(52,'@')"
   ]
  },
  {
   "cell_type": "code",
   "execution_count": null,
   "id": "3f9b4964-0080-403b-9f08-b7751fd95d62",
   "metadata": {},
   "outputs": [],
   "source": [
    "pan.isupper()"
   ]
  },
  {
   "cell_type": "code",
   "execution_count": null,
   "id": "aee6adcc-1fcd-4419-ab37-0a2110ff0153",
   "metadata": {},
   "outputs": [],
   "source": [
    "pan.islower()"
   ]
  },
  {
   "cell_type": "code",
   "execution_count": null,
   "id": "55662f18-e9f7-4cfc-a0e7-c809e47606e8",
   "metadata": {},
   "outputs": [],
   "source": [
    "pan.isspace()"
   ]
  },
  {
   "cell_type": "code",
   "execution_count": null,
   "id": "803f1c9b-e944-4211-84f1-0bbf998dbd1b",
   "metadata": {},
   "outputs": [],
   "source": [
    "pan.isdigit()"
   ]
  },
  {
   "cell_type": "code",
   "execution_count": null,
   "id": "f80c971a-24d2-4dca-919a-987315fe7476",
   "metadata": {},
   "outputs": [],
   "source": [
    "pan=pan+\"555\"\n",
    "pan"
   ]
  },
  {
   "cell_type": "code",
   "execution_count": null,
   "id": "3d1ddc7d-25e0-4725-9ab7-635b00bd8944",
   "metadata": {},
   "outputs": [],
   "source": [
    "pan.isalnum()"
   ]
  },
  {
   "cell_type": "code",
   "execution_count": null,
   "id": "1fd3682d-90b8-4ee4-9c39-77329dc7adf5",
   "metadata": {},
   "outputs": [],
   "source": [
    "jjj=\"455sam\""
   ]
  },
  {
   "cell_type": "code",
   "execution_count": null,
   "id": "edf7de6b-9ff5-4534-9a82-02dd232a0153",
   "metadata": {},
   "outputs": [],
   "source": [
    "jjj.isalnum()"
   ]
  },
  {
   "cell_type": "code",
   "execution_count": null,
   "id": "c80846fd-2848-43ef-9113-a699aaa4aa4c",
   "metadata": {},
   "outputs": [],
   "source": [
    "pan.endswith('5')"
   ]
  },
  {
   "cell_type": "code",
   "execution_count": null,
   "id": "a02600b1-cfe0-410f-ae1d-d3286cd5e45b",
   "metadata": {},
   "outputs": [],
   "source": [
    "pan"
   ]
  },
  {
   "cell_type": "code",
   "execution_count": null,
   "id": "bf1646a9-48a4-42a4-82a9-42767b7ad6dc",
   "metadata": {},
   "outputs": [],
   "source": [
    "pan.isascii()"
   ]
  },
  {
   "cell_type": "code",
   "execution_count": null,
   "id": "7850a096-5f92-405f-9c70-ce66bdbcbde7",
   "metadata": {},
   "outputs": [],
   "source": [
    "s='   6   '"
   ]
  },
  {
   "cell_type": "code",
   "execution_count": null,
   "id": "4516cb8a-4f8c-4824-a361-92006f8c9659",
   "metadata": {},
   "outputs": [],
   "source": [
    "s.isspace()"
   ]
  },
  {
   "cell_type": "code",
   "execution_count": null,
   "id": "7046a1da-0b06-48b5-9c9f-6ca42e1920a5",
   "metadata": {},
   "outputs": [],
   "source": [
    "s='This is my very first programming class'\n",
    "s.isspace()"
   ]
  },
  {
   "cell_type": "code",
   "execution_count": null,
   "id": "63161e22-7bdf-4ab0-b3af-06642078e2d8",
   "metadata": {},
   "outputs": [],
   "source": [
    "s='645646'\n",
    "s.isdigit()"
   ]
  },
  {
   "cell_type": "code",
   "execution_count": null,
   "id": "fe2e51ed-a310-498b-97f0-dc813c0a068c",
   "metadata": {},
   "outputs": [],
   "source": [
    "s1='s6565s6565s65d65f'\n",
    "s1.isalnum()"
   ]
  },
  {
   "cell_type": "code",
   "execution_count": null,
   "id": "751eb40c-3765-4928-9d71-6a8556445084",
   "metadata": {},
   "outputs": [],
   "source": [
    "s1='5656 5656 6565'"
   ]
  },
  {
   "cell_type": "code",
   "execution_count": null,
   "id": "9e2e6f39-48b5-479e-a33e-45e2c0b415dd",
   "metadata": {},
   "outputs": [],
   "source": [
    "s1.isnumeric()"
   ]
  },
  {
   "cell_type": "code",
   "execution_count": null,
   "id": "fe889399-c484-4634-9c97-a5e595daa005",
   "metadata": {},
   "outputs": [],
   "source": [
    "s1=\"46456654\"\n",
    "s1.isdigit()"
   ]
  },
  {
   "cell_type": "code",
   "execution_count": null,
   "id": "274c6a09-e5eb-4102-bf90-61ba05bd44ec",
   "metadata": {},
   "outputs": [],
   "source": [
    "sam='sameer shrinath'\n",
    "'a'.join(sam)"
   ]
  },
  {
   "cell_type": "code",
   "execution_count": null,
   "id": "dc2a2177-7d9c-4ff7-9277-c9d1f2756282",
   "metadata": {},
   "outputs": [],
   "source": [
    "sam='sameer shrinath'\n",
    "s1.join(reversed(sam))"
   ]
  },
  {
   "cell_type": "code",
   "execution_count": null,
   "id": "01e6a907-61a5-4edf-9950-649dfa64bad8",
   "metadata": {},
   "outputs": [],
   "source": [
    "s='python\\tkr\\tpy'\n",
    "s.expandtabs()"
   ]
  },
  {
   "cell_type": "code",
   "execution_count": null,
   "id": "a0de99aa-d652-4320-be89-75b992a3c17f",
   "metadata": {},
   "outputs": [],
   "source": [
    "s='sameer\\pracchi\\sumit\\aman'\n",
    "s.expandtabs()"
   ]
  },
  {
   "cell_type": "code",
   "execution_count": null,
   "id": "8291d16e-fdc1-4f62-9356-84ac4426bbd9",
   "metadata": {},
   "outputs": [],
   "source": [
    "a=50\n",
    "while a>10:\n",
    "    marks=int(input(\"Enter the marks\"))\n",
    "    if marks<600:\n",
    "        print(\"chale jao babu\")\n",
    "    elif marks==0:\n",
    "        print(\"tere bas ka nahi \")\n",
    "    if marks>600:\n",
    "        print(\"wow\")\n",
    "    "
   ]
  },
  {
   "cell_type": "code",
   "execution_count": null,
   "id": "05c22dd5-34a6-4aa8-9886-f1e652b7adfe",
   "metadata": {},
   "outputs": [],
   "source": [
    "value=int(input(\"enter the number\"))\n",
    "if value<0:\n",
    "    print(\"Your number is negative\")\n",
    "elif value>0:\n",
    "    print(\"Your number is positive\")\n",
    "if value==0:\n",
    "    print(\"You entered zero\")"
   ]
  },
  {
   "cell_type": "code",
   "execution_count": null,
   "id": "702e69ca-89a8-44e8-8e59-ff79215d5aa0",
   "metadata": {},
   "outputs": [],
   "source": [
    "#union of the list learning\n",
    "set1={1,2,3}\n",
    "set2={4,5,6}\n",
    "union=set1.union(set2)\n",
    "print(union)\n"
   ]
  },
  {
   "cell_type": "code",
   "execution_count": null,
   "id": "b29261ed-8bdb-4d3f-8bd9-f20841189e89",
   "metadata": {},
   "outputs": [],
   "source": [
    "frozen_list=(union)\n",
    "print(frozen_list)"
   ]
  },
  {
   "cell_type": "code",
   "execution_count": null,
   "id": "7326f226-e7e4-42e3-a690-2a9f03e0cafd",
   "metadata": {},
   "outputs": [],
   "source": [
    "frozen_list[1]=5"
   ]
  },
  {
   "cell_type": "code",
   "execution_count": null,
   "id": "a1545cf0-04f0-4b01-bc8c-05505ee23c8c",
   "metadata": {},
   "outputs": [],
   "source": [
    "#making the list a frozen list\n",
    "frozen=(union)\n",
    "print(frozen)\n",
    "#frozen[2]=45\n",
    "type(frozen)\n",
    "type(union)"
   ]
  },
  {
   "cell_type": "code",
   "execution_count": null,
   "id": "2a1a034e-b7c0-4292-9c8f-cd95dcaf6f80",
   "metadata": {},
   "outputs": [],
   "source": [
    "a=(5,6,6)\n",
    "type(a)"
   ]
  },
  {
   "cell_type": "code",
   "execution_count": null,
   "id": "d49886c9-4586-4684-a5d0-855131c9dec9",
   "metadata": {},
   "outputs": [],
   "source": [
    "union={45,46,47}\n",
    "union=frozenset({45,46,47})\n",
    "type(union)"
   ]
  },
  {
   "cell_type": "code",
   "execution_count": null,
   "id": "797e1b28-931d-4a4c-839c-f63bc6216b02",
   "metadata": {},
   "outputs": [],
   "source": [
    "num=int(input(\"enter the value\"))\n"
   ]
  },
  {
   "cell_type": "code",
   "execution_count": null,
   "id": "fbf00838-714d-48e7-85be-89dd2141869d",
   "metadata": {},
   "outputs": [],
   "source": [
    "import datetime\n",
    "datetime=datetime.datetime.now().time()\n",
    "print(datetime)"
   ]
  },
  {
   "cell_type": "code",
   "execution_count": null,
   "id": "39236792-f2f4-4ce9-900c-02964448c89e",
   "metadata": {},
   "outputs": [],
   "source": [
    "print(f'current date is {datetime}')\n"
   ]
  },
  {
   "cell_type": "code",
   "execution_count": null,
   "id": "508a1144-9c2e-4bda-92d3-de0966b178f2",
   "metadata": {},
   "outputs": [],
   "source": [
    "time1=datetime.datetime.now()\n",
    "print(f'current time is {time1}')"
   ]
  },
  {
   "cell_type": "code",
   "execution_count": null,
   "id": "20e8b999-6abb-45ef-ab7d-25b4a4332138",
   "metadata": {},
   "outputs": [],
   "source": [
    "date=datetime.datetime.now().date()\n",
    "print(f'current date is {date}')"
   ]
  },
  {
   "cell_type": "code",
   "execution_count": null,
   "id": "31901671-5129-4876-ab39-286ef6658b64",
   "metadata": {},
   "outputs": [],
   "source": [
    "specific_date=datetime.date(2023,12,5)\n",
    "print(f'he was born on {specific_date}')"
   ]
  },
  {
   "cell_type": "code",
   "execution_count": null,
   "id": "1cc2a8ec-8090-4060-83c6-3888748b04b6",
   "metadata": {},
   "outputs": [],
   "source": [
    "t1=datetime.time(5,45)\n",
    "print(f'I will come on {t1}')"
   ]
  },
  {
   "cell_type": "code",
   "execution_count": null,
   "id": "0c6abb54-7fd7-4994-95f0-155788021609",
   "metadata": {},
   "outputs": [],
   "source": [
    "t2=datetime.datetime(2024,3,23,5,45)\n",
    "print(f'YOur function will start on the {t2}')"
   ]
  },
  {
   "cell_type": "code",
   "execution_count": null,
   "id": "9c198f14-ab07-44eb-a011-d59fefa03fb3",
   "metadata": {},
   "outputs": [],
   "source": [
    "formet=date.strftime(\"%d\")\n",
    "print(formet)"
   ]
  },
  {
   "cell_type": "code",
   "execution_count": null,
   "id": "05b38bf0-e244-4ba5-8dc5-4d9a8830a9e5",
   "metadata": {},
   "outputs": [],
   "source": [
    "future_date=datetime.date(2025,12,31)\n",
    "print(future_date-date)"
   ]
  },
  {
   "cell_type": "code",
   "execution_count": null,
   "id": "2978db47-9a19-4f14-be41-5799c6dade0b",
   "metadata": {},
   "outputs": [],
   "source": [
    "#adding 7 days in the current date \n",
    "#at he place of days we can use week month\n",
    "next_date=date+datetime.timedelta(days=7)\n",
    "print(f'the upcoming date after seven days is {next_date}')"
   ]
  },
  {
   "cell_type": "code",
   "execution_count": null,
   "id": "be4a712b-922b-42fa-a69a-55a2d4b5a6fe",
   "metadata": {},
   "outputs": [],
   "source": [
    "#checking the date of last week \n",
    "past_date=date-datetime.timedelta(days=2)\n",
    "print(f'the last date is {past_date}')"
   ]
  },
  {
   "cell_type": "code",
   "execution_count": null,
   "id": "7d563357-9753-4ae0-a86f-85b2a017ab8d",
   "metadata": {},
   "outputs": [],
   "source": [
    "date1=datetime.date(2022,2,15)\n",
    "date2=datetime.date(2022,2,20)\n",
    "if date1>date2:\n",
    "    print(f'date 1 is greater than date2')\n",
    "elif date1<date2:\n",
    "    print(\"date2 greater than date1\")\n",
    "else:\n",
    "    print(\"Both Dates are equal\")"
   ]
  },
  {
   "cell_type": "code",
   "execution_count": null,
   "id": "42c80cd3-4cfd-4f75-ab52-73f19eb60eb4",
   "metadata": {},
   "outputs": [],
   "source": [
    "birthday=datetime.date(2004,2,20)\n",
    "print(f'My age is {date.year-birthday.year-((date.month,date.day)<(birthday.month,birthday.day))}')"
   ]
  },
  {
   "cell_type": "code",
   "execution_count": null,
   "id": "ddca65ab-dc85-424e-9146-7ad035137cf7",
   "metadata": {},
   "outputs": [],
   "source": [
    "age=date.year-birthday.year\n",
    "print(f'My age is {age}')"
   ]
  },
  {
   "cell_type": "code",
   "execution_count": null,
   "id": "425c0fb4-7a9e-464d-bc3e-995c952c8efa",
   "metadata": {},
   "outputs": [],
   "source": [
    "for i in range(1,6):\n",
    "    print(i)"
   ]
  },
  {
   "cell_type": "code",
   "execution_count": null,
   "id": "8c9f7642-f432-4007-a3a5-7fd8a4ca4dfc",
   "metadata": {},
   "outputs": [],
   "source": [
    "for i in range(0,3):\n",
    "    for j in range(0,4):\n",
    "        print(f'{i},{j}')"
   ]
  },
  {
   "cell_type": "code",
   "execution_count": null,
   "id": "9a36d3e6-5630-466a-b799-629ba06aaf05",
   "metadata": {},
   "outputs": [],
   "source": [
    "nam=\"shreya joshi\"\n",
    "for l in nam:\n",
    "    print(l)"
   ]
  },
  {
   "cell_type": "code",
   "execution_count": null,
   "id": "9010224c-255b-4a97-b418-a6ab4e995428",
   "metadata": {},
   "outputs": [],
   "source": [
    "person={\"name\":\"Sameer shrinath\",\"age\":20,\"city\":\"america\"}\n",
    "for key,value in person.items():\n",
    "    print(f'{key}:{value}')"
   ]
  },
  {
   "cell_type": "code",
   "execution_count": null,
   "id": "6310d5b5-5486-4aca-ac5c-49b986544319",
   "metadata": {},
   "outputs": [],
   "source": [
    "for key in person:\n",
    "    print(key)"
   ]
  },
  {
   "cell_type": "code",
   "execution_count": null,
   "id": "46a7f8e3-c40d-4e9e-bd7b-81292560d632",
   "metadata": {},
   "outputs": [],
   "source": [
    "person={\"name\":\"Sameer shrinath\",\"age\":20,\"city\":\"america\"}\n",
    "for value in person:\n",
    "    print(person[value])"
   ]
  },
  {
   "cell_type": "code",
   "execution_count": null,
   "id": "1dc028e7-b43b-49a5-853a-6248363664bb",
   "metadata": {},
   "outputs": [],
   "source": [
    "names=[\"sameer\",\"shreya\",\"shivam\",\"amit\"]\n",
    "ages=[20,45,55,99]\n",
    "m=zip(names,ages)\n",
    "d=dict(m)\n",
    "#for name,age in zip(names,ages):\n",
    "print(f'{d}')"
   ]
  },
  {
   "cell_type": "code",
   "execution_count": null,
   "id": "54bc3715-f807-40c3-9761-535763670e22",
   "metadata": {},
   "outputs": [],
   "source": [
    "#list comprehension\n",
    "square=[num**2 for num in range(1,100)]\n",
    "print(square)"
   ]
  },
  {
   "cell_type": "code",
   "execution_count": null,
   "id": "0faf28e7-6460-480b-a654-b36f641ef42a",
   "metadata": {},
   "outputs": [],
   "source": [
    "numbers=[1,2,3,4,5,6]\n",
    "for num in numbers:\n",
    "    print(num)\n",
    "else:\n",
    "    print(\"\")"
   ]
  },
  {
   "cell_type": "code",
   "execution_count": null,
   "id": "52583ba3-abf3-49c3-8cee-f11ccaf9a049",
   "metadata": {},
   "outputs": [],
   "source": [
    "person={\"human\":\"Sameer shrinath\",\"age\":20,\"city\":\"America\"}\n",
    "for key,value in person.items():\n",
    " print(f'{key}:{value}')\n"
   ]
  },
  {
   "cell_type": "code",
   "execution_count": null,
   "id": "7297e02b-4783-4c0b-87e4-6ffc05043729",
   "metadata": {},
   "outputs": [],
   "source": [
    "import datetime\n",
    "date=datetime.date.today()\n",
    "time=datetime.datetime.now()"
   ]
  },
  {
   "cell_type": "code",
   "execution_count": null,
   "id": "7119e910-af19-43f2-83a9-8f040382f65a",
   "metadata": {},
   "outputs": [],
   "source": [
    "date\n"
   ]
  },
  {
   "cell_type": "code",
   "execution_count": null,
   "id": "49b11798-81d3-4ee5-8ba2-0071d7ad5c63",
   "metadata": {},
   "outputs": [],
   "source": [
    "time"
   ]
  },
  {
   "cell_type": "code",
   "execution_count": null,
   "id": "8aa06978-1ae4-4203-8ee3-b650d752be42",
   "metadata": {},
   "outputs": [],
   "source": [
    "count=0\n",
    "while count < 5:\n",
    " print(count)\n",
    " count += 1 # Increment the count by 1 in each iteration\n",
    "print(\"Loop has ended\")"
   ]
  },
  {
   "cell_type": "code",
   "execution_count": null,
   "id": "2b09a1c5-6a70-4f9e-8352-cc3d49ea90fb",
   "metadata": {},
   "outputs": [],
   "source": [
    "s=\"python\"\n",
    "for i in s:\n",
    "    if i==\"z\":\n",
    "        break\n",
    "    print(i)\n",
    "else:\n",
    "    print(\"print string \",s)"
   ]
  },
  {
   "cell_type": "code",
   "execution_count": null,
   "id": "14c86a82-c60d-4f07-aa4c-442610487689",
   "metadata": {},
   "outputs": [],
   "source": [
    "n=4\n",
    "for i in range(4):\n",
    "    for j in range(0,i+1):\n",
    "        print('*',end=\"\")\n",
    "    print(\"\\n\")"
   ]
  },
  {
   "cell_type": "code",
   "execution_count": null,
   "id": "3f322d54-8d7c-474a-a892-b832ae65a232",
   "metadata": {},
   "outputs": [],
   "source": [
    "n=3\n",
    "for i in range(n):\n",
    "    for j in range(i,n-1):\n",
    "        print(\" \"*len('name'),end='')\n",
    "    for j in range(i+1):\n",
    "        print(\"name\",end=\" \")\n",
    "    for j in range(i):\n",
    "        print(\"name\",end=\" \")\n",
    "    print()"
   ]
  },
  {
   "cell_type": "code",
   "execution_count": null,
   "id": "374ed132-6bf9-448c-98bd-6947941ccd1f",
   "metadata": {},
   "outputs": [],
   "source": [
    "my_list=[1,2,3,3,4,5]\n",
    "my_iter=iter(my_list)\n",
    "print(next(my_iter))\n",
    "print(next(my_iter))\n",
    "print(next(my_iter))\n"
   ]
  },
  {
   "cell_type": "code",
   "execution_count": null,
   "id": "93143225-bb95-4682-8a72-05d424f48b58",
   "metadata": {},
   "outputs": [],
   "source": [
    "count=1\n",
    "while count<=5:\n",
    "    print(count)\n",
    "    count+=1"
   ]
  },
  {
   "cell_type": "code",
   "execution_count": null,
   "id": "c2b3d90d-a002-4a48-bf0e-f4bb2c58df7e",
   "metadata": {},
   "outputs": [],
   "source": [
    "m45=[1,2,3,3,4,5]\n",
    "index=0\n",
    "while index<len(m45):\n",
    "    print(m45[index])\n",
    "    index +=1"
   ]
  },
  {
   "cell_type": "code",
   "execution_count": null,
   "id": "60cd6584-ca2c-426e-ba7a-5ebb4fe5569b",
   "metadata": {},
   "outputs": [],
   "source": [
    "string=\"hello\"\n",
    "rev=\"\"\n",
    "index=len(string)-1\n",
    "while index>=0:\n",
    "    rev +=string[index]\n",
    "    index-=1\n",
    "print(rev)"
   ]
  },
  {
   "cell_type": "code",
   "execution_count": null,
   "id": "2ecf015e-0eda-4a85-b3fa-5914dc99752e",
   "metadata": {},
   "outputs": [],
   "source": [
    "num=5\n",
    "factorial=1\n",
    "while num>0:\n",
    "    factorial*=num\n",
    "    num-=1\n",
    "print('factorial:',factorial)"
   ]
  },
  {
   "cell_type": "code",
   "execution_count": null,
   "id": "af7e8ebf-0b97-4fce-a864-810551809f4a",
   "metadata": {},
   "outputs": [],
   "source": [
    "def test(a,b):\n",
    "    return a+b\n",
    "test(5,6)"
   ]
  },
  {
   "cell_type": "code",
   "execution_count": null,
   "id": "05d0b0cc-fe25-4615-94fa-7bbb35825d85",
   "metadata": {},
   "outputs": [],
   "source": [
    "test(\"sam\",\"eer\")"
   ]
  },
  {
   "cell_type": "code",
   "execution_count": null,
   "id": "6741dc97-fbf6-487f-a57a-51e3067198a3",
   "metadata": {},
   "outputs": [],
   "source": [
    "def test1(a,b,c,d,e):\n",
    "    return a,b,c,d,e"
   ]
  },
  {
   "cell_type": "code",
   "execution_count": null,
   "id": "c1c41971-727b-4367-a8da-2def10a08bac",
   "metadata": {},
   "outputs": [],
   "source": [
    "test1(3,4,5,6,7)"
   ]
  },
  {
   "cell_type": "code",
   "execution_count": null,
   "id": "2becd716-df06-47a2-b6ed-ef88251c9fe1",
   "metadata": {},
   "outputs": [],
   "source": [
    "#*args is the standard form of this type\n",
    "def infinite(*args):\n",
    "    return args"
   ]
  },
  {
   "cell_type": "code",
   "execution_count": null,
   "id": "8a25ec08-6cbe-40ab-b811-e82c5a2ad122",
   "metadata": {},
   "outputs": [],
   "source": [
    "infinite(445,5,55,5,5,8,5,79)"
   ]
  },
  {
   "cell_type": "code",
   "execution_count": null,
   "id": "c635402a-6618-4628-9334-551674dcf164",
   "metadata": {},
   "outputs": [],
   "source": [
    "def test5(*a):\n",
    "    l=[]\n",
    "    for i in a :\n",
    "        l.append(i)\n",
    "    return l\n",
    "    "
   ]
  },
  {
   "cell_type": "code",
   "execution_count": null,
   "id": "32dcd8c5-18ae-4100-bf7d-239fd20d41be",
   "metadata": {},
   "outputs": [],
   "source": [
    "test5(2,3,2,4,5,6,[345,4,5,6,7,3])"
   ]
  },
  {
   "cell_type": "code",
   "execution_count": null,
   "id": "b728cf3c-e247-4d91-ad26-33b2da8378ec",
   "metadata": {},
   "outputs": [],
   "source": [
    "def test6(a,b,c,d,*m):\n",
    "    return a,b,c,d,m"
   ]
  },
  {
   "cell_type": "code",
   "execution_count": null,
   "id": "def7817e-2ffe-45e0-99eb-a1904cebfc81",
   "metadata": {},
   "outputs": [],
   "source": [
    "test6(5,69,78,99,99)"
   ]
  },
  {
   "cell_type": "code",
   "execution_count": null,
   "id": "a711b54b-684e-44f0-8f54-c3b5012886c6",
   "metadata": {},
   "outputs": [],
   "source": [
    "def test7(*m,a,b,c,d):\n",
    "    return m,a,b,c,d"
   ]
  },
  {
   "cell_type": "code",
   "execution_count": null,
   "id": "3d706011-e023-4c33-8896-a851eaa6d382",
   "metadata": {},
   "outputs": [],
   "source": [
    "test7(4,5,6,7,7,8,9,3,a=8,b=3,c=4,d=3)"
   ]
  },
  {
   "cell_type": "code",
   "execution_count": null,
   "id": "29a7a69b-7303-4830-8c46-b2592bc578bb",
   "metadata": {},
   "outputs": [],
   "source": [
    "def test8(**sudh):\n",
    "    return sudh\n",
    "    "
   ]
  },
  {
   "cell_type": "code",
   "execution_count": null,
   "id": "1f0c7137-4a46-49c6-9113-050076fb4b7b",
   "metadata": {},
   "outputs": [],
   "source": [
    "test8(name=\"sameer\",std=4)"
   ]
  },
  {
   "cell_type": "code",
   "execution_count": null,
   "id": "f10035f7-4005-456e-9cf5-f373cb227715",
   "metadata": {},
   "outputs": [],
   "source": [
    "def test11(*m):\n",
    "    n=1\n",
    "    for i in m:\n",
    "        if type(i)==int:\n",
    "            n=n*i\n",
    "        return n"
   ]
  },
  {
   "cell_type": "code",
   "execution_count": null,
   "id": "e40fc13e-e688-4016-a365-2ddf2debdf06",
   "metadata": {},
   "outputs": [],
   "source": [
    "test11(1,2,3,4,5,6)"
   ]
  },
  {
   "cell_type": "code",
   "execution_count": null,
   "id": "847a8b4c-2e16-4f63-99bb-41131887547f",
   "metadata": {},
   "outputs": [],
   "source": [
    "d={'b':4,\"c\":45}"
   ]
  },
  {
   "cell_type": "code",
   "execution_count": null,
   "id": "ef60c56b-a59f-416e-8f27-9bc7cc64a6a9",
   "metadata": {},
   "outputs": [],
   "source": [
    "test8(d)"
   ]
  },
  {
   "cell_type": "code",
   "execution_count": null,
   "id": "ce114753-f8cc-49b1-afe9-3f52539e5b15",
   "metadata": {},
   "outputs": [],
   "source": [
    "def test10(*m):\n",
    "    n=0\n",
    "    for i in m:\n",
    "        if type(i)==int:\n",
    "            n=n+i\n",
    "    return n "
   ]
  },
  {
   "cell_type": "code",
   "execution_count": null,
   "id": "5f610640-969e-4d75-967b-c8848c9cc176",
   "metadata": {},
   "outputs": [],
   "source": [
    "test10(2,3,4,5,6,6)"
   ]
  },
  {
   "cell_type": "code",
   "execution_count": null,
   "id": "05fa4484-33f7-410d-b621-1f1735e543a6",
   "metadata": {},
   "outputs": [],
   "source": [
    "test10(45,1,1,1,1)"
   ]
  },
  {
   "cell_type": "code",
   "execution_count": null,
   "id": "b8f5f91a-fdc2-4c1c-8df3-303a0023d3a1",
   "metadata": {},
   "outputs": [],
   "source": [
    "def test11(*m):\n",
    "    n=1\n",
    "    for i in m:\n",
    "        if type(i)==int:\n",
    "            n=n*i\n",
    "    return n"
   ]
  },
  {
   "cell_type": "code",
   "execution_count": null,
   "id": "a4bafdc4-793f-4ede-9250-2b6d244e0700",
   "metadata": {},
   "outputs": [],
   "source": [
    "test11(5,2)"
   ]
  },
  {
   "cell_type": "code",
   "execution_count": null,
   "id": "f06f0dff-9a67-4d20-9d2a-089e3b7e55cc",
   "metadata": {},
   "outputs": [],
   "source": [
    "t=(3,4,5,6,7,8,9)"
   ]
  },
  {
   "cell_type": "code",
   "execution_count": null,
   "id": "11d6139d-817a-46d9-9566-52c771b871cd",
   "metadata": {},
   "outputs": [],
   "source": [
    "[i for i in t]"
   ]
  },
  {
   "cell_type": "code",
   "execution_count": null,
   "id": "9ea43b44-9809-4d49-8781-abce2af13363",
   "metadata": {},
   "outputs": [],
   "source": [
    "[i*i for i in range(10)]"
   ]
  },
  {
   "cell_type": "code",
   "execution_count": null,
   "id": "941588c4-b3ca-4065-b420-2371feb510ce",
   "metadata": {},
   "outputs": [],
   "source": [
    "l=[]\n",
    "for i in range(10):\n",
    "    l.append(i*i)"
   ]
  },
  {
   "cell_type": "code",
   "execution_count": null,
   "id": "5d576443-6255-4714-8b49-8fead3e307e1",
   "metadata": {},
   "outputs": [],
   "source": [
    "l"
   ]
  },
  {
   "cell_type": "code",
   "execution_count": null,
   "id": "e6198395-4854-4218-875d-24345dc40fd3",
   "metadata": {},
   "outputs": [],
   "source": [
    "l= lambda *x:[i**2 for i in x]"
   ]
  },
  {
   "cell_type": "code",
   "execution_count": null,
   "id": "b0167385-cd3f-481c-8aec-1a682eb04609",
   "metadata": {},
   "outputs": [],
   "source": [
    "l(4,45,5,6,6,7,8,9)"
   ]
  },
  {
   "cell_type": "code",
   "execution_count": null,
   "id": "5dd0d058-595a-4fd7-a81b-6b40b2ccb91c",
   "metadata": {},
   "outputs": [],
   "source": []
  },
  {
   "cell_type": "code",
   "execution_count": null,
   "id": "658a4314-a13b-4979-9f78-f21b187a03ab",
   "metadata": {},
   "outputs": [],
   "source": []
  },
  {
   "cell_type": "code",
   "execution_count": null,
   "id": "9b79399b-f2b6-4851-aa84-07dd990c08eb",
   "metadata": {},
   "outputs": [],
   "source": []
  },
  {
   "cell_type": "code",
   "execution_count": null,
   "id": "2396972a-dd78-4579-b9be-1dcaa43d4a29",
   "metadata": {},
   "outputs": [],
   "source": [
    "#doubling each element in a list using map\n",
    "def double(x):\n",
    "    return x*2\n",
    "\n",
    "m2=[1,2,3,4,5]\n",
    "m2=list(map(double,m2))\n",
    "print(m2)"
   ]
  },
  {
   "cell_type": "code",
   "execution_count": null,
   "id": "cddfc6ff-2d54-4154-ae6c-7613672adb46",
   "metadata": {},
   "outputs": [],
   "source": [
    "#filtering even number from a list using filter \n",
    "def even(x):\n",
    "    return x%2==0\n",
    "m4=[1,2,3,4,5]\n",
    "even=list(filter(even,m4))\n",
    "print(even)"
   ]
  },
  {
   "cell_type": "code",
   "execution_count": null,
   "id": "a6c792c5-c0fa-47dc-b8af-7273e46cba64",
   "metadata": {},
   "outputs": [],
   "source": [
    "from functools import reduce\n",
    "#summering all element in a list using reduce\n",
    "m5=[1,2,3,4,5,6,7,8,9]\n",
    "sum=reduce(lambda x,y:x+y,m5)\n",
    "print(sum)"
   ]
  },
  {
   "cell_type": "code",
   "execution_count": null,
   "id": "a47ac48d-0a1a-4f7a-a33e-fdb5a86c4cc9",
   "metadata": {},
   "outputs": [],
   "source": []
  },
  {
   "cell_type": "code",
   "execution_count": null,
   "id": "b9127a00-4577-46a9-afa2-71446f15d87f",
   "metadata": {},
   "outputs": [],
   "source": []
  },
  {
   "cell_type": "code",
   "execution_count": null,
   "id": "964dd741-ab72-47bd-b03c-e15751f4f9dc",
   "metadata": {},
   "outputs": [],
   "source": []
  },
  {
   "cell_type": "code",
   "execution_count": null,
   "id": "b4f2cacf-f67b-4232-96a2-f6f8c7e3dd8c",
   "metadata": {},
   "outputs": [],
   "source": [
    "a=10\n",
    "a/0"
   ]
  },
  {
   "cell_type": "code",
   "execution_count": null,
   "id": "ff54a358-018b-4b47-aafd-2c8ac1262a8f",
   "metadata": {},
   "outputs": [],
   "source": [
    "try:\n",
    "    a=10\n",
    "    print(a/10)\n",
    "except Exception as e:\n",
    "    print(e)\n",
    "    print(\"This is the result after handling exception \")"
   ]
  },
  {
   "cell_type": "code",
   "execution_count": null,
   "id": "954a5cf7-3b8f-4f58-a133-f9d4a0853297",
   "metadata": {},
   "outputs": [],
   "source": [
    "try:\n",
    "    a=10\n",
    "    print(a/0)\n",
    "except Exception as e:\n",
    "    print(e)\n",
    "    print(\"This is the result after handling exception \")"
   ]
  },
  {
   "cell_type": "code",
   "execution_count": null,
   "id": "77076756-6679-4d10-b340-ad2d1d4ca307",
   "metadata": {},
   "outputs": [],
   "source": [
    "def askint():\n",
    "    try:\n",
    "        val=int(input(\"please enter an integer\"))\n",
    "    except:\n",
    "        print(\"no You don't have entered an integer\")\n",
    "        try:\n",
    "            val=int(input(\"Please enter \"))\n",
    "        except:\n",
    "            print('we are able to handle your mistake second time')\n",
    "    finally:\n",
    "        print(\"It is final\")"
   ]
  },
  {
   "cell_type": "code",
   "execution_count": null,
   "id": "aea181df-06ce-4d47-81c2-a84e1c11352e",
   "metadata": {},
   "outputs": [],
   "source": [
    "askint()"
   ]
  },
  {
   "cell_type": "code",
   "execution_count": 1,
   "id": "f4c425e7-475c-4109-be55-2a0cb4dfdbe5",
   "metadata": {},
   "outputs": [
    {
     "name": "stdout",
     "output_type": "stream",
     "text": [
      "True\n"
     ]
    },
    {
     "ename": "ImportError",
     "evalue": "cannot import name 'HandDector' from 'cvzone.HandTrackingModule' (C:\\Users\\Samee\\anaconda3\\Lib\\site-packages\\cvzone\\HandTrackingModule.py)",
     "output_type": "error",
     "traceback": [
      "\u001b[1;31m---------------------------------------------------------------------------\u001b[0m",
      "\u001b[1;31mImportError\u001b[0m                               Traceback (most recent call last)",
      "Cell \u001b[1;32mIn[1], line 7\u001b[0m\n\u001b[0;32m      5\u001b[0m cv2\u001b[38;5;241m.\u001b[39mimshow(\u001b[38;5;124m'\u001b[39m\u001b[38;5;124mmy photo\u001b[39m\u001b[38;5;124m'\u001b[39m,photo)\n\u001b[0;32m      6\u001b[0m cv2\u001b[38;5;241m.\u001b[39mwaitKey(\u001b[38;5;241m10000\u001b[39m)\n\u001b[1;32m----> 7\u001b[0m \u001b[38;5;28;01mfrom\u001b[39;00m \u001b[38;5;21;01mcvzone\u001b[39;00m\u001b[38;5;21;01m.\u001b[39;00m\u001b[38;5;21;01mHandTrackingModule\u001b[39;00m \u001b[38;5;28;01mimport\u001b[39;00m HandDector\n\u001b[0;32m      8\u001b[0m handDector\u001b[38;5;241m=\u001b[39mHandDector()\n\u001b[0;32m      9\u001b[0m status\u001b[38;5;241m.\u001b[39mphoto\u001b[38;5;241m=\u001b[39mcap\u001b[38;5;241m.\u001b[39mread()\n",
      "\u001b[1;31mImportError\u001b[0m: cannot import name 'HandDector' from 'cvzone.HandTrackingModule' (C:\\Users\\Samee\\anaconda3\\Lib\\site-packages\\cvzone\\HandTrackingModule.py)"
     ]
    }
   ],
   "source": [
    "import cv2\n",
    "cap=cv2.VideoCapture(0)\n",
    "status, photo = cap.read()\n",
    "print(status)\n",
    "cv2.imshow('my photo',photo)\n",
    "cv2.waitKey(10000)\n",
    "from cvzone.HandTrackingModule import HandDector\n",
    "handDector=HandDector()\n",
    "status.photo=cap.read()\n",
    "mylmlist = findHand[0][0]\n",
    "myfingerup  = handDetector.fingersUp(mylmlist)\n",
    "myfingerup"
   ]
  },
  {
   "cell_type": "code",
   "execution_count": 2,
   "id": "208961a5-8d6a-4a58-9e1a-d93839f086d4",
   "metadata": {},
   "outputs": [],
   "source": [
    "cap.release()"
   ]
  },
  {
   "cell_type": "code",
   "execution_count": null,
   "id": "cf76fafd-a5eb-452c-b1fa-d1852e8d6739",
   "metadata": {},
   "outputs": [],
   "source": [
    "#Home-work\n",
    "#Polymorphism\n",
    "#Enheritance\n",
    "#encapsulation \n",
    "#web scrapping-AIML Data Analysis Business\n",
    "#Selenium,Beautifulsoul\n",
    "#Basic html"
   ]
  }
 ],
 "metadata": {
  "kernelspec": {
   "display_name": "Python 3 (ipykernel)",
   "language": "python",
   "name": "python3"
  },
  "language_info": {
   "codemirror_mode": {
    "name": "ipython",
    "version": 3
   },
   "file_extension": ".py",
   "mimetype": "text/x-python",
   "name": "python",
   "nbconvert_exporter": "python",
   "pygments_lexer": "ipython3",
   "version": "3.11.5"
  }
 },
 "nbformat": 4,
 "nbformat_minor": 5
}
