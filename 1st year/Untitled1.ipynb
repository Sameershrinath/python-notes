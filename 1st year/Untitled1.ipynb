{
 "cells": [
  {
   "cell_type": "code",
   "execution_count": 5,
   "id": "20b34ce5-34f1-4705-a968-ccc042efa3fd",
   "metadata": {},
   "outputs": [],
   "source": [
    "lis=[\n",
    "    (\"M\",1000),(\"CM\",900),(\"D\",500),(\"CD\",400),\n",
    "    (\"C\",100),(\"XC\",90),(\"L\",50),(\"XL\",40),(\"X\",10),\n",
    "    (\"IX\",9),(\"V\",5),(\"IV\",4),(\"I\",1)\n",
    "]\n",
    "\n",
    "\n"
   ]
  },
  {
   "cell_type": "code",
   "execution_count": 20,
   "id": "94d9d012-ec23-46c8-afc7-b571e04f8fec",
   "metadata": {},
   "outputs": [],
   "source": [
    "def roman(num):\n",
    "    lis=[\n",
    "    (\"M\",1000),(\"CM\",900),(\"D\",500),(\"CD\",400),\n",
    "    (\"C\",100),(\"XC\",90),(\"L\",50),(\"XL\",40),(\"X\",10),\n",
    "    (\"IX\",9),(\"V\",5),(\"IV\",4),(\"I\",1)]\n",
    "    result=\"\"\n",
    "    \n",
    "    for roman, value in lis:\n",
    "        counter=num//value\n",
    "        if counter>0:\n",
    "            result+=roman*counter\n",
    "            num=num-value*counter\n",
    "        else:\n",
    "            pass\n",
    "            \n",
    "        \n",
    "        \n",
    "    return result\n",
    "        \n",
    "    "
   ]
  },
  {
   "cell_type": "code",
   "execution_count": 21,
   "id": "fae02406-deda-4148-a800-00b35f37e0df",
   "metadata": {},
   "outputs": [
    {
     "data": {
      "text/plain": [
       "'M'"
      ]
     },
     "execution_count": 21,
     "metadata": {},
     "output_type": "execute_result"
    }
   ],
   "source": [
    "roman(1000)"
   ]
  },
  {
   "cell_type": "code",
   "execution_count": 22,
   "id": "4611dd8d-54e0-4659-8f92-5d92e57a27fc",
   "metadata": {},
   "outputs": [
    {
     "data": {
      "text/plain": [
       "'CM'"
      ]
     },
     "execution_count": 22,
     "metadata": {},
     "output_type": "execute_result"
    }
   ],
   "source": [
    "roman(900)"
   ]
  },
  {
   "cell_type": "code",
   "execution_count": 6,
   "id": "de0fe427-257d-4716-bbc7-ff2761271690",
   "metadata": {},
   "outputs": [
    {
     "name": "stdout",
     "output_type": "stream",
     "text": [
      "\n",
      "*******************************************************************************\n",
      "*  Samir Srinath     ~~~~~~~~~~~~~~~~~~~~~~~~~~~~~         SID-2347454      *\n",
      "<-------------------------- WELCOME TO Samir PHONEBOOK ------------------------>\n",
      "*  10970                  ~~~~~~~~~~~~~~~~~~~~~~~~~~~~~         --------      *\n",
      "*******************************************************************************\n"
     ]
    }
   ],
   "source": [
    " print()\n",
    "print(\"*******************************************************************************\")\n",
    "print(\"*  Samir Srinath     ~~~~~~~~~~~~~~~~~~~~~~~~~~~~~         SID-2347454      *\")\n",
    "print(\"<-------------------------- WELCOME TO Samir PHONEBOOK ------------------------>\")\n",
    "print(\"*  10970                  ~~~~~~~~~~~~~~~~~~~~~~~~~~~~~         --------      *\")\n",
    "print(\"*******************************************************************************\")\n",
    "class Phone:\n",
    "    def __init__(self, PhoneData=None, next=None):\n",
    "        self.data = PhoneData\n",
    "        self.next = next\n",
    "\n",
    "class PhoneBook:\n",
    "    def __init__(self):\n",
    "        self.head = None\n",
    "\n",
    "    def search_Phone_Data(self, Phone_Data):\n",
    "        \"\"\"Search for Phone_Data in the phonebook.\"\"\"\n",
    "        if self.head is None:\n",
    "            print(\"--No Phone Book Data is Available--\")\n",
    "            return False\n",
    "        current = self.head\n",
    "        while current is not None:\n",
    "            if current.data == Phone_Data:\n",
    "                print(f\"{Phone_Data} is Available in Phone Book\")\n",
    "                return True\n",
    "            current = current.next\n",
    "        print(f\"Sorry! Phone Data {Phone_Data} is Not Available\")\n",
    "        return False\n",
    "\n",
    "    def Update_Phone_Data(self, old_Phone_Data, New_Phone_Data):\n",
    "        \"\"\"Update old_Phone_Data with New_Phone_Data in the phonebook.\"\"\"\n",
    "        if self.head is None:\n",
    "            print(\"Sorry, Phone Book is Not Available\")\n",
    "            return\n",
    "        if old_Phone_Data == New_Phone_Data:\n",
    "            print(\"Already! This Phone Data is Available\")\n",
    "            return\n",
    "        current = self.head\n",
    "        while current is not None:\n",
    "            if current.data == old_Phone_Data:\n",
    "                current.data = New_Phone_Data\n",
    "                print(f\"{New_Phone_Data} Updated Successfully! THANK YOU\")\n",
    "                return\n",
    "            current = current.next\n",
    "        print(\"Phone Data is Not Available\")\n",
    "\n",
    "    def Phone_Data_Insert(self, Phone_Data):\n",
    "        \"\"\"Insert new Phone_Data into the phonebook.\"\"\"\n",
    "        new_data = Phone(Phone_Data)\n",
    "        if self.head:\n",
    "            current = self.head\n",
    "            while current.next:\n",
    "                current = current.next\n",
    "            current.next = new_data\n",
    "        else:\n",
    "            self.head = new_data\n",
    "\n",
    "    def Display_Phone_Book(self):\n",
    "        \"\"\"Display all Phone_Data in the phonebook.\"\"\"\n",
    "        current = self.head\n",
    "        if not current:\n",
    "            print(\"Phone Book is Empty\")\n",
    "            return\n",
    "        while current:\n",
    "            print(current.data)\n",
    "            current = current.next\n"
   ]
  },
  {
   "cell_type": "code",
   "execution_count": 7,
   "id": "7f96b500",
   "metadata": {},
   "outputs": [
    {
     "name": "stdout",
     "output_type": "stream",
     "text": [
      "123-456-7890\n",
      "098-765-4321\n"
     ]
    }
   ],
   "source": [
    "# Create an instance of PhoneBook\n",
    "my_phonebook = PhoneBook()\n",
    "\n",
    "# Add phone numbers to the phone book\n",
    "my_phonebook.Phone_Data_Insert(\"123-456-7890\")\n",
    "my_phonebook.Phone_Data_Insert(\"098-765-4321\")\n",
    "\n",
    "# Display the phone book to verify the numbers were added\n",
    "my_phonebook.Display_Phone_Book()\n"
   ]
  },
  {
   "cell_type": "code",
   "execution_count": 8,
   "id": "e58629a4",
   "metadata": {},
   "outputs": [
    {
     "name": "stderr",
     "output_type": "stream",
     "text": [
      "Exception in Tkinter callback\n",
      "Traceback (most recent call last):\n",
      "  File \"c:\\Users\\Samee\\anaconda3\\Lib\\tkinter\\__init__.py\", line 1948, in __call__\n",
      "    return self.func(*args)\n",
      "           ^^^^^^^^^^^^^^^^\n",
      "  File \"C:\\Users\\Samee\\AppData\\Local\\Temp\\ipykernel_17992\\1476180581.py\", line 92, in update_phone\n",
      "    new_phone = tk.simpledialog.askstring(\"Input\", \"Enter new phone number:\")\n",
      "                ^^^^^^^^^^^^^^^\n",
      "AttributeError: module 'tkinter' has no attribute 'simpledialog'\n",
      "Exception in Tkinter callback\n",
      "Traceback (most recent call last):\n",
      "  File \"c:\\Users\\Samee\\anaconda3\\Lib\\tkinter\\__init__.py\", line 1948, in __call__\n",
      "    return self.func(*args)\n",
      "           ^^^^^^^^^^^^^^^^\n",
      "  File \"C:\\Users\\Samee\\AppData\\Local\\Temp\\ipykernel_17992\\1476180581.py\", line 92, in update_phone\n",
      "    new_phone = tk.simpledialog.askstring(\"Input\", \"Enter new phone number:\")\n",
      "                ^^^^^^^^^^^^^^^\n",
      "AttributeError: module 'tkinter' has no attribute 'simpledialog'\n",
      "Exception in Tkinter callback\n",
      "Traceback (most recent call last):\n",
      "  File \"c:\\Users\\Samee\\anaconda3\\Lib\\tkinter\\__init__.py\", line 1948, in __call__\n",
      "    return self.func(*args)\n",
      "           ^^^^^^^^^^^^^^^^\n",
      "  File \"C:\\Users\\Samee\\AppData\\Local\\Temp\\ipykernel_17992\\1476180581.py\", line 92, in update_phone\n",
      "    new_phone = tk.simpledialog.askstring(\"Input\", \"Enter new phone number:\")\n",
      "                ^^^^^^^^^^^^^^^\n",
      "AttributeError: module 'tkinter' has no attribute 'simpledialog'\n"
     ]
    }
   ],
   "source": [
    "import tkinter as tk\n",
    "from tkinter import messagebox\n",
    "\n",
    "class Phone:\n",
    "    def __init__(self, PhoneData=None, next=None):\n",
    "        self.data = PhoneData\n",
    "        self.next = next\n",
    "\n",
    "class PhoneBook:\n",
    "    def __init__(self):\n",
    "        self.head = None\n",
    "\n",
    "    def search_Phone_Data(self, Phone_Data):\n",
    "        if self.head is None:\n",
    "            return False\n",
    "        current = self.head\n",
    "        while current is not None:\n",
    "            if current.data == Phone_Data:\n",
    "                return True\n",
    "            current = current.next\n",
    "        return False\n",
    "\n",
    "    def Update_Phone_Data(self, old_Phone_Data, New_Phone_Data):\n",
    "        if self.head is None:\n",
    "            return False\n",
    "        if old_Phone_Data == New_Phone_Data:\n",
    "            return True\n",
    "        current = self.head\n",
    "        while current is not None:\n",
    "            if current.data == old_Phone_Data:\n",
    "                current.data = New_Phone_Data\n",
    "                return True\n",
    "            current = current.next\n",
    "        return False\n",
    "\n",
    "    def Phone_Data_Insert(self, Phone_Data):\n",
    "        new_data = Phone(Phone_Data)\n",
    "        if self.head:\n",
    "            current = self.head\n",
    "            while current.next:\n",
    "                current = current.next\n",
    "            current.next = new_data\n",
    "        else:\n",
    "            self.head = new_data\n",
    "\n",
    "    def Display_Phone_Book(self):\n",
    "        current = self.head\n",
    "        phone_numbers = []\n",
    "        while current:\n",
    "            phone_numbers.append(current.data)\n",
    "            current = current.next\n",
    "        return phone_numbers\n",
    "\n",
    "class PhoneBookGUI:\n",
    "    def __init__(self, root):\n",
    "        self.phonebook = PhoneBook()\n",
    "        self.root = root\n",
    "        self.root.title(\"Phone Book\")\n",
    "\n",
    "        self.label = tk.Label(root, text=\"Phone Book\")\n",
    "        self.label.pack()\n",
    "\n",
    "        self.phone_entry = tk.Entry(root)\n",
    "        self.phone_entry.pack()\n",
    "\n",
    "        self.add_button = tk.Button(root, text=\"Add\", command=self.add_phone)\n",
    "        self.add_button.pack()\n",
    "\n",
    "        self.search_button = tk.Button(root, text=\"Search\", command=self.search_phone)\n",
    "        self.search_button.pack()\n",
    "\n",
    "        self.update_button = tk.Button(root, text=\"Update\", command=self.update_phone)\n",
    "        self.update_button.pack()\n",
    "\n",
    "        self.display_button = tk.Button(root, text=\"Display\", command=self.display_phone_book)\n",
    "        self.display_button.pack()\n",
    "\n",
    "    def add_phone(self):\n",
    "        phone_data = self.phone_entry.get()\n",
    "        self.phonebook.Phone_Data_Insert(phone_data)\n",
    "        messagebox.showinfo(\"Info\", f\"Phone number {phone_data} added successfully!\")\n",
    "\n",
    "    def search_phone(self):\n",
    "        phone_data = self.phone_entry.get()\n",
    "        if self.phonebook.search_Phone_Data(phone_data):\n",
    "            messagebox.showinfo(\"Info\", f\"Phone number {phone_data} is in the phone book.\")\n",
    "        else:\n",
    "            messagebox.showinfo(\"Info\", f\"Phone number {phone_data} is not in the phone book.\")\n",
    "\n",
    "    def update_phone(self):\n",
    "        old_phone = self.phone_entry.get()\n",
    "        new_phone = tk.simpledialog.askstring(\"Input\", \"Enter new phone number:\")\n",
    "        if self.phonebook.Update_Phone_Data(old_phone, new_phone):\n",
    "            messagebox.showinfo(\"Info\", f\"Phone number updated successfully!\")\n",
    "        else:\n",
    "            messagebox.showinfo(\"Info\", f\"Phone number {old_phone} not found.\")\n",
    "\n",
    "    def display_phone_book(self):\n",
    "        phone_numbers = self.phonebook.Display_Phone_Book()\n",
    "        if phone_numbers:\n",
    "            messagebox.showinfo(\"Phone Book\", \"\\n\".join(phone_numbers))\n",
    "        else:\n",
    "            messagebox.showinfo(\"Phone Book\", \"Phone book is empty.\")\n",
    "\n",
    "if __name__ == \"__main__\":\n",
    "    root = tk.Tk()\n",
    "    app = PhoneBookGUI(root)\n",
    "    root.mainloop()\n"
   ]
  },
  {
   "cell_type": "code",
   "execution_count": null,
   "id": "3929c9e3",
   "metadata": {},
   "outputs": [],
   "source": []
  }
 ],
 "metadata": {
  "kernelspec": {
   "display_name": "Python 3 (ipykernel)",
   "language": "python",
   "name": "python3"
  },
  "language_info": {
   "codemirror_mode": {
    "name": "ipython",
    "version": 3
   },
   "file_extension": ".py",
   "mimetype": "text/x-python",
   "name": "python",
   "nbconvert_exporter": "python",
   "pygments_lexer": "ipython3",
   "version": "3.11.5"
  }
 },
 "nbformat": 4,
 "nbformat_minor": 5
}
