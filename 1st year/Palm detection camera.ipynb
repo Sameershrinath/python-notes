{
 "cells": [
  {
   "cell_type": "markdown",
   "metadata": {},
   "source": [
    "# **Palm detection feature**"
   ]
  },
  {
   "cell_type": "markdown",
   "metadata": {},
   "source": [
    "## **Importing the Computer Vision** "
   ]
  },
  {
   "cell_type": "code",
   "execution_count": 1,
   "metadata": {},
   "outputs": [],
   "source": [
    "import cv2"
   ]
  },
  {
   "cell_type": "markdown",
   "metadata": {},
   "source": [
    "## **Importing the Handtracking Module**"
   ]
  },
  {
   "cell_type": "code",
   "execution_count": 2,
   "metadata": {},
   "outputs": [],
   "source": [
    "from cvzone.HandTrackingModule import HandDetector\n",
    "\n",
    "handDetector = HandDetector()\n"
   ]
  },
  {
   "cell_type": "markdown",
   "metadata": {},
   "source": [
    "## **Other Required Module**"
   ]
  },
  {
   "cell_type": "code",
   "execution_count": 3,
   "metadata": {},
   "outputs": [],
   "source": [
    "import os \n",
    "import time"
   ]
  },
  {
   "cell_type": "code",
   "execution_count": 6,
   "metadata": {},
   "outputs": [
    {
     "name": "stdout",
     "output_type": "stream",
     "text": [
      "idk\n",
      "idk\n",
      "idk\n",
      "idk\n",
      "idk\n",
      "idk\n",
      "idk\n",
      "idk\n",
      "idk\n",
      "Photo saved as captured_photos\\captured_photo_1720514131.jpg\n",
      "idk\n",
      "Photo saved as captured_photos\\captured_photo_1720514143.jpg\n",
      "idk\n",
      "idk\n",
      "idk\n",
      "idk\n",
      "idk\n",
      "idk\n",
      "idk\n",
      "idk\n"
     ]
    }
   ],
   "source": [
    "\n",
    "\n",
    "\n",
    "cap = cv2.VideoCapture(0)\n",
    "\n",
    "output_dir = 'captured_photos'\n",
    "if not os.path.exists(output_dir):\n",
    "    os.makedirs(output_dir)\n",
    "\n",
    "while True:\n",
    "    status, photo = cap.read()\n",
    "    \n",
    "    findHand = handDetector.findHands(photo, draw=True)\n",
    "    \n",
    "    if findHand[0]:\n",
    "        mylmlist = findHand[0][0]\n",
    "        myfingerup = handDetector.fingersUp(mylmlist)\n",
    "    \n",
    "        if myfingerup == [1, 1, 1, 1, 1]:\n",
    "            for i in range(5, 0, -1):\n",
    "                ret, frame = cap.read()\n",
    "                # Display the countdown number on the frame\n",
    "                cv2.putText(frame, str(i), (50, 50), cv2.FONT_HERSHEY_SIMPLEX, 2, (0, 0, 255), 3, cv2.LINE_AA)\n",
    "                cv2.imshow('Captured Photo', frame)\n",
    "                cv2.waitKey(1000)  # Wait for 1 second\n",
    "            ret, frame = cap.read()\n",
    "            cv2.imshow('Captured Photo', frame)           \n",
    "            timestamp = int(time.time())\n",
    "            filename = os.path.join(output_dir, f'captured_photo_{timestamp}.jpg')\n",
    "            cv2.imwrite(filename, frame)\n",
    "            print(f\"Photo saved as {filename}\")\n",
    "        elif myfingerup == [0, 1, 1, 1, 0]:\n",
    "            break\n",
    "        else:\n",
    "            print(\"idk\")\n",
    "    \n",
    "    cv2.imshow(\"myphoto\", photo)\n",
    "    if cv2.waitKey(100) == 13:\n",
    "        break\n",
    "        \n",
    "cv2.destroyAllWindows()\n",
    "cap.release()"
   ]
  },
  {
   "cell_type": "code",
   "execution_count": null,
   "metadata": {},
   "outputs": [],
   "source": []
  },
  {
   "cell_type": "code",
   "execution_count": null,
   "metadata": {},
   "outputs": [],
   "source": []
  }
 ],
 "metadata": {
  "kernelspec": {
   "display_name": "base",
   "language": "python",
   "name": "python3"
  },
  "language_info": {
   "codemirror_mode": {
    "name": "ipython",
    "version": 3
   },
   "file_extension": ".py",
   "mimetype": "text/x-python",
   "name": "python",
   "nbconvert_exporter": "python",
   "pygments_lexer": "ipython3",
   "version": "3.11.5"
  }
 },
 "nbformat": 4,
 "nbformat_minor": 2
}
