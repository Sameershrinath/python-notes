{
 "cells": [
  {
   "cell_type": "code",
   "execution_count": 5,
   "id": "3fb7be37-02c9-44d3-b9d5-38b0785d10be",
   "metadata": {},
   "outputs": [],
   "source": [
    "# pip install psutil\n",
    "import psutil\n",
    "\n",
    "battery = psutil.sensors_battery()\n",
    "plugged = battery.power_plugged\n",
    "percent = battery.percent\n",
    "\n",
    "if percent <= 30 and plugged!=True:\n",
    " \n",
    "    # pip install py-notifier\n",
    "    # pip install win10toast\n",
    "    from pynotifier import Notification\n",
    "\n",
    "    Notification(\n",
    "        title=\"Battery Low\",\n",
    "        description=str(percent) + \"% Battery remain!!\",\n",
    "        duration=5,  # Duration in seconds\n",
    "        \n",
    "    ).send()"
   ]
  },
  {
   "cell_type": "code",
   "execution_count": 6,
   "id": "2bf1190c-2b8a-4ca4-85cd-b8df6ffbe033",
   "metadata": {},
   "outputs": [
    {
     "name": "stdout",
     "output_type": "stream",
     "text": [
      "Collecting py-notifier\n",
      "  Obtaining dependency information for py-notifier from https://files.pythonhosted.org/packages/cb/93/922e37bfd08533315863b9afb2184377c540a8b2545b0ded1b459c4ffbdd/py_notifier-0.5.0-py3-none-any.whl.metadata\n",
      "  Downloading py_notifier-0.5.0-py3-none-any.whl.metadata (3.8 kB)\n",
      "Collecting WinToaster==0.1 (from py-notifier)\n",
      "  Obtaining dependency information for WinToaster==0.1 from https://files.pythonhosted.org/packages/65/6b/7e1e0ad85b633021391776a9e2ff1a856690c74fabd57abfcc7adcf0f679/WinToaster-0.1.0-py2.py3-none-any.whl.metadata\n",
      "  Downloading WinToaster-0.1.0-py2.py3-none-any.whl.metadata (3.5 kB)\n",
      "Requirement already satisfied: pywin32 in c:\\users\\samee\\anaconda3\\lib\\site-packages (from WinToaster==0.1->py-notifier) (305.1)\n",
      "Requirement already satisfied: setuptools in c:\\users\\samee\\anaconda3\\lib\\site-packages (from WinToaster==0.1->py-notifier) (68.0.0)\n",
      "Downloading py_notifier-0.5.0-py3-none-any.whl (10 kB)\n",
      "Downloading WinToaster-0.1.0-py2.py3-none-any.whl (22 kB)\n",
      "Installing collected packages: WinToaster, py-notifier\n",
      "Successfully installed WinToaster-0.1.0 py-notifier-0.5.0\n",
      "Note: you may need to restart the kernel to use updated packages.\n"
     ]
    }
   ],
   "source": [
    " pip install py-notifier"
   ]
  },
  {
   "cell_type": "code",
   "execution_count": 8,
   "id": "4d74313e-2ff0-45d5-8347-8b4bf0effed4",
   "metadata": {},
   "outputs": [
    {
     "ename": "AttributeError",
     "evalue": "'Notification' object has no attribute 'send'",
     "output_type": "error",
     "traceback": [
      "\u001b[1;31m---------------------------------------------------------------------------\u001b[0m",
      "\u001b[1;31mAttributeError\u001b[0m                            Traceback (most recent call last)",
      "Cell \u001b[1;32mIn[8], line 8\u001b[0m\n\u001b[0;32m      1\u001b[0m \u001b[38;5;28;01mfrom\u001b[39;00m \u001b[38;5;21;01mpynotifier\u001b[39;00m \u001b[38;5;28;01mimport\u001b[39;00m Notification\n\u001b[0;32m      3\u001b[0m Notification(\n\u001b[0;32m      4\u001b[0m         title\u001b[38;5;241m=\u001b[39m\u001b[38;5;124m\"\u001b[39m\u001b[38;5;124mBattery Low\u001b[39m\u001b[38;5;124m\"\u001b[39m,\n\u001b[0;32m      5\u001b[0m         description\u001b[38;5;241m=\u001b[39m\u001b[38;5;124m'\u001b[39m\u001b[38;5;124mhello\u001b[39m\u001b[38;5;124m'\u001b[39m,\n\u001b[0;32m      6\u001b[0m         duration\u001b[38;5;241m=\u001b[39m\u001b[38;5;241m5\u001b[39m,  \u001b[38;5;66;03m# Duration in seconds\u001b[39;00m\n\u001b[0;32m      7\u001b[0m         \n\u001b[1;32m----> 8\u001b[0m )\u001b[38;5;241m.\u001b[39msend()\n",
      "\u001b[1;31mAttributeError\u001b[0m: 'Notification' object has no attribute 'send'"
     ]
    }
   ],
   "source": [
    "\n",
    "from pynotifier import Notification\n",
    "\n",
    "Notification(\n",
    "        title=\"Battery Low\",\n",
    "        description='hello',\n",
    "        duration=5,  # Duration in seconds\n",
    "        \n",
    ").send()\n"
   ]
  },
  {
   "cell_type": "code",
   "execution_count": 11,
   "id": "9e271b33-c3cc-470a-9095-b549295c41f9",
   "metadata": {},
   "outputs": [],
   "source": [
    "from plyer import notification\n",
    "\n",
    "notification.notify(\n",
    "    title=\"check\",\n",
    "    message=\"hello\",\n",
    "    timeout=5  # Duration in seconds\n",
    ")\n"
   ]
  },
  {
   "cell_type": "code",
   "execution_count": 19,
   "id": "7bddd324-2367-407f-a169-79aaa847c333",
   "metadata": {},
   "outputs": [],
   "source": [
    "import psutil\n",
    "battery = psutil.sensors_battery()\n",
    "plugged = battery.power_plugged\n",
    "percent = battery.percent"
   ]
  },
  {
   "cell_type": "code",
   "execution_count": 20,
   "id": "283bc004-135b-45b8-96f4-f7d1559041a8",
   "metadata": {},
   "outputs": [],
   "source": [
    "from plyer import notification\n",
    "\n",
    "notification.notify(\n",
    "    title=\"check\",\n",
    "    message=f'Your battery is {percent} left!',\n",
    "    timeout=5  # Duration in seconds\n",
    ")"
   ]
  },
  {
   "cell_type": "code",
   "execution_count": null,
   "id": "91d5b0ae-c9f6-4431-9c97-34ae1b05cf7f",
   "metadata": {},
   "outputs": [],
   "source": [
    "import tkinter as tk\n",
    "\n",
    "def on_button_click():\n",
    "    print(\"Button clicked!\")\n",
    "\n",
    "root = tk.Tk()\n",
    "root.title(\"Floating Button\")\n",
    "root.geometry(\"100x100+100+100\")\n",
    "root.attributes(\"-topmost\", True)\n",
    "root.overrideredirect(True)  # Remove window decorations\n",
    "\n",
    "# Set transparency (alpha) level (0-1)\n",
    "root.attributes(\"-alpha\", 0.7)\n",
    "\n",
    "button = tk.Button(root, text=\"Click Me\", command=on_button_click)\n",
    "button.pack(expand=True)\n",
    "\n",
    "root.mainloop()\n"
   ]
  },
  {
   "cell_type": "code",
   "execution_count": null,
   "id": "9dbdf63b-1c2d-4212-8584-5916391a522e",
   "metadata": {},
   "outputs": [],
   "source": []
  }
 ],
 "metadata": {
  "kernelspec": {
   "display_name": "Python 3 (ipykernel)",
   "language": "python",
   "name": "python3"
  },
  "language_info": {
   "codemirror_mode": {
    "name": "ipython",
    "version": 3
   },
   "file_extension": ".py",
   "mimetype": "text/x-python",
   "name": "python",
   "nbconvert_exporter": "python",
   "pygments_lexer": "ipython3",
   "version": "3.11.5"
  }
 },
 "nbformat": 4,
 "nbformat_minor": 5
}
