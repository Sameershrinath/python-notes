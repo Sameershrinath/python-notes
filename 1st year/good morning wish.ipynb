{
 "cells": [
  {
   "cell_type": "code",
   "execution_count": 13,
   "id": "84de2874-600a-4fb1-bbe3-482729ad56b9",
   "metadata": {},
   "outputs": [
    {
     "name": "stdout",
     "output_type": "stream",
     "text": [
      "Time is 2024-04-08 13:45:35.129230\n",
      "Good Afternoon\n"
     ]
    }
   ],
   "source": [
    "from datetime import datetime\n",
    "\n",
    "current = datetime.now()\n",
    "hour = current.hour  # Extract the hour directly from the datetime object\n",
    "print(f'Time is {current}')\n",
    "if 3 <= hour < 12:\n",
    "    print(\"Good Morning Sir!\")\n",
    "elif 12 <= hour < 16:\n",
    "    print('Good Afternoon')\n",
    "elif 16 <= hour < 21:\n",
    "    print('Good Evening')\n",
    "else:\n",
    "    print(\"Good Night\")\n"
   ]
  },
  {
   "cell_type": "code",
   "execution_count": 2,
   "id": "864e73c1-003a-4c2e-9645-f66b8c989bc1",
   "metadata": {},
   "outputs": [],
   "source": [
    "#speech tool \n",
    "\n",
    "import speech_recognition as sr\n",
    "import pyttsx3\n",
    "\n",
    "engine = pyttsx3.init()\n",
    "\n",
    "def speak(text):\n",
    "     engine.say(text)\n",
    "     engine.runAndWait()\n",
    "input1=input(\"enter the text to speech\")\n",
    "speak(input1)\n",
    "\n"
   ]
  },
  {
   "cell_type": "code",
   "execution_count": 14,
   "id": "75ed5c50-fb1f-45a3-a7ef-a9f41b71ee4f",
   "metadata": {},
   "outputs": [
    {
     "name": "stdout",
     "output_type": "stream",
     "text": [
      "Time is 2024-04-08 13:49:36.196226\n",
      "Good Afternoon\n"
     ]
    }
   ],
   "source": [
    "from datetime import datetime\n",
    "\n",
    "import speech_recognition as sr\n",
    "import pyttsx3\n",
    "\n",
    "engine = pyttsx3.init()\n",
    "def speak(text):\n",
    "     engine.say(text)\n",
    "     engine.runAndWait()\n",
    "\n",
    "current = datetime.now()\n",
    "hour = current.hour  # Extract the hour directly from the datetime object\n",
    "print(f'Time is {current}')\n",
    "if 3 <= hour < 12:\n",
    "    print(\"Good Morning Sir!\")\n",
    "    speak(\"Good Morning Sir\")\n",
    "elif 12 <= hour < 16:\n",
    "    print('Good Afternoon')\n",
    "    speak(\"Good Afternoon Sir\")\n",
    "elif 16 <= hour < 21:\n",
    "    print('Good Evening')\n",
    "    speak(\"Good Evening Sir\")\n",
    "else:\n",
    "    print(\"Good Night\")\n",
    "    speak(\"Good Night Sir\")\n"
   ]
  },
  {
   "cell_type": "code",
   "execution_count": null,
   "id": "70cb6544-475d-4adf-82ce-383345781a10",
   "metadata": {},
   "outputs": [],
   "source": []
  }
 ],
 "metadata": {
  "kernelspec": {
   "display_name": "Python 3 (ipykernel)",
   "language": "python",
   "name": "python3"
  },
  "language_info": {
   "codemirror_mode": {
    "name": "ipython",
    "version": 3
   },
   "file_extension": ".py",
   "mimetype": "text/x-python",
   "name": "python",
   "nbconvert_exporter": "python",
   "pygments_lexer": "ipython3",
   "version": "3.11.5"
  }
 },
 "nbformat": 4,
 "nbformat_minor": 5
}
